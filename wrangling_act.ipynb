{
 "cells": [
  {
   "cell_type": "markdown",
   "id": "8739fd00",
   "metadata": {},
   "source": [
    "\n",
    "# Project: WeRateDogs Data Wrangling & Analysis\n",
    "\n",
    "## Table of Contents\n",
    "<ul>\n",
    "<li><a href=\"#intro\">Introduction</a></li>\n",
    "<li><a href=\"#wrangling\">Data Wrangling</a></li>\n",
    "<li><a href=\"#eda\">Exploratory Data Analysis</a></li>\n",
    "<li><a href=\"#store\">Storage</a></li>\n",
    "<li><a href=\"#conclusions\">Conclusions</a></li>\n",
    "</ul>"
   ]
  },
  {
   "cell_type": "markdown",
   "id": "c94b3347",
   "metadata": {},
   "source": [
    "<a id='intro'></a>\n",
    "## Introduction\n",
    "\n",
    "> In this project, we will be wrangling data from WeRateDogs with Twitter account, @dog_rates. Tweets from this account rates people's dogs with humorous comments about the dog, with most dogs scoring above 10/10 because _'they are good dogs..'_. This project mainly assesses data wrangling skills but our tidy data  will also be analyzed on _retweets count_, _likes count_ and _ratings._\n",
    "\n",
    "\n",
    "### _Questions_\n",
    "- __What is the most popular breed of dog?__\n",
    "- __What factors determine likes count and retweets count?__\n",
    "\n",
    "\n",
    "_These questions will be addressed by the following sub-questions:_\n",
    "\n",
    "> 1. What is the correlation between likes count and retweets count?\n",
    "2. What is the most common dog name?\n",
    "3. What is the most used tweet source?\n",
    "4. Which dog stage got the most likes and retweets?\n",
    "5. Which dog breed got the most likes and retweets?\n",
    "6. Which month(s) had the highest retweets and likes?\n",
    "7. Do tweets with higher scores (ratings) get better retweets and likes?\n",
    "* _*Which dog is the most popular?_"
   ]
  },
  {
   "cell_type": "markdown",
   "id": "6452ff87",
   "metadata": {},
   "source": [
    "<a id='wrangling'></a>\n",
    "## Data Wrangling\n",
    "> We will __gather__ all the data needed, visually and programmatically __assess__ the dataset for content and structural issues, and then __clean__ the data using the `define`, `code` and `test` process."
   ]
  },
  {
   "cell_type": "markdown",
   "id": "5fabdbd4",
   "metadata": {},
   "source": [
    "### Gather"
   ]
  },
  {
   "cell_type": "code",
   "execution_count": 1,
   "id": "27d3cf22",
   "metadata": {},
   "outputs": [],
   "source": [
    "# Import packages to be used\n",
    "\n",
    "import pandas as pd\n",
    "import numpy as np\n",
    "import tweepy as tp\n",
    "import requests\n",
    "import os\n",
    "import json\n",
    "import matplotlib.pyplot as plt\n",
    "import seaborn as sns\n",
    "%matplotlib inline\n",
    "sns.set_style('darkgrid')"
   ]
  },
  {
   "cell_type": "markdown",
   "id": "abe6a702",
   "metadata": {},
   "source": [
    "# Programmatically download the image predictions file\n",
    "\n",
    "folder_name = 'Project 2'\n",
    "url = 'https://d17h27t6h515a5.cloudfront.net/topher/2017/August/599fd2ad_image-predictions/image-predictions.tsv'\n",
    "response = requests.get(url)\n",
    "\n",
    "with open(os.path.join(folder_name, url.split('/')[-1]), mode='wb') as file:\n",
    "    file.write(response.content)"
   ]
  },
  {
   "cell_type": "code",
   "execution_count": 2,
   "id": "fc163547",
   "metadata": {},
   "outputs": [],
   "source": [
    "# Read in manually downloaded twitter archive data & TSV file\n",
    "\n",
    "df_tweets = pd.read_csv('twitter-archive-enhanced.csv')\n",
    "df_images = pd.read_csv('image-predictions.tsv', sep='\\t')"
   ]
  },
  {
   "cell_type": "markdown",
   "id": "4c58ba9f",
   "metadata": {},
   "source": [
    "# Create the Twitter API object\n",
    "\n",
    "consumer_key = '*****'\n",
    "consumer_secret = '*****'\n",
    "access_token = '*****'\n",
    "access_secret = '*****'\n",
    "\n",
    "auth = tp.OAuthHandler(consumer_key, consumer_secret)\n",
    "auth.set_access_token(access_token, access_secret)\n",
    "\n",
    "api = tp.API(auth, wait_on_rate_limit=True)"
   ]
  },
  {
   "cell_type": "markdown",
   "id": "29c8a03e",
   "metadata": {},
   "source": [
    "# Query Twitter API for tweet IDs in the archive & save each JSON data as a new line in a text file\n",
    "\n",
    "error_for_id = []\n",
    "with open('tweet_json.txt', encoding='utf=8', mode='w') as file:\n",
    "    for id_tweet in list(df_tweets.tweet_id):\n",
    "        try:\n",
    "            tweet = api.get_status(id_tweet, tweet_mode = 'extended')\n",
    "            json.dump(tweet._json, file)\n",
    "            file.write('\\n')\n",
    "        except:\n",
    "            error_for_id.append(id_tweet)\n",
    "            print('Failed', id_tweet)"
   ]
  },
  {
   "cell_type": "code",
   "execution_count": 3,
   "id": "56268ed7",
   "metadata": {
    "scrolled": true
   },
   "outputs": [
    {
     "data": {
      "text/html": [
       "<div>\n",
       "<style scoped>\n",
       "    .dataframe tbody tr th:only-of-type {\n",
       "        vertical-align: middle;\n",
       "    }\n",
       "\n",
       "    .dataframe tbody tr th {\n",
       "        vertical-align: top;\n",
       "    }\n",
       "\n",
       "    .dataframe thead th {\n",
       "        text-align: right;\n",
       "    }\n",
       "</style>\n",
       "<table border=\"1\" class=\"dataframe\">\n",
       "  <thead>\n",
       "    <tr style=\"text-align: right;\">\n",
       "      <th></th>\n",
       "      <th>created_at</th>\n",
       "      <th>id</th>\n",
       "      <th>id_str</th>\n",
       "      <th>full_text</th>\n",
       "      <th>truncated</th>\n",
       "      <th>display_text_range</th>\n",
       "      <th>entities</th>\n",
       "      <th>extended_entities</th>\n",
       "      <th>source</th>\n",
       "      <th>in_reply_to_status_id</th>\n",
       "      <th>...</th>\n",
       "      <th>favorited</th>\n",
       "      <th>retweeted</th>\n",
       "      <th>possibly_sensitive</th>\n",
       "      <th>possibly_sensitive_appealable</th>\n",
       "      <th>lang</th>\n",
       "      <th>retweeted_status</th>\n",
       "      <th>quoted_status_id</th>\n",
       "      <th>quoted_status_id_str</th>\n",
       "      <th>quoted_status_permalink</th>\n",
       "      <th>quoted_status</th>\n",
       "    </tr>\n",
       "  </thead>\n",
       "  <tbody>\n",
       "    <tr>\n",
       "      <th>0</th>\n",
       "      <td>2017-08-01 16:23:56+00:00</td>\n",
       "      <td>892420643555336193</td>\n",
       "      <td>892420643555336192</td>\n",
       "      <td>This is Phineas. He's a mystical boy. Only eve...</td>\n",
       "      <td>False</td>\n",
       "      <td>[0, 85]</td>\n",
       "      <td>{'hashtags': [], 'symbols': [], 'user_mentions...</td>\n",
       "      <td>{'media': [{'id': 892420639486877696, 'id_str'...</td>\n",
       "      <td>&lt;a href=\"http://twitter.com/download/iphone\" r...</td>\n",
       "      <td>NaN</td>\n",
       "      <td>...</td>\n",
       "      <td>False</td>\n",
       "      <td>False</td>\n",
       "      <td>0.0</td>\n",
       "      <td>0.0</td>\n",
       "      <td>en</td>\n",
       "      <td>NaN</td>\n",
       "      <td>NaN</td>\n",
       "      <td>NaN</td>\n",
       "      <td>NaN</td>\n",
       "      <td>NaN</td>\n",
       "    </tr>\n",
       "    <tr>\n",
       "      <th>1</th>\n",
       "      <td>2017-08-01 00:17:27+00:00</td>\n",
       "      <td>892177421306343426</td>\n",
       "      <td>892177421306343424</td>\n",
       "      <td>This is Tilly. She's just checking pup on you....</td>\n",
       "      <td>False</td>\n",
       "      <td>[0, 138]</td>\n",
       "      <td>{'hashtags': [], 'symbols': [], 'user_mentions...</td>\n",
       "      <td>{'media': [{'id': 892177413194625024, 'id_str'...</td>\n",
       "      <td>&lt;a href=\"http://twitter.com/download/iphone\" r...</td>\n",
       "      <td>NaN</td>\n",
       "      <td>...</td>\n",
       "      <td>False</td>\n",
       "      <td>False</td>\n",
       "      <td>0.0</td>\n",
       "      <td>0.0</td>\n",
       "      <td>en</td>\n",
       "      <td>NaN</td>\n",
       "      <td>NaN</td>\n",
       "      <td>NaN</td>\n",
       "      <td>NaN</td>\n",
       "      <td>NaN</td>\n",
       "    </tr>\n",
       "    <tr>\n",
       "      <th>2</th>\n",
       "      <td>2017-07-31 00:18:03+00:00</td>\n",
       "      <td>891815181378084864</td>\n",
       "      <td>891815181378084864</td>\n",
       "      <td>This is Archie. He is a rare Norwegian Pouncin...</td>\n",
       "      <td>False</td>\n",
       "      <td>[0, 121]</td>\n",
       "      <td>{'hashtags': [], 'symbols': [], 'user_mentions...</td>\n",
       "      <td>{'media': [{'id': 891815175371796480, 'id_str'...</td>\n",
       "      <td>&lt;a href=\"http://twitter.com/download/iphone\" r...</td>\n",
       "      <td>NaN</td>\n",
       "      <td>...</td>\n",
       "      <td>False</td>\n",
       "      <td>False</td>\n",
       "      <td>0.0</td>\n",
       "      <td>0.0</td>\n",
       "      <td>en</td>\n",
       "      <td>NaN</td>\n",
       "      <td>NaN</td>\n",
       "      <td>NaN</td>\n",
       "      <td>NaN</td>\n",
       "      <td>NaN</td>\n",
       "    </tr>\n",
       "    <tr>\n",
       "      <th>3</th>\n",
       "      <td>2017-07-30 15:58:51+00:00</td>\n",
       "      <td>891689557279858688</td>\n",
       "      <td>891689557279858688</td>\n",
       "      <td>This is Darla. She commenced a snooze mid meal...</td>\n",
       "      <td>False</td>\n",
       "      <td>[0, 79]</td>\n",
       "      <td>{'hashtags': [], 'symbols': [], 'user_mentions...</td>\n",
       "      <td>{'media': [{'id': 891689552724799489, 'id_str'...</td>\n",
       "      <td>&lt;a href=\"http://twitter.com/download/iphone\" r...</td>\n",
       "      <td>NaN</td>\n",
       "      <td>...</td>\n",
       "      <td>False</td>\n",
       "      <td>False</td>\n",
       "      <td>0.0</td>\n",
       "      <td>0.0</td>\n",
       "      <td>en</td>\n",
       "      <td>NaN</td>\n",
       "      <td>NaN</td>\n",
       "      <td>NaN</td>\n",
       "      <td>NaN</td>\n",
       "      <td>NaN</td>\n",
       "    </tr>\n",
       "    <tr>\n",
       "      <th>4</th>\n",
       "      <td>2017-07-29 16:00:24+00:00</td>\n",
       "      <td>891327558926688256</td>\n",
       "      <td>891327558926688256</td>\n",
       "      <td>This is Franklin. He would like you to stop ca...</td>\n",
       "      <td>False</td>\n",
       "      <td>[0, 138]</td>\n",
       "      <td>{'hashtags': [{'text': 'BarkWeek', 'indices': ...</td>\n",
       "      <td>{'media': [{'id': 891327551943041024, 'id_str'...</td>\n",
       "      <td>&lt;a href=\"http://twitter.com/download/iphone\" r...</td>\n",
       "      <td>NaN</td>\n",
       "      <td>...</td>\n",
       "      <td>False</td>\n",
       "      <td>False</td>\n",
       "      <td>0.0</td>\n",
       "      <td>0.0</td>\n",
       "      <td>en</td>\n",
       "      <td>NaN</td>\n",
       "      <td>NaN</td>\n",
       "      <td>NaN</td>\n",
       "      <td>NaN</td>\n",
       "      <td>NaN</td>\n",
       "    </tr>\n",
       "  </tbody>\n",
       "</table>\n",
       "<p>5 rows × 32 columns</p>\n",
       "</div>"
      ],
      "text/plain": [
       "                 created_at                  id              id_str  \\\n",
       "0 2017-08-01 16:23:56+00:00  892420643555336193  892420643555336192   \n",
       "1 2017-08-01 00:17:27+00:00  892177421306343426  892177421306343424   \n",
       "2 2017-07-31 00:18:03+00:00  891815181378084864  891815181378084864   \n",
       "3 2017-07-30 15:58:51+00:00  891689557279858688  891689557279858688   \n",
       "4 2017-07-29 16:00:24+00:00  891327558926688256  891327558926688256   \n",
       "\n",
       "                                           full_text  truncated  \\\n",
       "0  This is Phineas. He's a mystical boy. Only eve...      False   \n",
       "1  This is Tilly. She's just checking pup on you....      False   \n",
       "2  This is Archie. He is a rare Norwegian Pouncin...      False   \n",
       "3  This is Darla. She commenced a snooze mid meal...      False   \n",
       "4  This is Franklin. He would like you to stop ca...      False   \n",
       "\n",
       "  display_text_range                                           entities  \\\n",
       "0            [0, 85]  {'hashtags': [], 'symbols': [], 'user_mentions...   \n",
       "1           [0, 138]  {'hashtags': [], 'symbols': [], 'user_mentions...   \n",
       "2           [0, 121]  {'hashtags': [], 'symbols': [], 'user_mentions...   \n",
       "3            [0, 79]  {'hashtags': [], 'symbols': [], 'user_mentions...   \n",
       "4           [0, 138]  {'hashtags': [{'text': 'BarkWeek', 'indices': ...   \n",
       "\n",
       "                                   extended_entities  \\\n",
       "0  {'media': [{'id': 892420639486877696, 'id_str'...   \n",
       "1  {'media': [{'id': 892177413194625024, 'id_str'...   \n",
       "2  {'media': [{'id': 891815175371796480, 'id_str'...   \n",
       "3  {'media': [{'id': 891689552724799489, 'id_str'...   \n",
       "4  {'media': [{'id': 891327551943041024, 'id_str'...   \n",
       "\n",
       "                                              source  in_reply_to_status_id  \\\n",
       "0  <a href=\"http://twitter.com/download/iphone\" r...                    NaN   \n",
       "1  <a href=\"http://twitter.com/download/iphone\" r...                    NaN   \n",
       "2  <a href=\"http://twitter.com/download/iphone\" r...                    NaN   \n",
       "3  <a href=\"http://twitter.com/download/iphone\" r...                    NaN   \n",
       "4  <a href=\"http://twitter.com/download/iphone\" r...                    NaN   \n",
       "\n",
       "   ...  favorited  retweeted  possibly_sensitive  \\\n",
       "0  ...      False      False                 0.0   \n",
       "1  ...      False      False                 0.0   \n",
       "2  ...      False      False                 0.0   \n",
       "3  ...      False      False                 0.0   \n",
       "4  ...      False      False                 0.0   \n",
       "\n",
       "  possibly_sensitive_appealable lang  retweeted_status  quoted_status_id  \\\n",
       "0                           0.0   en               NaN               NaN   \n",
       "1                           0.0   en               NaN               NaN   \n",
       "2                           0.0   en               NaN               NaN   \n",
       "3                           0.0   en               NaN               NaN   \n",
       "4                           0.0   en               NaN               NaN   \n",
       "\n",
       "  quoted_status_id_str  quoted_status_permalink  quoted_status  \n",
       "0                  NaN                      NaN            NaN  \n",
       "1                  NaN                      NaN            NaN  \n",
       "2                  NaN                      NaN            NaN  \n",
       "3                  NaN                      NaN            NaN  \n",
       "4                  NaN                      NaN            NaN  \n",
       "\n",
       "[5 rows x 32 columns]"
      ]
     },
     "execution_count": 3,
     "metadata": {},
     "output_type": "execute_result"
    }
   ],
   "source": [
    "# Preview entries of the tweet data for additional columns of interest\n",
    "\n",
    "tweet_json = pd.read_json('tweet_json.txt', lines=True)\n",
    "tweet_json.head()"
   ]
  },
  {
   "cell_type": "code",
   "execution_count": 4,
   "id": "86aa8a1d",
   "metadata": {},
   "outputs": [],
   "source": [
    "# Load the JSON data from the text file and read the data line by line into a dictionary list\n",
    "\n",
    "df_list = []\n",
    "with open('tweet_json.txt', 'r', encoding='utf=8') as file:\n",
    "    for line in file:\n",
    "        tweet = json.loads(line)\n",
    "        df_list.append({'tweet_id':tweet['id'], 'retweet_count':tweet['retweet_count'],\n",
    "                           'like_count':tweet['favorite_count']})\n",
    "            \n",
    "# Create a dataframe from the list of dictionaries\n",
    "\n",
    "df_counts = pd.DataFrame(df_list, columns = ['tweet_id', 'retweet_count', 'like_count'])"
   ]
  },
  {
   "cell_type": "markdown",
   "id": "a40dbda7",
   "metadata": {},
   "source": [
    "### Assess"
   ]
  },
  {
   "cell_type": "code",
   "execution_count": 5,
   "id": "d588edb2",
   "metadata": {
    "scrolled": true
   },
   "outputs": [
    {
     "data": {
      "text/html": [
       "<div>\n",
       "<style scoped>\n",
       "    .dataframe tbody tr th:only-of-type {\n",
       "        vertical-align: middle;\n",
       "    }\n",
       "\n",
       "    .dataframe tbody tr th {\n",
       "        vertical-align: top;\n",
       "    }\n",
       "\n",
       "    .dataframe thead th {\n",
       "        text-align: right;\n",
       "    }\n",
       "</style>\n",
       "<table border=\"1\" class=\"dataframe\">\n",
       "  <thead>\n",
       "    <tr style=\"text-align: right;\">\n",
       "      <th></th>\n",
       "      <th>tweet_id</th>\n",
       "      <th>retweet_count</th>\n",
       "      <th>like_count</th>\n",
       "    </tr>\n",
       "  </thead>\n",
       "  <tbody>\n",
       "    <tr>\n",
       "      <th>0</th>\n",
       "      <td>892420643555336193</td>\n",
       "      <td>7015</td>\n",
       "      <td>33834</td>\n",
       "    </tr>\n",
       "    <tr>\n",
       "      <th>1</th>\n",
       "      <td>892177421306343426</td>\n",
       "      <td>5302</td>\n",
       "      <td>29351</td>\n",
       "    </tr>\n",
       "    <tr>\n",
       "      <th>2</th>\n",
       "      <td>891815181378084864</td>\n",
       "      <td>3483</td>\n",
       "      <td>22070</td>\n",
       "    </tr>\n",
       "    <tr>\n",
       "      <th>3</th>\n",
       "      <td>891689557279858688</td>\n",
       "      <td>7229</td>\n",
       "      <td>36962</td>\n",
       "    </tr>\n",
       "    <tr>\n",
       "      <th>4</th>\n",
       "      <td>891327558926688256</td>\n",
       "      <td>7768</td>\n",
       "      <td>35337</td>\n",
       "    </tr>\n",
       "    <tr>\n",
       "      <th>...</th>\n",
       "      <td>...</td>\n",
       "      <td>...</td>\n",
       "      <td>...</td>\n",
       "    </tr>\n",
       "    <tr>\n",
       "      <th>2322</th>\n",
       "      <td>666049248165822465</td>\n",
       "      <td>37</td>\n",
       "      <td>89</td>\n",
       "    </tr>\n",
       "    <tr>\n",
       "      <th>2323</th>\n",
       "      <td>666044226329800704</td>\n",
       "      <td>115</td>\n",
       "      <td>246</td>\n",
       "    </tr>\n",
       "    <tr>\n",
       "      <th>2324</th>\n",
       "      <td>666033412701032449</td>\n",
       "      <td>36</td>\n",
       "      <td>99</td>\n",
       "    </tr>\n",
       "    <tr>\n",
       "      <th>2325</th>\n",
       "      <td>666029285002620928</td>\n",
       "      <td>39</td>\n",
       "      <td>112</td>\n",
       "    </tr>\n",
       "    <tr>\n",
       "      <th>2326</th>\n",
       "      <td>666020888022790149</td>\n",
       "      <td>423</td>\n",
       "      <td>2294</td>\n",
       "    </tr>\n",
       "  </tbody>\n",
       "</table>\n",
       "<p>2327 rows × 3 columns</p>\n",
       "</div>"
      ],
      "text/plain": [
       "                tweet_id  retweet_count  like_count\n",
       "0     892420643555336193           7015       33834\n",
       "1     892177421306343426           5302       29351\n",
       "2     891815181378084864           3483       22070\n",
       "3     891689557279858688           7229       36962\n",
       "4     891327558926688256           7768       35337\n",
       "...                  ...            ...         ...\n",
       "2322  666049248165822465             37          89\n",
       "2323  666044226329800704            115         246\n",
       "2324  666033412701032449             36          99\n",
       "2325  666029285002620928             39         112\n",
       "2326  666020888022790149            423        2294\n",
       "\n",
       "[2327 rows x 3 columns]"
      ]
     },
     "execution_count": 5,
     "metadata": {},
     "output_type": "execute_result"
    }
   ],
   "source": [
    "# Preview the counts dataset\n",
    "\n",
    "df_counts"
   ]
  },
  {
   "cell_type": "code",
   "execution_count": 6,
   "id": "25aa66c3",
   "metadata": {
    "scrolled": true
   },
   "outputs": [
    {
     "data": {
      "text/html": [
       "<div>\n",
       "<style scoped>\n",
       "    .dataframe tbody tr th:only-of-type {\n",
       "        vertical-align: middle;\n",
       "    }\n",
       "\n",
       "    .dataframe tbody tr th {\n",
       "        vertical-align: top;\n",
       "    }\n",
       "\n",
       "    .dataframe thead th {\n",
       "        text-align: right;\n",
       "    }\n",
       "</style>\n",
       "<table border=\"1\" class=\"dataframe\">\n",
       "  <thead>\n",
       "    <tr style=\"text-align: right;\">\n",
       "      <th></th>\n",
       "      <th>tweet_id</th>\n",
       "      <th>in_reply_to_status_id</th>\n",
       "      <th>in_reply_to_user_id</th>\n",
       "      <th>timestamp</th>\n",
       "      <th>source</th>\n",
       "      <th>text</th>\n",
       "      <th>retweeted_status_id</th>\n",
       "      <th>retweeted_status_user_id</th>\n",
       "      <th>retweeted_status_timestamp</th>\n",
       "      <th>expanded_urls</th>\n",
       "      <th>rating_numerator</th>\n",
       "      <th>rating_denominator</th>\n",
       "      <th>name</th>\n",
       "      <th>doggo</th>\n",
       "      <th>floofer</th>\n",
       "      <th>pupper</th>\n",
       "      <th>puppo</th>\n",
       "    </tr>\n",
       "  </thead>\n",
       "  <tbody>\n",
       "    <tr>\n",
       "      <th>0</th>\n",
       "      <td>892420643555336193</td>\n",
       "      <td>NaN</td>\n",
       "      <td>NaN</td>\n",
       "      <td>2017-08-01 16:23:56 +0000</td>\n",
       "      <td>&lt;a href=\"http://twitter.com/download/iphone\" r...</td>\n",
       "      <td>This is Phineas. He's a mystical boy. Only eve...</td>\n",
       "      <td>NaN</td>\n",
       "      <td>NaN</td>\n",
       "      <td>NaN</td>\n",
       "      <td>https://twitter.com/dog_rates/status/892420643...</td>\n",
       "      <td>13</td>\n",
       "      <td>10</td>\n",
       "      <td>Phineas</td>\n",
       "      <td>None</td>\n",
       "      <td>None</td>\n",
       "      <td>None</td>\n",
       "      <td>None</td>\n",
       "    </tr>\n",
       "    <tr>\n",
       "      <th>1</th>\n",
       "      <td>892177421306343426</td>\n",
       "      <td>NaN</td>\n",
       "      <td>NaN</td>\n",
       "      <td>2017-08-01 00:17:27 +0000</td>\n",
       "      <td>&lt;a href=\"http://twitter.com/download/iphone\" r...</td>\n",
       "      <td>This is Tilly. She's just checking pup on you....</td>\n",
       "      <td>NaN</td>\n",
       "      <td>NaN</td>\n",
       "      <td>NaN</td>\n",
       "      <td>https://twitter.com/dog_rates/status/892177421...</td>\n",
       "      <td>13</td>\n",
       "      <td>10</td>\n",
       "      <td>Tilly</td>\n",
       "      <td>None</td>\n",
       "      <td>None</td>\n",
       "      <td>None</td>\n",
       "      <td>None</td>\n",
       "    </tr>\n",
       "    <tr>\n",
       "      <th>2</th>\n",
       "      <td>891815181378084864</td>\n",
       "      <td>NaN</td>\n",
       "      <td>NaN</td>\n",
       "      <td>2017-07-31 00:18:03 +0000</td>\n",
       "      <td>&lt;a href=\"http://twitter.com/download/iphone\" r...</td>\n",
       "      <td>This is Archie. He is a rare Norwegian Pouncin...</td>\n",
       "      <td>NaN</td>\n",
       "      <td>NaN</td>\n",
       "      <td>NaN</td>\n",
       "      <td>https://twitter.com/dog_rates/status/891815181...</td>\n",
       "      <td>12</td>\n",
       "      <td>10</td>\n",
       "      <td>Archie</td>\n",
       "      <td>None</td>\n",
       "      <td>None</td>\n",
       "      <td>None</td>\n",
       "      <td>None</td>\n",
       "    </tr>\n",
       "    <tr>\n",
       "      <th>3</th>\n",
       "      <td>891689557279858688</td>\n",
       "      <td>NaN</td>\n",
       "      <td>NaN</td>\n",
       "      <td>2017-07-30 15:58:51 +0000</td>\n",
       "      <td>&lt;a href=\"http://twitter.com/download/iphone\" r...</td>\n",
       "      <td>This is Darla. She commenced a snooze mid meal...</td>\n",
       "      <td>NaN</td>\n",
       "      <td>NaN</td>\n",
       "      <td>NaN</td>\n",
       "      <td>https://twitter.com/dog_rates/status/891689557...</td>\n",
       "      <td>13</td>\n",
       "      <td>10</td>\n",
       "      <td>Darla</td>\n",
       "      <td>None</td>\n",
       "      <td>None</td>\n",
       "      <td>None</td>\n",
       "      <td>None</td>\n",
       "    </tr>\n",
       "    <tr>\n",
       "      <th>4</th>\n",
       "      <td>891327558926688256</td>\n",
       "      <td>NaN</td>\n",
       "      <td>NaN</td>\n",
       "      <td>2017-07-29 16:00:24 +0000</td>\n",
       "      <td>&lt;a href=\"http://twitter.com/download/iphone\" r...</td>\n",
       "      <td>This is Franklin. He would like you to stop ca...</td>\n",
       "      <td>NaN</td>\n",
       "      <td>NaN</td>\n",
       "      <td>NaN</td>\n",
       "      <td>https://twitter.com/dog_rates/status/891327558...</td>\n",
       "      <td>12</td>\n",
       "      <td>10</td>\n",
       "      <td>Franklin</td>\n",
       "      <td>None</td>\n",
       "      <td>None</td>\n",
       "      <td>None</td>\n",
       "      <td>None</td>\n",
       "    </tr>\n",
       "    <tr>\n",
       "      <th>...</th>\n",
       "      <td>...</td>\n",
       "      <td>...</td>\n",
       "      <td>...</td>\n",
       "      <td>...</td>\n",
       "      <td>...</td>\n",
       "      <td>...</td>\n",
       "      <td>...</td>\n",
       "      <td>...</td>\n",
       "      <td>...</td>\n",
       "      <td>...</td>\n",
       "      <td>...</td>\n",
       "      <td>...</td>\n",
       "      <td>...</td>\n",
       "      <td>...</td>\n",
       "      <td>...</td>\n",
       "      <td>...</td>\n",
       "      <td>...</td>\n",
       "    </tr>\n",
       "    <tr>\n",
       "      <th>2351</th>\n",
       "      <td>666049248165822465</td>\n",
       "      <td>NaN</td>\n",
       "      <td>NaN</td>\n",
       "      <td>2015-11-16 00:24:50 +0000</td>\n",
       "      <td>&lt;a href=\"http://twitter.com/download/iphone\" r...</td>\n",
       "      <td>Here we have a 1949 1st generation vulpix. Enj...</td>\n",
       "      <td>NaN</td>\n",
       "      <td>NaN</td>\n",
       "      <td>NaN</td>\n",
       "      <td>https://twitter.com/dog_rates/status/666049248...</td>\n",
       "      <td>5</td>\n",
       "      <td>10</td>\n",
       "      <td>None</td>\n",
       "      <td>None</td>\n",
       "      <td>None</td>\n",
       "      <td>None</td>\n",
       "      <td>None</td>\n",
       "    </tr>\n",
       "    <tr>\n",
       "      <th>2352</th>\n",
       "      <td>666044226329800704</td>\n",
       "      <td>NaN</td>\n",
       "      <td>NaN</td>\n",
       "      <td>2015-11-16 00:04:52 +0000</td>\n",
       "      <td>&lt;a href=\"http://twitter.com/download/iphone\" r...</td>\n",
       "      <td>This is a purebred Piers Morgan. Loves to Netf...</td>\n",
       "      <td>NaN</td>\n",
       "      <td>NaN</td>\n",
       "      <td>NaN</td>\n",
       "      <td>https://twitter.com/dog_rates/status/666044226...</td>\n",
       "      <td>6</td>\n",
       "      <td>10</td>\n",
       "      <td>a</td>\n",
       "      <td>None</td>\n",
       "      <td>None</td>\n",
       "      <td>None</td>\n",
       "      <td>None</td>\n",
       "    </tr>\n",
       "    <tr>\n",
       "      <th>2353</th>\n",
       "      <td>666033412701032449</td>\n",
       "      <td>NaN</td>\n",
       "      <td>NaN</td>\n",
       "      <td>2015-11-15 23:21:54 +0000</td>\n",
       "      <td>&lt;a href=\"http://twitter.com/download/iphone\" r...</td>\n",
       "      <td>Here is a very happy pup. Big fan of well-main...</td>\n",
       "      <td>NaN</td>\n",
       "      <td>NaN</td>\n",
       "      <td>NaN</td>\n",
       "      <td>https://twitter.com/dog_rates/status/666033412...</td>\n",
       "      <td>9</td>\n",
       "      <td>10</td>\n",
       "      <td>a</td>\n",
       "      <td>None</td>\n",
       "      <td>None</td>\n",
       "      <td>None</td>\n",
       "      <td>None</td>\n",
       "    </tr>\n",
       "    <tr>\n",
       "      <th>2354</th>\n",
       "      <td>666029285002620928</td>\n",
       "      <td>NaN</td>\n",
       "      <td>NaN</td>\n",
       "      <td>2015-11-15 23:05:30 +0000</td>\n",
       "      <td>&lt;a href=\"http://twitter.com/download/iphone\" r...</td>\n",
       "      <td>This is a western brown Mitsubishi terrier. Up...</td>\n",
       "      <td>NaN</td>\n",
       "      <td>NaN</td>\n",
       "      <td>NaN</td>\n",
       "      <td>https://twitter.com/dog_rates/status/666029285...</td>\n",
       "      <td>7</td>\n",
       "      <td>10</td>\n",
       "      <td>a</td>\n",
       "      <td>None</td>\n",
       "      <td>None</td>\n",
       "      <td>None</td>\n",
       "      <td>None</td>\n",
       "    </tr>\n",
       "    <tr>\n",
       "      <th>2355</th>\n",
       "      <td>666020888022790149</td>\n",
       "      <td>NaN</td>\n",
       "      <td>NaN</td>\n",
       "      <td>2015-11-15 22:32:08 +0000</td>\n",
       "      <td>&lt;a href=\"http://twitter.com/download/iphone\" r...</td>\n",
       "      <td>Here we have a Japanese Irish Setter. Lost eye...</td>\n",
       "      <td>NaN</td>\n",
       "      <td>NaN</td>\n",
       "      <td>NaN</td>\n",
       "      <td>https://twitter.com/dog_rates/status/666020888...</td>\n",
       "      <td>8</td>\n",
       "      <td>10</td>\n",
       "      <td>None</td>\n",
       "      <td>None</td>\n",
       "      <td>None</td>\n",
       "      <td>None</td>\n",
       "      <td>None</td>\n",
       "    </tr>\n",
       "  </tbody>\n",
       "</table>\n",
       "<p>2356 rows × 17 columns</p>\n",
       "</div>"
      ],
      "text/plain": [
       "                tweet_id  in_reply_to_status_id  in_reply_to_user_id  \\\n",
       "0     892420643555336193                    NaN                  NaN   \n",
       "1     892177421306343426                    NaN                  NaN   \n",
       "2     891815181378084864                    NaN                  NaN   \n",
       "3     891689557279858688                    NaN                  NaN   \n",
       "4     891327558926688256                    NaN                  NaN   \n",
       "...                  ...                    ...                  ...   \n",
       "2351  666049248165822465                    NaN                  NaN   \n",
       "2352  666044226329800704                    NaN                  NaN   \n",
       "2353  666033412701032449                    NaN                  NaN   \n",
       "2354  666029285002620928                    NaN                  NaN   \n",
       "2355  666020888022790149                    NaN                  NaN   \n",
       "\n",
       "                      timestamp  \\\n",
       "0     2017-08-01 16:23:56 +0000   \n",
       "1     2017-08-01 00:17:27 +0000   \n",
       "2     2017-07-31 00:18:03 +0000   \n",
       "3     2017-07-30 15:58:51 +0000   \n",
       "4     2017-07-29 16:00:24 +0000   \n",
       "...                         ...   \n",
       "2351  2015-11-16 00:24:50 +0000   \n",
       "2352  2015-11-16 00:04:52 +0000   \n",
       "2353  2015-11-15 23:21:54 +0000   \n",
       "2354  2015-11-15 23:05:30 +0000   \n",
       "2355  2015-11-15 22:32:08 +0000   \n",
       "\n",
       "                                                 source  \\\n",
       "0     <a href=\"http://twitter.com/download/iphone\" r...   \n",
       "1     <a href=\"http://twitter.com/download/iphone\" r...   \n",
       "2     <a href=\"http://twitter.com/download/iphone\" r...   \n",
       "3     <a href=\"http://twitter.com/download/iphone\" r...   \n",
       "4     <a href=\"http://twitter.com/download/iphone\" r...   \n",
       "...                                                 ...   \n",
       "2351  <a href=\"http://twitter.com/download/iphone\" r...   \n",
       "2352  <a href=\"http://twitter.com/download/iphone\" r...   \n",
       "2353  <a href=\"http://twitter.com/download/iphone\" r...   \n",
       "2354  <a href=\"http://twitter.com/download/iphone\" r...   \n",
       "2355  <a href=\"http://twitter.com/download/iphone\" r...   \n",
       "\n",
       "                                                   text  retweeted_status_id  \\\n",
       "0     This is Phineas. He's a mystical boy. Only eve...                  NaN   \n",
       "1     This is Tilly. She's just checking pup on you....                  NaN   \n",
       "2     This is Archie. He is a rare Norwegian Pouncin...                  NaN   \n",
       "3     This is Darla. She commenced a snooze mid meal...                  NaN   \n",
       "4     This is Franklin. He would like you to stop ca...                  NaN   \n",
       "...                                                 ...                  ...   \n",
       "2351  Here we have a 1949 1st generation vulpix. Enj...                  NaN   \n",
       "2352  This is a purebred Piers Morgan. Loves to Netf...                  NaN   \n",
       "2353  Here is a very happy pup. Big fan of well-main...                  NaN   \n",
       "2354  This is a western brown Mitsubishi terrier. Up...                  NaN   \n",
       "2355  Here we have a Japanese Irish Setter. Lost eye...                  NaN   \n",
       "\n",
       "      retweeted_status_user_id retweeted_status_timestamp  \\\n",
       "0                          NaN                        NaN   \n",
       "1                          NaN                        NaN   \n",
       "2                          NaN                        NaN   \n",
       "3                          NaN                        NaN   \n",
       "4                          NaN                        NaN   \n",
       "...                        ...                        ...   \n",
       "2351                       NaN                        NaN   \n",
       "2352                       NaN                        NaN   \n",
       "2353                       NaN                        NaN   \n",
       "2354                       NaN                        NaN   \n",
       "2355                       NaN                        NaN   \n",
       "\n",
       "                                          expanded_urls  rating_numerator  \\\n",
       "0     https://twitter.com/dog_rates/status/892420643...                13   \n",
       "1     https://twitter.com/dog_rates/status/892177421...                13   \n",
       "2     https://twitter.com/dog_rates/status/891815181...                12   \n",
       "3     https://twitter.com/dog_rates/status/891689557...                13   \n",
       "4     https://twitter.com/dog_rates/status/891327558...                12   \n",
       "...                                                 ...               ...   \n",
       "2351  https://twitter.com/dog_rates/status/666049248...                 5   \n",
       "2352  https://twitter.com/dog_rates/status/666044226...                 6   \n",
       "2353  https://twitter.com/dog_rates/status/666033412...                 9   \n",
       "2354  https://twitter.com/dog_rates/status/666029285...                 7   \n",
       "2355  https://twitter.com/dog_rates/status/666020888...                 8   \n",
       "\n",
       "      rating_denominator      name doggo floofer pupper puppo  \n",
       "0                     10   Phineas  None    None   None  None  \n",
       "1                     10     Tilly  None    None   None  None  \n",
       "2                     10    Archie  None    None   None  None  \n",
       "3                     10     Darla  None    None   None  None  \n",
       "4                     10  Franklin  None    None   None  None  \n",
       "...                  ...       ...   ...     ...    ...   ...  \n",
       "2351                  10      None  None    None   None  None  \n",
       "2352                  10         a  None    None   None  None  \n",
       "2353                  10         a  None    None   None  None  \n",
       "2354                  10         a  None    None   None  None  \n",
       "2355                  10      None  None    None   None  None  \n",
       "\n",
       "[2356 rows x 17 columns]"
      ]
     },
     "execution_count": 6,
     "metadata": {},
     "output_type": "execute_result"
    }
   ],
   "source": [
    "# Preview the tweets dataset\n",
    "\n",
    "df_tweets"
   ]
  },
  {
   "cell_type": "code",
   "execution_count": 7,
   "id": "7842baf1",
   "metadata": {
    "scrolled": true
   },
   "outputs": [
    {
     "data": {
      "text/html": [
       "<div>\n",
       "<style scoped>\n",
       "    .dataframe tbody tr th:only-of-type {\n",
       "        vertical-align: middle;\n",
       "    }\n",
       "\n",
       "    .dataframe tbody tr th {\n",
       "        vertical-align: top;\n",
       "    }\n",
       "\n",
       "    .dataframe thead th {\n",
       "        text-align: right;\n",
       "    }\n",
       "</style>\n",
       "<table border=\"1\" class=\"dataframe\">\n",
       "  <thead>\n",
       "    <tr style=\"text-align: right;\">\n",
       "      <th></th>\n",
       "      <th>tweet_id</th>\n",
       "      <th>jpg_url</th>\n",
       "      <th>img_num</th>\n",
       "      <th>p1</th>\n",
       "      <th>p1_conf</th>\n",
       "      <th>p1_dog</th>\n",
       "      <th>p2</th>\n",
       "      <th>p2_conf</th>\n",
       "      <th>p2_dog</th>\n",
       "      <th>p3</th>\n",
       "      <th>p3_conf</th>\n",
       "      <th>p3_dog</th>\n",
       "    </tr>\n",
       "  </thead>\n",
       "  <tbody>\n",
       "    <tr>\n",
       "      <th>0</th>\n",
       "      <td>666020888022790149</td>\n",
       "      <td>https://pbs.twimg.com/media/CT4udn0WwAA0aMy.jpg</td>\n",
       "      <td>1</td>\n",
       "      <td>Welsh_springer_spaniel</td>\n",
       "      <td>0.465074</td>\n",
       "      <td>True</td>\n",
       "      <td>collie</td>\n",
       "      <td>0.156665</td>\n",
       "      <td>True</td>\n",
       "      <td>Shetland_sheepdog</td>\n",
       "      <td>0.061428</td>\n",
       "      <td>True</td>\n",
       "    </tr>\n",
       "    <tr>\n",
       "      <th>1</th>\n",
       "      <td>666029285002620928</td>\n",
       "      <td>https://pbs.twimg.com/media/CT42GRgUYAA5iDo.jpg</td>\n",
       "      <td>1</td>\n",
       "      <td>redbone</td>\n",
       "      <td>0.506826</td>\n",
       "      <td>True</td>\n",
       "      <td>miniature_pinscher</td>\n",
       "      <td>0.074192</td>\n",
       "      <td>True</td>\n",
       "      <td>Rhodesian_ridgeback</td>\n",
       "      <td>0.072010</td>\n",
       "      <td>True</td>\n",
       "    </tr>\n",
       "    <tr>\n",
       "      <th>2</th>\n",
       "      <td>666033412701032449</td>\n",
       "      <td>https://pbs.twimg.com/media/CT4521TWwAEvMyu.jpg</td>\n",
       "      <td>1</td>\n",
       "      <td>German_shepherd</td>\n",
       "      <td>0.596461</td>\n",
       "      <td>True</td>\n",
       "      <td>malinois</td>\n",
       "      <td>0.138584</td>\n",
       "      <td>True</td>\n",
       "      <td>bloodhound</td>\n",
       "      <td>0.116197</td>\n",
       "      <td>True</td>\n",
       "    </tr>\n",
       "    <tr>\n",
       "      <th>3</th>\n",
       "      <td>666044226329800704</td>\n",
       "      <td>https://pbs.twimg.com/media/CT5Dr8HUEAA-lEu.jpg</td>\n",
       "      <td>1</td>\n",
       "      <td>Rhodesian_ridgeback</td>\n",
       "      <td>0.408143</td>\n",
       "      <td>True</td>\n",
       "      <td>redbone</td>\n",
       "      <td>0.360687</td>\n",
       "      <td>True</td>\n",
       "      <td>miniature_pinscher</td>\n",
       "      <td>0.222752</td>\n",
       "      <td>True</td>\n",
       "    </tr>\n",
       "    <tr>\n",
       "      <th>4</th>\n",
       "      <td>666049248165822465</td>\n",
       "      <td>https://pbs.twimg.com/media/CT5IQmsXIAAKY4A.jpg</td>\n",
       "      <td>1</td>\n",
       "      <td>miniature_pinscher</td>\n",
       "      <td>0.560311</td>\n",
       "      <td>True</td>\n",
       "      <td>Rottweiler</td>\n",
       "      <td>0.243682</td>\n",
       "      <td>True</td>\n",
       "      <td>Doberman</td>\n",
       "      <td>0.154629</td>\n",
       "      <td>True</td>\n",
       "    </tr>\n",
       "    <tr>\n",
       "      <th>...</th>\n",
       "      <td>...</td>\n",
       "      <td>...</td>\n",
       "      <td>...</td>\n",
       "      <td>...</td>\n",
       "      <td>...</td>\n",
       "      <td>...</td>\n",
       "      <td>...</td>\n",
       "      <td>...</td>\n",
       "      <td>...</td>\n",
       "      <td>...</td>\n",
       "      <td>...</td>\n",
       "      <td>...</td>\n",
       "    </tr>\n",
       "    <tr>\n",
       "      <th>2070</th>\n",
       "      <td>891327558926688256</td>\n",
       "      <td>https://pbs.twimg.com/media/DF6hr6BUMAAzZgT.jpg</td>\n",
       "      <td>2</td>\n",
       "      <td>basset</td>\n",
       "      <td>0.555712</td>\n",
       "      <td>True</td>\n",
       "      <td>English_springer</td>\n",
       "      <td>0.225770</td>\n",
       "      <td>True</td>\n",
       "      <td>German_short-haired_pointer</td>\n",
       "      <td>0.175219</td>\n",
       "      <td>True</td>\n",
       "    </tr>\n",
       "    <tr>\n",
       "      <th>2071</th>\n",
       "      <td>891689557279858688</td>\n",
       "      <td>https://pbs.twimg.com/media/DF_q7IAWsAEuuN8.jpg</td>\n",
       "      <td>1</td>\n",
       "      <td>paper_towel</td>\n",
       "      <td>0.170278</td>\n",
       "      <td>False</td>\n",
       "      <td>Labrador_retriever</td>\n",
       "      <td>0.168086</td>\n",
       "      <td>True</td>\n",
       "      <td>spatula</td>\n",
       "      <td>0.040836</td>\n",
       "      <td>False</td>\n",
       "    </tr>\n",
       "    <tr>\n",
       "      <th>2072</th>\n",
       "      <td>891815181378084864</td>\n",
       "      <td>https://pbs.twimg.com/media/DGBdLU1WsAANxJ9.jpg</td>\n",
       "      <td>1</td>\n",
       "      <td>Chihuahua</td>\n",
       "      <td>0.716012</td>\n",
       "      <td>True</td>\n",
       "      <td>malamute</td>\n",
       "      <td>0.078253</td>\n",
       "      <td>True</td>\n",
       "      <td>kelpie</td>\n",
       "      <td>0.031379</td>\n",
       "      <td>True</td>\n",
       "    </tr>\n",
       "    <tr>\n",
       "      <th>2073</th>\n",
       "      <td>892177421306343426</td>\n",
       "      <td>https://pbs.twimg.com/media/DGGmoV4XsAAUL6n.jpg</td>\n",
       "      <td>1</td>\n",
       "      <td>Chihuahua</td>\n",
       "      <td>0.323581</td>\n",
       "      <td>True</td>\n",
       "      <td>Pekinese</td>\n",
       "      <td>0.090647</td>\n",
       "      <td>True</td>\n",
       "      <td>papillon</td>\n",
       "      <td>0.068957</td>\n",
       "      <td>True</td>\n",
       "    </tr>\n",
       "    <tr>\n",
       "      <th>2074</th>\n",
       "      <td>892420643555336193</td>\n",
       "      <td>https://pbs.twimg.com/media/DGKD1-bXoAAIAUK.jpg</td>\n",
       "      <td>1</td>\n",
       "      <td>orange</td>\n",
       "      <td>0.097049</td>\n",
       "      <td>False</td>\n",
       "      <td>bagel</td>\n",
       "      <td>0.085851</td>\n",
       "      <td>False</td>\n",
       "      <td>banana</td>\n",
       "      <td>0.076110</td>\n",
       "      <td>False</td>\n",
       "    </tr>\n",
       "  </tbody>\n",
       "</table>\n",
       "<p>2075 rows × 12 columns</p>\n",
       "</div>"
      ],
      "text/plain": [
       "                tweet_id                                          jpg_url  \\\n",
       "0     666020888022790149  https://pbs.twimg.com/media/CT4udn0WwAA0aMy.jpg   \n",
       "1     666029285002620928  https://pbs.twimg.com/media/CT42GRgUYAA5iDo.jpg   \n",
       "2     666033412701032449  https://pbs.twimg.com/media/CT4521TWwAEvMyu.jpg   \n",
       "3     666044226329800704  https://pbs.twimg.com/media/CT5Dr8HUEAA-lEu.jpg   \n",
       "4     666049248165822465  https://pbs.twimg.com/media/CT5IQmsXIAAKY4A.jpg   \n",
       "...                  ...                                              ...   \n",
       "2070  891327558926688256  https://pbs.twimg.com/media/DF6hr6BUMAAzZgT.jpg   \n",
       "2071  891689557279858688  https://pbs.twimg.com/media/DF_q7IAWsAEuuN8.jpg   \n",
       "2072  891815181378084864  https://pbs.twimg.com/media/DGBdLU1WsAANxJ9.jpg   \n",
       "2073  892177421306343426  https://pbs.twimg.com/media/DGGmoV4XsAAUL6n.jpg   \n",
       "2074  892420643555336193  https://pbs.twimg.com/media/DGKD1-bXoAAIAUK.jpg   \n",
       "\n",
       "      img_num                      p1   p1_conf  p1_dog                  p2  \\\n",
       "0           1  Welsh_springer_spaniel  0.465074    True              collie   \n",
       "1           1                 redbone  0.506826    True  miniature_pinscher   \n",
       "2           1         German_shepherd  0.596461    True            malinois   \n",
       "3           1     Rhodesian_ridgeback  0.408143    True             redbone   \n",
       "4           1      miniature_pinscher  0.560311    True          Rottweiler   \n",
       "...       ...                     ...       ...     ...                 ...   \n",
       "2070        2                  basset  0.555712    True    English_springer   \n",
       "2071        1             paper_towel  0.170278   False  Labrador_retriever   \n",
       "2072        1               Chihuahua  0.716012    True            malamute   \n",
       "2073        1               Chihuahua  0.323581    True            Pekinese   \n",
       "2074        1                  orange  0.097049   False               bagel   \n",
       "\n",
       "       p2_conf  p2_dog                           p3   p3_conf  p3_dog  \n",
       "0     0.156665    True            Shetland_sheepdog  0.061428    True  \n",
       "1     0.074192    True          Rhodesian_ridgeback  0.072010    True  \n",
       "2     0.138584    True                   bloodhound  0.116197    True  \n",
       "3     0.360687    True           miniature_pinscher  0.222752    True  \n",
       "4     0.243682    True                     Doberman  0.154629    True  \n",
       "...        ...     ...                          ...       ...     ...  \n",
       "2070  0.225770    True  German_short-haired_pointer  0.175219    True  \n",
       "2071  0.168086    True                      spatula  0.040836   False  \n",
       "2072  0.078253    True                       kelpie  0.031379    True  \n",
       "2073  0.090647    True                     papillon  0.068957    True  \n",
       "2074  0.085851   False                       banana  0.076110   False  \n",
       "\n",
       "[2075 rows x 12 columns]"
      ]
     },
     "execution_count": 7,
     "metadata": {},
     "output_type": "execute_result"
    }
   ],
   "source": [
    "# Preview the images dataset\n",
    "\n",
    "df_images"
   ]
  },
  {
   "cell_type": "code",
   "execution_count": 8,
   "id": "49b1f474",
   "metadata": {
    "scrolled": false
   },
   "outputs": [
    {
     "name": "stdout",
     "output_type": "stream",
     "text": [
      "<class 'pandas.core.frame.DataFrame'>\n",
      "RangeIndex: 2327 entries, 0 to 2326\n",
      "Data columns (total 3 columns):\n",
      " #   Column         Non-Null Count  Dtype\n",
      "---  ------         --------------  -----\n",
      " 0   tweet_id       2327 non-null   int64\n",
      " 1   retweet_count  2327 non-null   int64\n",
      " 2   like_count     2327 non-null   int64\n",
      "dtypes: int64(3)\n",
      "memory usage: 54.7 KB\n"
     ]
    }
   ],
   "source": [
    "# Display concise summary of counts dataset\n",
    "\n",
    "df_counts.info()"
   ]
  },
  {
   "cell_type": "code",
   "execution_count": 9,
   "id": "22701ff9",
   "metadata": {
    "scrolled": true
   },
   "outputs": [
    {
     "name": "stdout",
     "output_type": "stream",
     "text": [
      "<class 'pandas.core.frame.DataFrame'>\n",
      "RangeIndex: 2356 entries, 0 to 2355\n",
      "Data columns (total 17 columns):\n",
      " #   Column                      Non-Null Count  Dtype  \n",
      "---  ------                      --------------  -----  \n",
      " 0   tweet_id                    2356 non-null   int64  \n",
      " 1   in_reply_to_status_id       78 non-null     float64\n",
      " 2   in_reply_to_user_id         78 non-null     float64\n",
      " 3   timestamp                   2356 non-null   object \n",
      " 4   source                      2356 non-null   object \n",
      " 5   text                        2356 non-null   object \n",
      " 6   retweeted_status_id         181 non-null    float64\n",
      " 7   retweeted_status_user_id    181 non-null    float64\n",
      " 8   retweeted_status_timestamp  181 non-null    object \n",
      " 9   expanded_urls               2297 non-null   object \n",
      " 10  rating_numerator            2356 non-null   int64  \n",
      " 11  rating_denominator          2356 non-null   int64  \n",
      " 12  name                        2356 non-null   object \n",
      " 13  doggo                       2356 non-null   object \n",
      " 14  floofer                     2356 non-null   object \n",
      " 15  pupper                      2356 non-null   object \n",
      " 16  puppo                       2356 non-null   object \n",
      "dtypes: float64(4), int64(3), object(10)\n",
      "memory usage: 313.0+ KB\n"
     ]
    }
   ],
   "source": [
    "# Display concise summary of tweets dataset\n",
    "\n",
    "df_tweets.info()"
   ]
  },
  {
   "cell_type": "code",
   "execution_count": 10,
   "id": "21d7a30a",
   "metadata": {},
   "outputs": [
    {
     "name": "stdout",
     "output_type": "stream",
     "text": [
      "<class 'pandas.core.frame.DataFrame'>\n",
      "RangeIndex: 2075 entries, 0 to 2074\n",
      "Data columns (total 12 columns):\n",
      " #   Column    Non-Null Count  Dtype  \n",
      "---  ------    --------------  -----  \n",
      " 0   tweet_id  2075 non-null   int64  \n",
      " 1   jpg_url   2075 non-null   object \n",
      " 2   img_num   2075 non-null   int64  \n",
      " 3   p1        2075 non-null   object \n",
      " 4   p1_conf   2075 non-null   float64\n",
      " 5   p1_dog    2075 non-null   bool   \n",
      " 6   p2        2075 non-null   object \n",
      " 7   p2_conf   2075 non-null   float64\n",
      " 8   p2_dog    2075 non-null   bool   \n",
      " 9   p3        2075 non-null   object \n",
      " 10  p3_conf   2075 non-null   float64\n",
      " 11  p3_dog    2075 non-null   bool   \n",
      "dtypes: bool(3), float64(3), int64(2), object(4)\n",
      "memory usage: 152.1+ KB\n"
     ]
    }
   ],
   "source": [
    "# Display concise summary of images dataset\n",
    "\n",
    "df_images.info()"
   ]
  },
  {
   "cell_type": "code",
   "execution_count": 11,
   "id": "19a7362c",
   "metadata": {},
   "outputs": [
    {
     "data": {
      "text/plain": [
       "3     tweet_id\n",
       "20    tweet_id\n",
       "dtype: object"
      ]
     },
     "execution_count": 11,
     "metadata": {},
     "output_type": "execute_result"
    }
   ],
   "source": [
    "# Check for duplicated columns in our datasets\n",
    "\n",
    "all_columns = pd.Series(list(df_counts) + list(df_tweets) + list(df_images))\n",
    "all_columns[all_columns.duplicated()]"
   ]
  },
  {
   "cell_type": "code",
   "execution_count": 12,
   "id": "1ca3e687",
   "metadata": {
    "scrolled": true
   },
   "outputs": [
    {
     "data": {
      "text/html": [
       "<div>\n",
       "<style scoped>\n",
       "    .dataframe tbody tr th:only-of-type {\n",
       "        vertical-align: middle;\n",
       "    }\n",
       "\n",
       "    .dataframe tbody tr th {\n",
       "        vertical-align: top;\n",
       "    }\n",
       "\n",
       "    .dataframe thead th {\n",
       "        text-align: right;\n",
       "    }\n",
       "</style>\n",
       "<table border=\"1\" class=\"dataframe\">\n",
       "  <thead>\n",
       "    <tr style=\"text-align: right;\">\n",
       "      <th></th>\n",
       "      <th>tweet_id</th>\n",
       "      <th>retweet_count</th>\n",
       "      <th>like_count</th>\n",
       "    </tr>\n",
       "  </thead>\n",
       "  <tbody>\n",
       "    <tr>\n",
       "      <th>count</th>\n",
       "      <td>2.327000e+03</td>\n",
       "      <td>2327.000000</td>\n",
       "      <td>2327.000000</td>\n",
       "    </tr>\n",
       "    <tr>\n",
       "      <th>mean</th>\n",
       "      <td>7.417930e+17</td>\n",
       "      <td>2473.037817</td>\n",
       "      <td>7059.571551</td>\n",
       "    </tr>\n",
       "    <tr>\n",
       "      <th>std</th>\n",
       "      <td>6.820795e+16</td>\n",
       "      <td>4188.352304</td>\n",
       "      <td>10969.930482</td>\n",
       "    </tr>\n",
       "    <tr>\n",
       "      <th>min</th>\n",
       "      <td>6.660209e+17</td>\n",
       "      <td>1.000000</td>\n",
       "      <td>0.000000</td>\n",
       "    </tr>\n",
       "    <tr>\n",
       "      <th>25%</th>\n",
       "      <td>6.781394e+17</td>\n",
       "      <td>495.000000</td>\n",
       "      <td>1225.500000</td>\n",
       "    </tr>\n",
       "    <tr>\n",
       "      <th>50%</th>\n",
       "      <td>7.178418e+17</td>\n",
       "      <td>1149.000000</td>\n",
       "      <td>3054.000000</td>\n",
       "    </tr>\n",
       "    <tr>\n",
       "      <th>75%</th>\n",
       "      <td>7.986547e+17</td>\n",
       "      <td>2864.500000</td>\n",
       "      <td>8612.500000</td>\n",
       "    </tr>\n",
       "    <tr>\n",
       "      <th>max</th>\n",
       "      <td>8.924206e+17</td>\n",
       "      <td>70807.000000</td>\n",
       "      <td>145006.000000</td>\n",
       "    </tr>\n",
       "  </tbody>\n",
       "</table>\n",
       "</div>"
      ],
      "text/plain": [
       "           tweet_id  retweet_count     like_count\n",
       "count  2.327000e+03    2327.000000    2327.000000\n",
       "mean   7.417930e+17    2473.037817    7059.571551\n",
       "std    6.820795e+16    4188.352304   10969.930482\n",
       "min    6.660209e+17       1.000000       0.000000\n",
       "25%    6.781394e+17     495.000000    1225.500000\n",
       "50%    7.178418e+17    1149.000000    3054.000000\n",
       "75%    7.986547e+17    2864.500000    8612.500000\n",
       "max    8.924206e+17   70807.000000  145006.000000"
      ]
     },
     "execution_count": 12,
     "metadata": {},
     "output_type": "execute_result"
    }
   ],
   "source": [
    "# Display descriptive statistics for counts dataset\n",
    "\n",
    "df_counts.describe()"
   ]
  },
  {
   "cell_type": "code",
   "execution_count": 13,
   "id": "50daed1b",
   "metadata": {},
   "outputs": [
    {
     "data": {
      "text/html": [
       "<div>\n",
       "<style scoped>\n",
       "    .dataframe tbody tr th:only-of-type {\n",
       "        vertical-align: middle;\n",
       "    }\n",
       "\n",
       "    .dataframe tbody tr th {\n",
       "        vertical-align: top;\n",
       "    }\n",
       "\n",
       "    .dataframe thead th {\n",
       "        text-align: right;\n",
       "    }\n",
       "</style>\n",
       "<table border=\"1\" class=\"dataframe\">\n",
       "  <thead>\n",
       "    <tr style=\"text-align: right;\">\n",
       "      <th></th>\n",
       "      <th>tweet_id</th>\n",
       "      <th>in_reply_to_status_id</th>\n",
       "      <th>in_reply_to_user_id</th>\n",
       "      <th>retweeted_status_id</th>\n",
       "      <th>retweeted_status_user_id</th>\n",
       "      <th>rating_numerator</th>\n",
       "      <th>rating_denominator</th>\n",
       "    </tr>\n",
       "  </thead>\n",
       "  <tbody>\n",
       "    <tr>\n",
       "      <th>count</th>\n",
       "      <td>2.356000e+03</td>\n",
       "      <td>7.800000e+01</td>\n",
       "      <td>7.800000e+01</td>\n",
       "      <td>1.810000e+02</td>\n",
       "      <td>1.810000e+02</td>\n",
       "      <td>2356.000000</td>\n",
       "      <td>2356.000000</td>\n",
       "    </tr>\n",
       "    <tr>\n",
       "      <th>mean</th>\n",
       "      <td>7.427716e+17</td>\n",
       "      <td>7.455079e+17</td>\n",
       "      <td>2.014171e+16</td>\n",
       "      <td>7.720400e+17</td>\n",
       "      <td>1.241698e+16</td>\n",
       "      <td>13.126486</td>\n",
       "      <td>10.455433</td>\n",
       "    </tr>\n",
       "    <tr>\n",
       "      <th>std</th>\n",
       "      <td>6.856705e+16</td>\n",
       "      <td>7.582492e+16</td>\n",
       "      <td>1.252797e+17</td>\n",
       "      <td>6.236928e+16</td>\n",
       "      <td>9.599254e+16</td>\n",
       "      <td>45.876648</td>\n",
       "      <td>6.745237</td>\n",
       "    </tr>\n",
       "    <tr>\n",
       "      <th>min</th>\n",
       "      <td>6.660209e+17</td>\n",
       "      <td>6.658147e+17</td>\n",
       "      <td>1.185634e+07</td>\n",
       "      <td>6.661041e+17</td>\n",
       "      <td>7.832140e+05</td>\n",
       "      <td>0.000000</td>\n",
       "      <td>0.000000</td>\n",
       "    </tr>\n",
       "    <tr>\n",
       "      <th>25%</th>\n",
       "      <td>6.783989e+17</td>\n",
       "      <td>6.757419e+17</td>\n",
       "      <td>3.086374e+08</td>\n",
       "      <td>7.186315e+17</td>\n",
       "      <td>4.196984e+09</td>\n",
       "      <td>10.000000</td>\n",
       "      <td>10.000000</td>\n",
       "    </tr>\n",
       "    <tr>\n",
       "      <th>50%</th>\n",
       "      <td>7.196279e+17</td>\n",
       "      <td>7.038708e+17</td>\n",
       "      <td>4.196984e+09</td>\n",
       "      <td>7.804657e+17</td>\n",
       "      <td>4.196984e+09</td>\n",
       "      <td>11.000000</td>\n",
       "      <td>10.000000</td>\n",
       "    </tr>\n",
       "    <tr>\n",
       "      <th>75%</th>\n",
       "      <td>7.993373e+17</td>\n",
       "      <td>8.257804e+17</td>\n",
       "      <td>4.196984e+09</td>\n",
       "      <td>8.203146e+17</td>\n",
       "      <td>4.196984e+09</td>\n",
       "      <td>12.000000</td>\n",
       "      <td>10.000000</td>\n",
       "    </tr>\n",
       "    <tr>\n",
       "      <th>max</th>\n",
       "      <td>8.924206e+17</td>\n",
       "      <td>8.862664e+17</td>\n",
       "      <td>8.405479e+17</td>\n",
       "      <td>8.874740e+17</td>\n",
       "      <td>7.874618e+17</td>\n",
       "      <td>1776.000000</td>\n",
       "      <td>170.000000</td>\n",
       "    </tr>\n",
       "  </tbody>\n",
       "</table>\n",
       "</div>"
      ],
      "text/plain": [
       "           tweet_id  in_reply_to_status_id  in_reply_to_user_id  \\\n",
       "count  2.356000e+03           7.800000e+01         7.800000e+01   \n",
       "mean   7.427716e+17           7.455079e+17         2.014171e+16   \n",
       "std    6.856705e+16           7.582492e+16         1.252797e+17   \n",
       "min    6.660209e+17           6.658147e+17         1.185634e+07   \n",
       "25%    6.783989e+17           6.757419e+17         3.086374e+08   \n",
       "50%    7.196279e+17           7.038708e+17         4.196984e+09   \n",
       "75%    7.993373e+17           8.257804e+17         4.196984e+09   \n",
       "max    8.924206e+17           8.862664e+17         8.405479e+17   \n",
       "\n",
       "       retweeted_status_id  retweeted_status_user_id  rating_numerator  \\\n",
       "count         1.810000e+02              1.810000e+02       2356.000000   \n",
       "mean          7.720400e+17              1.241698e+16         13.126486   \n",
       "std           6.236928e+16              9.599254e+16         45.876648   \n",
       "min           6.661041e+17              7.832140e+05          0.000000   \n",
       "25%           7.186315e+17              4.196984e+09         10.000000   \n",
       "50%           7.804657e+17              4.196984e+09         11.000000   \n",
       "75%           8.203146e+17              4.196984e+09         12.000000   \n",
       "max           8.874740e+17              7.874618e+17       1776.000000   \n",
       "\n",
       "       rating_denominator  \n",
       "count         2356.000000  \n",
       "mean            10.455433  \n",
       "std              6.745237  \n",
       "min              0.000000  \n",
       "25%             10.000000  \n",
       "50%             10.000000  \n",
       "75%             10.000000  \n",
       "max            170.000000  "
      ]
     },
     "execution_count": 13,
     "metadata": {},
     "output_type": "execute_result"
    }
   ],
   "source": [
    "# Display descriptive statistics for tweets dataset\n",
    "\n",
    "df_tweets.describe()"
   ]
  },
  {
   "cell_type": "code",
   "execution_count": 14,
   "id": "a16147a1",
   "metadata": {
    "scrolled": true
   },
   "outputs": [
    {
     "data": {
      "text/html": [
       "<div>\n",
       "<style scoped>\n",
       "    .dataframe tbody tr th:only-of-type {\n",
       "        vertical-align: middle;\n",
       "    }\n",
       "\n",
       "    .dataframe tbody tr th {\n",
       "        vertical-align: top;\n",
       "    }\n",
       "\n",
       "    .dataframe thead th {\n",
       "        text-align: right;\n",
       "    }\n",
       "</style>\n",
       "<table border=\"1\" class=\"dataframe\">\n",
       "  <thead>\n",
       "    <tr style=\"text-align: right;\">\n",
       "      <th></th>\n",
       "      <th>tweet_id</th>\n",
       "      <th>img_num</th>\n",
       "      <th>p1_conf</th>\n",
       "      <th>p2_conf</th>\n",
       "      <th>p3_conf</th>\n",
       "    </tr>\n",
       "  </thead>\n",
       "  <tbody>\n",
       "    <tr>\n",
       "      <th>count</th>\n",
       "      <td>2.075000e+03</td>\n",
       "      <td>2075.000000</td>\n",
       "      <td>2075.000000</td>\n",
       "      <td>2.075000e+03</td>\n",
       "      <td>2.075000e+03</td>\n",
       "    </tr>\n",
       "    <tr>\n",
       "      <th>mean</th>\n",
       "      <td>7.384514e+17</td>\n",
       "      <td>1.203855</td>\n",
       "      <td>0.594548</td>\n",
       "      <td>1.345886e-01</td>\n",
       "      <td>6.032417e-02</td>\n",
       "    </tr>\n",
       "    <tr>\n",
       "      <th>std</th>\n",
       "      <td>6.785203e+16</td>\n",
       "      <td>0.561875</td>\n",
       "      <td>0.271174</td>\n",
       "      <td>1.006657e-01</td>\n",
       "      <td>5.090593e-02</td>\n",
       "    </tr>\n",
       "    <tr>\n",
       "      <th>min</th>\n",
       "      <td>6.660209e+17</td>\n",
       "      <td>1.000000</td>\n",
       "      <td>0.044333</td>\n",
       "      <td>1.011300e-08</td>\n",
       "      <td>1.740170e-10</td>\n",
       "    </tr>\n",
       "    <tr>\n",
       "      <th>25%</th>\n",
       "      <td>6.764835e+17</td>\n",
       "      <td>1.000000</td>\n",
       "      <td>0.364412</td>\n",
       "      <td>5.388625e-02</td>\n",
       "      <td>1.622240e-02</td>\n",
       "    </tr>\n",
       "    <tr>\n",
       "      <th>50%</th>\n",
       "      <td>7.119988e+17</td>\n",
       "      <td>1.000000</td>\n",
       "      <td>0.588230</td>\n",
       "      <td>1.181810e-01</td>\n",
       "      <td>4.944380e-02</td>\n",
       "    </tr>\n",
       "    <tr>\n",
       "      <th>75%</th>\n",
       "      <td>7.932034e+17</td>\n",
       "      <td>1.000000</td>\n",
       "      <td>0.843855</td>\n",
       "      <td>1.955655e-01</td>\n",
       "      <td>9.180755e-02</td>\n",
       "    </tr>\n",
       "    <tr>\n",
       "      <th>max</th>\n",
       "      <td>8.924206e+17</td>\n",
       "      <td>4.000000</td>\n",
       "      <td>1.000000</td>\n",
       "      <td>4.880140e-01</td>\n",
       "      <td>2.734190e-01</td>\n",
       "    </tr>\n",
       "  </tbody>\n",
       "</table>\n",
       "</div>"
      ],
      "text/plain": [
       "           tweet_id      img_num      p1_conf       p2_conf       p3_conf\n",
       "count  2.075000e+03  2075.000000  2075.000000  2.075000e+03  2.075000e+03\n",
       "mean   7.384514e+17     1.203855     0.594548  1.345886e-01  6.032417e-02\n",
       "std    6.785203e+16     0.561875     0.271174  1.006657e-01  5.090593e-02\n",
       "min    6.660209e+17     1.000000     0.044333  1.011300e-08  1.740170e-10\n",
       "25%    6.764835e+17     1.000000     0.364412  5.388625e-02  1.622240e-02\n",
       "50%    7.119988e+17     1.000000     0.588230  1.181810e-01  4.944380e-02\n",
       "75%    7.932034e+17     1.000000     0.843855  1.955655e-01  9.180755e-02\n",
       "max    8.924206e+17     4.000000     1.000000  4.880140e-01  2.734190e-01"
      ]
     },
     "execution_count": 14,
     "metadata": {},
     "output_type": "execute_result"
    }
   ],
   "source": [
    "# Display descriptive statistics for images dataset\n",
    "\n",
    "df_images.describe()"
   ]
  },
  {
   "cell_type": "code",
   "execution_count": 15,
   "id": "65a63e5e",
   "metadata": {
    "scrolled": true
   },
   "outputs": [
    {
     "data": {
      "text/html": [
       "<div>\n",
       "<style scoped>\n",
       "    .dataframe tbody tr th:only-of-type {\n",
       "        vertical-align: middle;\n",
       "    }\n",
       "\n",
       "    .dataframe tbody tr th {\n",
       "        vertical-align: top;\n",
       "    }\n",
       "\n",
       "    .dataframe thead th {\n",
       "        text-align: right;\n",
       "    }\n",
       "</style>\n",
       "<table border=\"1\" class=\"dataframe\">\n",
       "  <thead>\n",
       "    <tr style=\"text-align: right;\">\n",
       "      <th></th>\n",
       "      <th>tweet_id</th>\n",
       "      <th>in_reply_to_status_id</th>\n",
       "      <th>in_reply_to_user_id</th>\n",
       "      <th>timestamp</th>\n",
       "      <th>source</th>\n",
       "      <th>text</th>\n",
       "      <th>retweeted_status_id</th>\n",
       "      <th>retweeted_status_user_id</th>\n",
       "      <th>retweeted_status_timestamp</th>\n",
       "      <th>expanded_urls</th>\n",
       "      <th>rating_numerator</th>\n",
       "      <th>rating_denominator</th>\n",
       "      <th>name</th>\n",
       "      <th>doggo</th>\n",
       "      <th>floofer</th>\n",
       "      <th>pupper</th>\n",
       "      <th>puppo</th>\n",
       "    </tr>\n",
       "  </thead>\n",
       "  <tbody>\n",
       "    <tr>\n",
       "      <th>7</th>\n",
       "      <td>890729181411237888</td>\n",
       "      <td>NaN</td>\n",
       "      <td>NaN</td>\n",
       "      <td>2017-07-28 00:22:40 +0000</td>\n",
       "      <td>&lt;a href=\"http://twitter.com/download/iphone\" r...</td>\n",
       "      <td>When you watch your owner call another dog a g...</td>\n",
       "      <td>NaN</td>\n",
       "      <td>NaN</td>\n",
       "      <td>NaN</td>\n",
       "      <td>https://twitter.com/dog_rates/status/890729181...</td>\n",
       "      <td>13</td>\n",
       "      <td>10</td>\n",
       "      <td>None</td>\n",
       "      <td>None</td>\n",
       "      <td>None</td>\n",
       "      <td>None</td>\n",
       "      <td>None</td>\n",
       "    </tr>\n",
       "    <tr>\n",
       "      <th>12</th>\n",
       "      <td>889665388333682689</td>\n",
       "      <td>NaN</td>\n",
       "      <td>NaN</td>\n",
       "      <td>2017-07-25 01:55:32 +0000</td>\n",
       "      <td>&lt;a href=\"http://twitter.com/download/iphone\" r...</td>\n",
       "      <td>Here's a puppo that seems to be on the fence a...</td>\n",
       "      <td>NaN</td>\n",
       "      <td>NaN</td>\n",
       "      <td>NaN</td>\n",
       "      <td>https://twitter.com/dog_rates/status/889665388...</td>\n",
       "      <td>13</td>\n",
       "      <td>10</td>\n",
       "      <td>None</td>\n",
       "      <td>None</td>\n",
       "      <td>None</td>\n",
       "      <td>None</td>\n",
       "      <td>puppo</td>\n",
       "    </tr>\n",
       "    <tr>\n",
       "      <th>23</th>\n",
       "      <td>887473957103951883</td>\n",
       "      <td>NaN</td>\n",
       "      <td>NaN</td>\n",
       "      <td>2017-07-19 00:47:34 +0000</td>\n",
       "      <td>&lt;a href=\"http://twitter.com/download/iphone\" r...</td>\n",
       "      <td>This is Canela. She attempted some fancy porch...</td>\n",
       "      <td>NaN</td>\n",
       "      <td>NaN</td>\n",
       "      <td>NaN</td>\n",
       "      <td>https://twitter.com/dog_rates/status/887473957...</td>\n",
       "      <td>13</td>\n",
       "      <td>10</td>\n",
       "      <td>Canela</td>\n",
       "      <td>None</td>\n",
       "      <td>None</td>\n",
       "      <td>None</td>\n",
       "      <td>None</td>\n",
       "    </tr>\n",
       "    <tr>\n",
       "      <th>24</th>\n",
       "      <td>887343217045368832</td>\n",
       "      <td>NaN</td>\n",
       "      <td>NaN</td>\n",
       "      <td>2017-07-18 16:08:03 +0000</td>\n",
       "      <td>&lt;a href=\"http://twitter.com/download/iphone\" r...</td>\n",
       "      <td>You may not have known you needed to see this ...</td>\n",
       "      <td>NaN</td>\n",
       "      <td>NaN</td>\n",
       "      <td>NaN</td>\n",
       "      <td>https://twitter.com/dog_rates/status/887343217...</td>\n",
       "      <td>13</td>\n",
       "      <td>10</td>\n",
       "      <td>None</td>\n",
       "      <td>None</td>\n",
       "      <td>None</td>\n",
       "      <td>None</td>\n",
       "      <td>None</td>\n",
       "    </tr>\n",
       "    <tr>\n",
       "      <th>25</th>\n",
       "      <td>887101392804085760</td>\n",
       "      <td>NaN</td>\n",
       "      <td>NaN</td>\n",
       "      <td>2017-07-18 00:07:08 +0000</td>\n",
       "      <td>&lt;a href=\"http://twitter.com/download/iphone\" r...</td>\n",
       "      <td>This... is a Jubilant Antarctic House Bear. We...</td>\n",
       "      <td>NaN</td>\n",
       "      <td>NaN</td>\n",
       "      <td>NaN</td>\n",
       "      <td>https://twitter.com/dog_rates/status/887101392...</td>\n",
       "      <td>12</td>\n",
       "      <td>10</td>\n",
       "      <td>None</td>\n",
       "      <td>None</td>\n",
       "      <td>None</td>\n",
       "      <td>None</td>\n",
       "      <td>None</td>\n",
       "    </tr>\n",
       "    <tr>\n",
       "      <th>...</th>\n",
       "      <td>...</td>\n",
       "      <td>...</td>\n",
       "      <td>...</td>\n",
       "      <td>...</td>\n",
       "      <td>...</td>\n",
       "      <td>...</td>\n",
       "      <td>...</td>\n",
       "      <td>...</td>\n",
       "      <td>...</td>\n",
       "      <td>...</td>\n",
       "      <td>...</td>\n",
       "      <td>...</td>\n",
       "      <td>...</td>\n",
       "      <td>...</td>\n",
       "      <td>...</td>\n",
       "      <td>...</td>\n",
       "      <td>...</td>\n",
       "    </tr>\n",
       "    <tr>\n",
       "      <th>2351</th>\n",
       "      <td>666049248165822465</td>\n",
       "      <td>NaN</td>\n",
       "      <td>NaN</td>\n",
       "      <td>2015-11-16 00:24:50 +0000</td>\n",
       "      <td>&lt;a href=\"http://twitter.com/download/iphone\" r...</td>\n",
       "      <td>Here we have a 1949 1st generation vulpix. Enj...</td>\n",
       "      <td>NaN</td>\n",
       "      <td>NaN</td>\n",
       "      <td>NaN</td>\n",
       "      <td>https://twitter.com/dog_rates/status/666049248...</td>\n",
       "      <td>5</td>\n",
       "      <td>10</td>\n",
       "      <td>None</td>\n",
       "      <td>None</td>\n",
       "      <td>None</td>\n",
       "      <td>None</td>\n",
       "      <td>None</td>\n",
       "    </tr>\n",
       "    <tr>\n",
       "      <th>2352</th>\n",
       "      <td>666044226329800704</td>\n",
       "      <td>NaN</td>\n",
       "      <td>NaN</td>\n",
       "      <td>2015-11-16 00:04:52 +0000</td>\n",
       "      <td>&lt;a href=\"http://twitter.com/download/iphone\" r...</td>\n",
       "      <td>This is a purebred Piers Morgan. Loves to Netf...</td>\n",
       "      <td>NaN</td>\n",
       "      <td>NaN</td>\n",
       "      <td>NaN</td>\n",
       "      <td>https://twitter.com/dog_rates/status/666044226...</td>\n",
       "      <td>6</td>\n",
       "      <td>10</td>\n",
       "      <td>a</td>\n",
       "      <td>None</td>\n",
       "      <td>None</td>\n",
       "      <td>None</td>\n",
       "      <td>None</td>\n",
       "    </tr>\n",
       "    <tr>\n",
       "      <th>2353</th>\n",
       "      <td>666033412701032449</td>\n",
       "      <td>NaN</td>\n",
       "      <td>NaN</td>\n",
       "      <td>2015-11-15 23:21:54 +0000</td>\n",
       "      <td>&lt;a href=\"http://twitter.com/download/iphone\" r...</td>\n",
       "      <td>Here is a very happy pup. Big fan of well-main...</td>\n",
       "      <td>NaN</td>\n",
       "      <td>NaN</td>\n",
       "      <td>NaN</td>\n",
       "      <td>https://twitter.com/dog_rates/status/666033412...</td>\n",
       "      <td>9</td>\n",
       "      <td>10</td>\n",
       "      <td>a</td>\n",
       "      <td>None</td>\n",
       "      <td>None</td>\n",
       "      <td>None</td>\n",
       "      <td>None</td>\n",
       "    </tr>\n",
       "    <tr>\n",
       "      <th>2354</th>\n",
       "      <td>666029285002620928</td>\n",
       "      <td>NaN</td>\n",
       "      <td>NaN</td>\n",
       "      <td>2015-11-15 23:05:30 +0000</td>\n",
       "      <td>&lt;a href=\"http://twitter.com/download/iphone\" r...</td>\n",
       "      <td>This is a western brown Mitsubishi terrier. Up...</td>\n",
       "      <td>NaN</td>\n",
       "      <td>NaN</td>\n",
       "      <td>NaN</td>\n",
       "      <td>https://twitter.com/dog_rates/status/666029285...</td>\n",
       "      <td>7</td>\n",
       "      <td>10</td>\n",
       "      <td>a</td>\n",
       "      <td>None</td>\n",
       "      <td>None</td>\n",
       "      <td>None</td>\n",
       "      <td>None</td>\n",
       "    </tr>\n",
       "    <tr>\n",
       "      <th>2355</th>\n",
       "      <td>666020888022790149</td>\n",
       "      <td>NaN</td>\n",
       "      <td>NaN</td>\n",
       "      <td>2015-11-15 22:32:08 +0000</td>\n",
       "      <td>&lt;a href=\"http://twitter.com/download/iphone\" r...</td>\n",
       "      <td>Here we have a Japanese Irish Setter. Lost eye...</td>\n",
       "      <td>NaN</td>\n",
       "      <td>NaN</td>\n",
       "      <td>NaN</td>\n",
       "      <td>https://twitter.com/dog_rates/status/666020888...</td>\n",
       "      <td>8</td>\n",
       "      <td>10</td>\n",
       "      <td>None</td>\n",
       "      <td>None</td>\n",
       "      <td>None</td>\n",
       "      <td>None</td>\n",
       "      <td>None</td>\n",
       "    </tr>\n",
       "  </tbody>\n",
       "</table>\n",
       "<p>1399 rows × 17 columns</p>\n",
       "</div>"
      ],
      "text/plain": [
       "                tweet_id  in_reply_to_status_id  in_reply_to_user_id  \\\n",
       "7     890729181411237888                    NaN                  NaN   \n",
       "12    889665388333682689                    NaN                  NaN   \n",
       "23    887473957103951883                    NaN                  NaN   \n",
       "24    887343217045368832                    NaN                  NaN   \n",
       "25    887101392804085760                    NaN                  NaN   \n",
       "...                  ...                    ...                  ...   \n",
       "2351  666049248165822465                    NaN                  NaN   \n",
       "2352  666044226329800704                    NaN                  NaN   \n",
       "2353  666033412701032449                    NaN                  NaN   \n",
       "2354  666029285002620928                    NaN                  NaN   \n",
       "2355  666020888022790149                    NaN                  NaN   \n",
       "\n",
       "                      timestamp  \\\n",
       "7     2017-07-28 00:22:40 +0000   \n",
       "12    2017-07-25 01:55:32 +0000   \n",
       "23    2017-07-19 00:47:34 +0000   \n",
       "24    2017-07-18 16:08:03 +0000   \n",
       "25    2017-07-18 00:07:08 +0000   \n",
       "...                         ...   \n",
       "2351  2015-11-16 00:24:50 +0000   \n",
       "2352  2015-11-16 00:04:52 +0000   \n",
       "2353  2015-11-15 23:21:54 +0000   \n",
       "2354  2015-11-15 23:05:30 +0000   \n",
       "2355  2015-11-15 22:32:08 +0000   \n",
       "\n",
       "                                                 source  \\\n",
       "7     <a href=\"http://twitter.com/download/iphone\" r...   \n",
       "12    <a href=\"http://twitter.com/download/iphone\" r...   \n",
       "23    <a href=\"http://twitter.com/download/iphone\" r...   \n",
       "24    <a href=\"http://twitter.com/download/iphone\" r...   \n",
       "25    <a href=\"http://twitter.com/download/iphone\" r...   \n",
       "...                                                 ...   \n",
       "2351  <a href=\"http://twitter.com/download/iphone\" r...   \n",
       "2352  <a href=\"http://twitter.com/download/iphone\" r...   \n",
       "2353  <a href=\"http://twitter.com/download/iphone\" r...   \n",
       "2354  <a href=\"http://twitter.com/download/iphone\" r...   \n",
       "2355  <a href=\"http://twitter.com/download/iphone\" r...   \n",
       "\n",
       "                                                   text  retweeted_status_id  \\\n",
       "7     When you watch your owner call another dog a g...                  NaN   \n",
       "12    Here's a puppo that seems to be on the fence a...                  NaN   \n",
       "23    This is Canela. She attempted some fancy porch...                  NaN   \n",
       "24    You may not have known you needed to see this ...                  NaN   \n",
       "25    This... is a Jubilant Antarctic House Bear. We...                  NaN   \n",
       "...                                                 ...                  ...   \n",
       "2351  Here we have a 1949 1st generation vulpix. Enj...                  NaN   \n",
       "2352  This is a purebred Piers Morgan. Loves to Netf...                  NaN   \n",
       "2353  Here is a very happy pup. Big fan of well-main...                  NaN   \n",
       "2354  This is a western brown Mitsubishi terrier. Up...                  NaN   \n",
       "2355  Here we have a Japanese Irish Setter. Lost eye...                  NaN   \n",
       "\n",
       "      retweeted_status_user_id retweeted_status_timestamp  \\\n",
       "7                          NaN                        NaN   \n",
       "12                         NaN                        NaN   \n",
       "23                         NaN                        NaN   \n",
       "24                         NaN                        NaN   \n",
       "25                         NaN                        NaN   \n",
       "...                        ...                        ...   \n",
       "2351                       NaN                        NaN   \n",
       "2352                       NaN                        NaN   \n",
       "2353                       NaN                        NaN   \n",
       "2354                       NaN                        NaN   \n",
       "2355                       NaN                        NaN   \n",
       "\n",
       "                                          expanded_urls  rating_numerator  \\\n",
       "7     https://twitter.com/dog_rates/status/890729181...                13   \n",
       "12    https://twitter.com/dog_rates/status/889665388...                13   \n",
       "23    https://twitter.com/dog_rates/status/887473957...                13   \n",
       "24    https://twitter.com/dog_rates/status/887343217...                13   \n",
       "25    https://twitter.com/dog_rates/status/887101392...                12   \n",
       "...                                                 ...               ...   \n",
       "2351  https://twitter.com/dog_rates/status/666049248...                 5   \n",
       "2352  https://twitter.com/dog_rates/status/666044226...                 6   \n",
       "2353  https://twitter.com/dog_rates/status/666033412...                 9   \n",
       "2354  https://twitter.com/dog_rates/status/666029285...                 7   \n",
       "2355  https://twitter.com/dog_rates/status/666020888...                 8   \n",
       "\n",
       "      rating_denominator    name doggo floofer pupper  puppo  \n",
       "7                     10    None  None    None   None   None  \n",
       "12                    10    None  None    None   None  puppo  \n",
       "23                    10  Canela  None    None   None   None  \n",
       "24                    10    None  None    None   None   None  \n",
       "25                    10    None  None    None   None   None  \n",
       "...                  ...     ...   ...     ...    ...    ...  \n",
       "2351                  10    None  None    None   None   None  \n",
       "2352                  10       a  None    None   None   None  \n",
       "2353                  10       a  None    None   None   None  \n",
       "2354                  10       a  None    None   None   None  \n",
       "2355                  10    None  None    None   None   None  \n",
       "\n",
       "[1399 rows x 17 columns]"
      ]
     },
     "execution_count": 15,
     "metadata": {},
     "output_type": "execute_result"
    }
   ],
   "source": [
    "df_tweets[df_tweets.name.duplicated()]"
   ]
  },
  {
   "cell_type": "code",
   "execution_count": 16,
   "id": "320cca6c",
   "metadata": {},
   "outputs": [
    {
     "data": {
      "text/plain": [
       "(0, 0, 0)"
      ]
     },
     "execution_count": 16,
     "metadata": {},
     "output_type": "execute_result"
    }
   ],
   "source": [
    "# Check for duplicated data\n",
    "\n",
    "df_counts.duplicated().sum(), df_tweets.duplicated().sum(), df_images.duplicated().sum()"
   ]
  },
  {
   "cell_type": "markdown",
   "id": "bd095eba",
   "metadata": {},
   "source": [
    "#### Quality\n",
    "##### `df_counts` table\n",
    "- Missing data (2327 instead of 2356)\n",
    "\n",
    "##### `df_tweets` table\n",
    "- Erroneous datatype for `timestamp`\n",
    "- Retweets present in `retweeted_status_id`, `retweeted_status_user_id` and `retweeted_status_timestamp`\n",
    "- Name misspellings - {'Carll', 'Klevin', 'Billl', 'Shawwn', 'Paull', 'Traviss', 'Zooey'}\n",
    "- O instead of __O'Malley__, 'his' instead of __'Quizno'__, 'my' and 'None' instead of __'Zoey'__\n",
    "- Invalid dog names  {'a', 'an', 'quite', 'the', 'by', 'actually', 'just', 'very', 'infuriating', 'old', 'all', 'unacceptable', 'this', 'mad', 'getting', 'one', 'not', 'such'}\n",
    "- Irrelevant columns ('in_reply_to_status_id', 'in_reply_to_user_id', 'retweeted_status_id', 'retweeted_status_user_id', 'retweeted_status_timestamp' and 'expanded_urls')\n",
    "- Extract tweet source from `source` text (like _Twitter Web Client_)\n",
    "- Hyperlink in text column\n",
    "- One column split in three ('p1_conf', 'p2_conf', 'p3_conf')\n",
    "- Multiple dog stages\n",
    "\n",
    "##### `df_images` table\n",
    "- Missing data (2075 instead of 2356)\n",
    "- Invalid tweets with images of animals that are not dogs\n",
    "- Percentage values in hundredths\n",
    "- Lowercase names\n",
    "\n",
    "#### Tidiness\n",
    "- One column split into four in `df_tweets` ('doggo', 'floofer', 'pupper' and 'puppo')\n",
    "- One column split into six in `df_images` ('p1', 'p1_dog', 'p2', 'p2_dog', 'p3', 'p3_dog')\n",
    "- Tweet id duplicated in `df_images` and `df_counts`\n",
    "- Invalid data for rating_numerator and rating_denominator in `df_tweets`\n",
    "- Entire dataset should be one table"
   ]
  },
  {
   "cell_type": "markdown",
   "id": "2ad41a8a",
   "metadata": {},
   "source": [
    "### Clean"
   ]
  },
  {
   "cell_type": "code",
   "execution_count": 17,
   "id": "8d54788e",
   "metadata": {},
   "outputs": [],
   "source": [
    "counts = df_counts.copy()\n",
    "tweets = df_tweets.copy()\n",
    "images = df_images.copy()"
   ]
  },
  {
   "cell_type": "markdown",
   "id": "7d4cdb29",
   "metadata": {},
   "source": [
    "#### Quality\n",
    "##### `df_counts`: Missing Data\n",
    "- Missing data (2327 instead of 2356)"
   ]
  },
  {
   "cell_type": "markdown",
   "id": "ff1f7b01",
   "metadata": {},
   "source": [
    "##### Define\n",
    "* Drop entries with unavailable retweets and like counts from `df_tweets` table "
   ]
  },
  {
   "cell_type": "markdown",
   "id": "33784d18",
   "metadata": {},
   "source": [
    "##### Code"
   ]
  },
  {
   "cell_type": "code",
   "execution_count": 18,
   "id": "7a01de01",
   "metadata": {
    "scrolled": true
   },
   "outputs": [
    {
     "name": "stdout",
     "output_type": "stream",
     "text": [
      "[775096608509886464, 754011816964026368, 829374341691346946, 861769973181624320, 766864461642756096, 802247111496568832, 844704788403113984, 845459076796616705, 779123168116150273, 856330835276025856, 869988702071779329, 759566828574212096, 872261713294495745, 680055455951884288, 827228250799742977, 837366284874571778, 888202515573088257, 856602993587888130, 837012587749474308, 759923798737051648, 872668790621863937, 771004394259247104, 770743923962707968, 812747805718642688, 842892208864923648, 851953902622658560, 866816280283807744, 851861385021730816, 873697596434513921]\n"
     ]
    }
   ],
   "source": [
    "# Get the entries with missing retweets and like counts\n",
    "\n",
    "missing_tweets = list(set(tweets.tweet_id) - set(counts.tweet_id))\n",
    "print(missing_tweets)"
   ]
  },
  {
   "cell_type": "code",
   "execution_count": 19,
   "id": "e0d60986",
   "metadata": {},
   "outputs": [],
   "source": [
    "# Drop the entries with missing data\n",
    "\n",
    "tweets = tweets[~tweets.tweet_id.isin(missing_tweets)]"
   ]
  },
  {
   "cell_type": "markdown",
   "id": "4cddd65b",
   "metadata": {},
   "source": [
    "##### Test"
   ]
  },
  {
   "cell_type": "code",
   "execution_count": 20,
   "id": "d10f6c30",
   "metadata": {},
   "outputs": [
    {
     "data": {
      "text/plain": [
       "(2327, 17)"
      ]
     },
     "execution_count": 20,
     "metadata": {},
     "output_type": "execute_result"
    }
   ],
   "source": [
    "# Check rows have been dropped from table\n",
    "\n",
    "tweets.shape"
   ]
  },
  {
   "cell_type": "markdown",
   "id": "12884896",
   "metadata": {},
   "source": [
    "##### `df_tweets`: Erroneous datatype\n",
    "`timestamp`datatype in _string_ format"
   ]
  },
  {
   "cell_type": "markdown",
   "id": "d25cd8fa",
   "metadata": {},
   "source": [
    "##### Define\n",
    "* Convert `timestamp` from string format to datetime format"
   ]
  },
  {
   "cell_type": "markdown",
   "id": "44e57bc4",
   "metadata": {},
   "source": [
    "##### Code"
   ]
  },
  {
   "cell_type": "code",
   "execution_count": 21,
   "id": "a303d0f9",
   "metadata": {},
   "outputs": [],
   "source": [
    "# Convert timsetamp to datetime format\n",
    "\n",
    "tweets['timestamp'] = pd.to_datetime(tweets['timestamp']).dt.tz_localize(None)"
   ]
  },
  {
   "cell_type": "markdown",
   "id": "115b7a70",
   "metadata": {},
   "source": [
    "##### Test"
   ]
  },
  {
   "cell_type": "code",
   "execution_count": 22,
   "id": "3c9de329",
   "metadata": {
    "scrolled": true
   },
   "outputs": [
    {
     "name": "stdout",
     "output_type": "stream",
     "text": [
      "<class 'pandas.core.series.Series'>\n",
      "Int64Index: 2327 entries, 0 to 2355\n",
      "Series name: timestamp\n",
      "Non-Null Count  Dtype         \n",
      "--------------  -----         \n",
      "2327 non-null   datetime64[ns]\n",
      "dtypes: datetime64[ns](1)\n",
      "memory usage: 36.4 KB\n"
     ]
    }
   ],
   "source": [
    "# Confirm conversion to datetime \n",
    "\n",
    "tweets.timestamp.info()"
   ]
  },
  {
   "cell_type": "markdown",
   "id": "2ca138ac",
   "metadata": {},
   "source": [
    "##### `df_tweets`: Retweets\n",
    "Retweets in `retweeted_status_id`, `retweeted_status_user_id` and `retweeted_status_timestamp`"
   ]
  },
  {
   "cell_type": "markdown",
   "id": "8a0cf5d2",
   "metadata": {},
   "source": [
    "##### Define\n",
    "* Remove all retweet entries that have values"
   ]
  },
  {
   "cell_type": "markdown",
   "id": "7dc0b026",
   "metadata": {},
   "source": [
    "##### Code"
   ]
  },
  {
   "cell_type": "code",
   "execution_count": 23,
   "id": "a2e93767",
   "metadata": {},
   "outputs": [],
   "source": [
    "tweets = tweets[tweets.retweeted_status_user_id.isnull()]\n",
    "tweets = tweets[tweets.retweeted_status_id.isnull()]\n",
    "tweets = tweets[tweets.retweeted_status_timestamp.isnull()]"
   ]
  },
  {
   "cell_type": "markdown",
   "id": "37fc3922",
   "metadata": {},
   "source": [
    "##### Test"
   ]
  },
  {
   "cell_type": "code",
   "execution_count": 24,
   "id": "f5da7bc0",
   "metadata": {},
   "outputs": [
    {
     "name": "stdout",
     "output_type": "stream",
     "text": [
      "<class 'pandas.core.frame.DataFrame'>\n",
      "Int64Index: 2167 entries, 0 to 2355\n",
      "Data columns (total 17 columns):\n",
      " #   Column                      Non-Null Count  Dtype         \n",
      "---  ------                      --------------  -----         \n",
      " 0   tweet_id                    2167 non-null   int64         \n",
      " 1   in_reply_to_status_id       78 non-null     float64       \n",
      " 2   in_reply_to_user_id         78 non-null     float64       \n",
      " 3   timestamp                   2167 non-null   datetime64[ns]\n",
      " 4   source                      2167 non-null   object        \n",
      " 5   text                        2167 non-null   object        \n",
      " 6   retweeted_status_id         0 non-null      float64       \n",
      " 7   retweeted_status_user_id    0 non-null      float64       \n",
      " 8   retweeted_status_timestamp  0 non-null      object        \n",
      " 9   expanded_urls               2109 non-null   object        \n",
      " 10  rating_numerator            2167 non-null   int64         \n",
      " 11  rating_denominator          2167 non-null   int64         \n",
      " 12  name                        2167 non-null   object        \n",
      " 13  doggo                       2167 non-null   object        \n",
      " 14  floofer                     2167 non-null   object        \n",
      " 15  pupper                      2167 non-null   object        \n",
      " 16  puppo                       2167 non-null   object        \n",
      "dtypes: datetime64[ns](1), float64(4), int64(3), object(9)\n",
      "memory usage: 304.7+ KB\n"
     ]
    }
   ],
   "source": [
    "# Check to confirm retweets have been removed\n",
    "\n",
    "tweets.info()"
   ]
  },
  {
   "cell_type": "markdown",
   "id": "2376d6b2",
   "metadata": {},
   "source": [
    "##### `df_tweets`: Inaccurate data\n",
    "Names of dogs misspelled"
   ]
  },
  {
   "cell_type": "markdown",
   "id": "93281f22",
   "metadata": {},
   "source": [
    "##### Define\n",
    "* Correct all names of dogs that were misspelt as 'Carll', 'Klevin', 'Billl', 'Shawwn', 'Paull', 'Traviss', or 'Zooey'"
   ]
  },
  {
   "cell_type": "markdown",
   "id": "8275894e",
   "metadata": {},
   "source": [
    "##### Code"
   ]
  },
  {
   "cell_type": "code",
   "execution_count": 25,
   "id": "b34b71a9",
   "metadata": {},
   "outputs": [],
   "source": [
    "# Replace all misspelt names with their correct spellings\n",
    "\n",
    "tweets.name = tweets['name'].replace('Carll', 'Carl')\n",
    "tweets.name = tweets['name'].replace('Klevin', 'Kelvin')\n",
    "tweets.name = tweets['name'].replace('Billl', 'Bill')\n",
    "tweets.name = tweets['name'].replace('Shawwn', 'Shawn')\n",
    "tweets.name = tweets['name'].replace('Paull', 'Paul')\n",
    "tweets.name = tweets['name'].replace('Traviss', 'Travis')\n",
    "tweets.name = tweets['name'].replace('Zooey', 'Zoey')"
   ]
  },
  {
   "cell_type": "markdown",
   "id": "791e2d45",
   "metadata": {},
   "source": [
    "##### Test"
   ]
  },
  {
   "cell_type": "code",
   "execution_count": 26,
   "id": "8f3a2921",
   "metadata": {},
   "outputs": [
    {
     "data": {
      "text/plain": [
       "False    2167\n",
       "Name: name, dtype: int64"
      ]
     },
     "execution_count": 26,
     "metadata": {},
     "output_type": "execute_result"
    }
   ],
   "source": [
    "# Check that corrections have been made\n",
    "\n",
    "tweets.name.str.contains ('Carll' or 'Klevin' or 'Billl' or 'Shawwn' or 'Paull' or 'Traviss' or 'Zooey').value_counts()"
   ]
  },
  {
   "cell_type": "markdown",
   "id": "5c3a0f14",
   "metadata": {},
   "source": [
    "##### `df_tweets`: Inaccurate data\n",
    "Names of dogs falsely inputted"
   ]
  },
  {
   "cell_type": "markdown",
   "id": "709a6ddb",
   "metadata": {},
   "source": [
    "##### Define\n",
    "* Correct names of dogs that were falsely inputted such as 'O' instead of __O'Malley__, 'his' instead of __'Quizno'__, 'my' and 'None' instead of __'Zoey'__"
   ]
  },
  {
   "cell_type": "markdown",
   "id": "6f69c108",
   "metadata": {},
   "source": [
    "##### Code"
   ]
  },
  {
   "cell_type": "code",
   "execution_count": 27,
   "id": "77c1124c",
   "metadata": {},
   "outputs": [
    {
     "data": {
      "text/plain": [
       "(992    his\n",
       " Name: name, dtype: object,\n",
       " 775    O\n",
       " Name: name, dtype: object,\n",
       " 8       Zoey\n",
       " 115     Zoey\n",
       " 168     None\n",
       " 852       my\n",
       " 2141    Zoey\n",
       " Name: name, dtype: object)"
      ]
     },
     "execution_count": 27,
     "metadata": {},
     "output_type": "execute_result"
    }
   ],
   "source": [
    "# Return false names\n",
    "\n",
    "tweets[tweets.text.str.contains (\"Quizno\")].name, tweets[tweets.text.str.contains (\"O'Malley\")].name, tweets[tweets.text.str.contains (\"Zoey\")].name"
   ]
  },
  {
   "cell_type": "code",
   "execution_count": 28,
   "id": "7ee95dcd",
   "metadata": {},
   "outputs": [],
   "source": [
    "# Replace false names with correct names from `text`\n",
    "tweets.loc[992, 'name'] = \"Quizno\"\n",
    "tweets.loc[775, 'name'] = \"O'Malley\"\n",
    "tweets.loc[168, 'name'] = \"Zoey\"\n",
    "tweets.loc[852, 'name'] = \"Zoey\""
   ]
  },
  {
   "cell_type": "markdown",
   "id": "db450a9c",
   "metadata": {},
   "source": [
    "##### Test"
   ]
  },
  {
   "cell_type": "code",
   "execution_count": 29,
   "id": "ffe8243c",
   "metadata": {},
   "outputs": [
    {
     "data": {
      "text/plain": [
       "(992    Quizno\n",
       " Name: name, dtype: object,\n",
       " 775    O'Malley\n",
       " Name: name, dtype: object,\n",
       " 8       Zoey\n",
       " 115     Zoey\n",
       " 151     Zoey\n",
       " 168     Zoey\n",
       " 852     Zoey\n",
       " 2141    Zoey\n",
       " Name: name, dtype: object)"
      ]
     },
     "execution_count": 29,
     "metadata": {},
     "output_type": "execute_result"
    }
   ],
   "source": [
    "# Confirm names have been corrected\n",
    "\n",
    "tweets[tweets.name == 'Quizno'].name, tweets[tweets.name == \"O'Malley\"].name,tweets[tweets.name == 'Zoey'].name"
   ]
  },
  {
   "cell_type": "code",
   "execution_count": 30,
   "id": "7839141d",
   "metadata": {},
   "outputs": [
    {
     "data": {
      "text/html": [
       "<div>\n",
       "<style scoped>\n",
       "    .dataframe tbody tr th:only-of-type {\n",
       "        vertical-align: middle;\n",
       "    }\n",
       "\n",
       "    .dataframe tbody tr th {\n",
       "        vertical-align: top;\n",
       "    }\n",
       "\n",
       "    .dataframe thead th {\n",
       "        text-align: right;\n",
       "    }\n",
       "</style>\n",
       "<table border=\"1\" class=\"dataframe\">\n",
       "  <thead>\n",
       "    <tr style=\"text-align: right;\">\n",
       "      <th></th>\n",
       "      <th>tweet_id</th>\n",
       "      <th>in_reply_to_status_id</th>\n",
       "      <th>in_reply_to_user_id</th>\n",
       "      <th>timestamp</th>\n",
       "      <th>source</th>\n",
       "      <th>text</th>\n",
       "      <th>retweeted_status_id</th>\n",
       "      <th>retweeted_status_user_id</th>\n",
       "      <th>retweeted_status_timestamp</th>\n",
       "      <th>expanded_urls</th>\n",
       "      <th>rating_numerator</th>\n",
       "      <th>rating_denominator</th>\n",
       "      <th>name</th>\n",
       "      <th>doggo</th>\n",
       "      <th>floofer</th>\n",
       "      <th>pupper</th>\n",
       "      <th>puppo</th>\n",
       "    </tr>\n",
       "  </thead>\n",
       "  <tbody>\n",
       "    <tr>\n",
       "      <th>992</th>\n",
       "      <td>748692773788876800</td>\n",
       "      <td>NaN</td>\n",
       "      <td>NaN</td>\n",
       "      <td>2016-07-01 01:40:41</td>\n",
       "      <td>&lt;a href=\"http://twitter.com/download/iphone\" r...</td>\n",
       "      <td>That is Quizno. This is his beach. He does not...</td>\n",
       "      <td>NaN</td>\n",
       "      <td>NaN</td>\n",
       "      <td>NaN</td>\n",
       "      <td>https://twitter.com/dog_rates/status/748692773...</td>\n",
       "      <td>10</td>\n",
       "      <td>10</td>\n",
       "      <td>Quizno</td>\n",
       "      <td>doggo</td>\n",
       "      <td>None</td>\n",
       "      <td>None</td>\n",
       "      <td>None</td>\n",
       "    </tr>\n",
       "  </tbody>\n",
       "</table>\n",
       "</div>"
      ],
      "text/plain": [
       "               tweet_id  in_reply_to_status_id  in_reply_to_user_id  \\\n",
       "992  748692773788876800                    NaN                  NaN   \n",
       "\n",
       "              timestamp                                             source  \\\n",
       "992 2016-07-01 01:40:41  <a href=\"http://twitter.com/download/iphone\" r...   \n",
       "\n",
       "                                                  text  retweeted_status_id  \\\n",
       "992  That is Quizno. This is his beach. He does not...                  NaN   \n",
       "\n",
       "     retweeted_status_user_id retweeted_status_timestamp  \\\n",
       "992                       NaN                        NaN   \n",
       "\n",
       "                                         expanded_urls  rating_numerator  \\\n",
       "992  https://twitter.com/dog_rates/status/748692773...                10   \n",
       "\n",
       "     rating_denominator    name  doggo floofer pupper puppo  \n",
       "992                  10  Quizno  doggo    None   None  None  "
      ]
     },
     "execution_count": 30,
     "metadata": {},
     "output_type": "execute_result"
    }
   ],
   "source": [
    "tweets[tweets.name == 'Quizno']"
   ]
  },
  {
   "cell_type": "markdown",
   "id": "0fa89463",
   "metadata": {},
   "source": [
    "##### `df_tweets`: Invalid Data\n",
    "Invalid Dog names"
   ]
  },
  {
   "cell_type": "markdown",
   "id": "8d4e4a88",
   "metadata": {},
   "source": [
    "##### Define\n",
    "Change dog names to 'NaN'\n",
    "- ('a', 'an', 'quite', 'the', 'by', 'actually', 'just', 'very', 'infuriating', 'old', 'all', 'unacceptable', 'this', 'mad', 'getting', 'one', 'not', 'such', 'incredibly', 'officially', 'light', 'life', 'space')"
   ]
  },
  {
   "cell_type": "markdown",
   "id": "63d928f1",
   "metadata": {},
   "source": [
    "##### Code"
   ]
  },
  {
   "cell_type": "code",
   "execution_count": 31,
   "id": "49a08697",
   "metadata": {
    "scrolled": true
   },
   "outputs": [],
   "source": [
    "# Create list of false names to be changed\n",
    "\n",
    "false_names = tweets.name.str.islower()\n",
    "column_name = 'name'\n",
    "\n",
    "# Change names in list to 'NaN'\n",
    "tweets.loc[false_names, column_name] = np.nan"
   ]
  },
  {
   "cell_type": "markdown",
   "id": "6798a5b6",
   "metadata": {},
   "source": [
    "##### Test"
   ]
  },
  {
   "cell_type": "code",
   "execution_count": 32,
   "id": "4e16a745",
   "metadata": {},
   "outputs": [
    {
     "data": {
      "text/plain": [
       "False"
      ]
     },
     "execution_count": 32,
     "metadata": {},
     "output_type": "execute_result"
    }
   ],
   "source": [
    "# Check to confirm changes\n",
    "\n",
    "tweets[tweets['name'].isin(false_names)].name.any()"
   ]
  },
  {
   "cell_type": "code",
   "execution_count": 33,
   "id": "bdda2aff",
   "metadata": {},
   "outputs": [
    {
     "data": {
      "text/plain": [
       "False    2065\n",
       "Name: name, dtype: int64"
      ]
     },
     "execution_count": 33,
     "metadata": {},
     "output_type": "execute_result"
    }
   ],
   "source": [
    "# Confirm no name begins with lowercase\n",
    "\n",
    "tweets['name'].str.islower().value_counts()"
   ]
  },
  {
   "cell_type": "code",
   "execution_count": 34,
   "id": "24887e1b",
   "metadata": {},
   "outputs": [
    {
     "data": {
      "text/plain": [
       "1601    Hammond\n",
       "839        None\n",
       "1196     Flávio\n",
       "265     Bentley\n",
       "548       Sansa\n",
       "1065       None\n",
       "1467      Grady\n",
       "Name: name, dtype: object"
      ]
     },
     "execution_count": 34,
     "metadata": {},
     "output_type": "execute_result"
    }
   ],
   "source": [
    "tweets.name.sample(7)"
   ]
  },
  {
   "cell_type": "markdown",
   "id": "d9734f12",
   "metadata": {},
   "source": [
    "##### `df_tweets`: Irrelevant columns\n",
    "Drop columns that are not relevant"
   ]
  },
  {
   "cell_type": "markdown",
   "id": "75f21f3c",
   "metadata": {},
   "source": [
    "##### Define\n",
    "* Drop columns with null values that are not relevant for our analysis\n",
    "\n",
    "`'in_reply_to_status_id', 'in_reply_to_user_id', 'retweeted_status_id', 'retweeted_status_user_id', 'retweeted_status_timestamp' and 'expanded_urls'`"
   ]
  },
  {
   "cell_type": "markdown",
   "id": "06250216",
   "metadata": {},
   "source": [
    "##### Code"
   ]
  },
  {
   "cell_type": "code",
   "execution_count": 35,
   "id": "d9a6327e",
   "metadata": {
    "scrolled": true
   },
   "outputs": [],
   "source": [
    "# Drop highlighted columns\n",
    "\n",
    "tweets = tweets.drop(['in_reply_to_status_id', 'in_reply_to_user_id', 'retweeted_status_id',\n",
    "             'retweeted_status_user_id', 'retweeted_status_timestamp', 'expanded_urls'], axis=1)"
   ]
  },
  {
   "cell_type": "markdown",
   "id": "45df6d2a",
   "metadata": {},
   "source": [
    "##### Test"
   ]
  },
  {
   "cell_type": "code",
   "execution_count": 36,
   "id": "99c4e7b3",
   "metadata": {
    "scrolled": true
   },
   "outputs": [
    {
     "name": "stdout",
     "output_type": "stream",
     "text": [
      "<class 'pandas.core.frame.DataFrame'>\n",
      "Int64Index: 2167 entries, 0 to 2355\n",
      "Data columns (total 11 columns):\n",
      " #   Column              Non-Null Count  Dtype         \n",
      "---  ------              --------------  -----         \n",
      " 0   tweet_id            2167 non-null   int64         \n",
      " 1   timestamp           2167 non-null   datetime64[ns]\n",
      " 2   source              2167 non-null   object        \n",
      " 3   text                2167 non-null   object        \n",
      " 4   rating_numerator    2167 non-null   int64         \n",
      " 5   rating_denominator  2167 non-null   int64         \n",
      " 6   name                2065 non-null   object        \n",
      " 7   doggo               2167 non-null   object        \n",
      " 8   floofer             2167 non-null   object        \n",
      " 9   pupper              2167 non-null   object        \n",
      " 10  puppo               2167 non-null   object        \n",
      "dtypes: datetime64[ns](1), int64(3), object(7)\n",
      "memory usage: 267.7+ KB\n"
     ]
    }
   ],
   "source": [
    "# Confirm columns have been dropped\n",
    "\n",
    "tweets.info()"
   ]
  },
  {
   "cell_type": "markdown",
   "id": "9364a9cf",
   "metadata": {},
   "source": [
    "##### `df_tweets`: Tweet source\n",
    "- Extract tweet source data"
   ]
  },
  {
   "cell_type": "markdown",
   "id": "26b25dfa",
   "metadata": {},
   "source": [
    "##### Define\n",
    "* Extract tweet source data from `source` and append to `source`\n",
    "* Convert to category datatype"
   ]
  },
  {
   "cell_type": "markdown",
   "id": "d2ae5963",
   "metadata": {},
   "source": [
    "##### Code"
   ]
  },
  {
   "cell_type": "code",
   "execution_count": 37,
   "id": "fdc98b02",
   "metadata": {},
   "outputs": [],
   "source": [
    "# Extract text from url using str.split method\n",
    "\n",
    "source_tweets = df_tweets.source.str.split('\\>').str[1].str.split('<').str[-2].str.strip().astype('category')\n",
    "tweets['source'] = source_tweets"
   ]
  },
  {
   "cell_type": "markdown",
   "id": "ba648ef2",
   "metadata": {},
   "source": [
    "##### Test"
   ]
  },
  {
   "cell_type": "code",
   "execution_count": 38,
   "id": "7b1191b3",
   "metadata": {},
   "outputs": [
    {
     "data": {
      "text/plain": [
       "Twitter for iPhone     2035\n",
       "Vine - Make a Scene      91\n",
       "Twitter Web Client       31\n",
       "TweetDeck                10\n",
       "Name: source, dtype: int64"
      ]
     },
     "execution_count": 38,
     "metadata": {},
     "output_type": "execute_result"
    }
   ],
   "source": [
    "# Confirm changes\n",
    "\n",
    "tweets.source.value_counts()"
   ]
  },
  {
   "cell_type": "code",
   "execution_count": 39,
   "id": "582c8f12",
   "metadata": {
    "scrolled": true
   },
   "outputs": [
    {
     "data": {
      "text/html": [
       "<div>\n",
       "<style scoped>\n",
       "    .dataframe tbody tr th:only-of-type {\n",
       "        vertical-align: middle;\n",
       "    }\n",
       "\n",
       "    .dataframe tbody tr th {\n",
       "        vertical-align: top;\n",
       "    }\n",
       "\n",
       "    .dataframe thead th {\n",
       "        text-align: right;\n",
       "    }\n",
       "</style>\n",
       "<table border=\"1\" class=\"dataframe\">\n",
       "  <thead>\n",
       "    <tr style=\"text-align: right;\">\n",
       "      <th></th>\n",
       "      <th>tweet_id</th>\n",
       "      <th>timestamp</th>\n",
       "      <th>source</th>\n",
       "      <th>text</th>\n",
       "      <th>rating_numerator</th>\n",
       "      <th>rating_denominator</th>\n",
       "      <th>name</th>\n",
       "      <th>doggo</th>\n",
       "      <th>floofer</th>\n",
       "      <th>pupper</th>\n",
       "      <th>puppo</th>\n",
       "    </tr>\n",
       "  </thead>\n",
       "  <tbody>\n",
       "    <tr>\n",
       "      <th>701</th>\n",
       "      <td>786051337297522688</td>\n",
       "      <td>2016-10-12 03:50:17</td>\n",
       "      <td>Twitter for iPhone</td>\n",
       "      <td>13/10 for breakdancing puppo @shibbnbot</td>\n",
       "      <td>13</td>\n",
       "      <td>10</td>\n",
       "      <td>None</td>\n",
       "      <td>None</td>\n",
       "      <td>None</td>\n",
       "      <td>None</td>\n",
       "      <td>puppo</td>\n",
       "    </tr>\n",
       "    <tr>\n",
       "      <th>407</th>\n",
       "      <td>823699002998870016</td>\n",
       "      <td>2017-01-24 01:08:40</td>\n",
       "      <td>Twitter for iPhone</td>\n",
       "      <td>This is Winston. The goggles make him a superh...</td>\n",
       "      <td>12</td>\n",
       "      <td>10</td>\n",
       "      <td>Winston</td>\n",
       "      <td>None</td>\n",
       "      <td>None</td>\n",
       "      <td>None</td>\n",
       "      <td>None</td>\n",
       "    </tr>\n",
       "  </tbody>\n",
       "</table>\n",
       "</div>"
      ],
      "text/plain": [
       "               tweet_id           timestamp              source  \\\n",
       "701  786051337297522688 2016-10-12 03:50:17  Twitter for iPhone   \n",
       "407  823699002998870016 2017-01-24 01:08:40  Twitter for iPhone   \n",
       "\n",
       "                                                  text  rating_numerator  \\\n",
       "701            13/10 for breakdancing puppo @shibbnbot                13   \n",
       "407  This is Winston. The goggles make him a superh...                12   \n",
       "\n",
       "     rating_denominator     name doggo floofer pupper  puppo  \n",
       "701                  10     None  None    None   None  puppo  \n",
       "407                  10  Winston  None    None   None   None  "
      ]
     },
     "execution_count": 39,
     "metadata": {},
     "output_type": "execute_result"
    }
   ],
   "source": [
    "tweets.sample(2)"
   ]
  },
  {
   "cell_type": "markdown",
   "id": "b5df2a27",
   "metadata": {},
   "source": [
    "##### `df_tweets`: Hyperlink in Text\n",
    "- Hyperlinks present in `text` entries"
   ]
  },
  {
   "cell_type": "markdown",
   "id": "b2c4fc8b",
   "metadata": {},
   "source": [
    "##### Define\n",
    "* Remove hyperlinks in `text` entries"
   ]
  },
  {
   "cell_type": "markdown",
   "id": "28a352bd",
   "metadata": {},
   "source": [
    "##### Code"
   ]
  },
  {
   "cell_type": "code",
   "execution_count": 40,
   "id": "9f2e602a",
   "metadata": {},
   "outputs": [],
   "source": [
    "# Define function to remove hyperlink\n",
    "\n",
    "def hyper_link(i):\n",
    "    html_ = i.find('http')\n",
    "    if html_ == -1:\n",
    "        i = i\n",
    "    else:\n",
    "        i = i[:html_ -1]\n",
    "    return i\n",
    "\n",
    "# Apply to tweets table\n",
    "\n",
    "tweets.text = tweets.text.apply(hyper_link)"
   ]
  },
  {
   "cell_type": "markdown",
   "id": "d5489dbc",
   "metadata": {},
   "source": [
    "##### Test"
   ]
  },
  {
   "cell_type": "code",
   "execution_count": 41,
   "id": "a4eab56d",
   "metadata": {},
   "outputs": [
    {
     "name": "stdout",
     "output_type": "stream",
     "text": [
      "This is Phineas. He's a mystical boy. Only ever appears in the hole of a donut. 13/10\n"
     ]
    }
   ],
   "source": [
    "# Confirm removal of hyperlinks\n",
    "\n",
    "print(tweets.text[0])"
   ]
  },
  {
   "cell_type": "markdown",
   "id": "41fa2389",
   "metadata": {},
   "source": [
    "#####  `df_images`: Missing Data\n",
    "- Missing data entries in `df_images`"
   ]
  },
  {
   "cell_type": "markdown",
   "id": "00587e48",
   "metadata": {},
   "source": [
    "##### Define\n",
    "* Drop entries with missing images from `df_tweets` and `df_counts` table"
   ]
  },
  {
   "cell_type": "markdown",
   "id": "40d9324a",
   "metadata": {},
   "source": [
    "##### Code"
   ]
  },
  {
   "cell_type": "code",
   "execution_count": 42,
   "id": "1efc75fd",
   "metadata": {},
   "outputs": [],
   "source": [
    "# Drop missing entries across all tables for consistency\n",
    "\n",
    "counts = counts[counts['tweet_id'].isin(tweets['tweet_id'])]\n",
    "tweets = tweets[tweets['tweet_id'].isin(images['tweet_id'])]\n",
    "counts = counts[counts['tweet_id'].isin(images['tweet_id'])]\n",
    "images = images[images['tweet_id'].isin(tweets['tweet_id'])]"
   ]
  },
  {
   "cell_type": "markdown",
   "id": "5198a0e0",
   "metadata": {},
   "source": [
    "##### Test"
   ]
  },
  {
   "cell_type": "code",
   "execution_count": 43,
   "id": "c1d0619f",
   "metadata": {},
   "outputs": [
    {
     "data": {
      "text/plain": [
       "((1986, 11), (1986, 3), (1986, 12))"
      ]
     },
     "execution_count": 43,
     "metadata": {},
     "output_type": "execute_result"
    }
   ],
   "source": [
    "# Confirm missing entries have been dropped\n",
    "\n",
    "tweets.shape, counts.shape, images.shape"
   ]
  },
  {
   "cell_type": "markdown",
   "id": "8c6b1250",
   "metadata": {},
   "source": [
    "##### `df_images`: Invalid data"
   ]
  },
  {
   "cell_type": "markdown",
   "id": "92cfea03",
   "metadata": {},
   "source": [
    "##### Define\n",
    "* Drop all tweets with images of animals that are not dogs from the dataset (i.e `p1_dog` `p2_dog` & `p3_dog` = _False_)\n",
    "* Drop entries with corresponding tweet id from `counts` and `tweets` tables"
   ]
  },
  {
   "cell_type": "markdown",
   "id": "3a797305",
   "metadata": {},
   "source": [
    "##### Code"
   ]
  },
  {
   "cell_type": "code",
   "execution_count": 44,
   "id": "d5bd9400",
   "metadata": {},
   "outputs": [],
   "source": [
    "# Return entries where all three dog predictions are false\n",
    "\n",
    "false_images = images[(images['p1_dog']==False) & (images['p2_dog']==False) & (images['p3_dog']==False)]\n",
    "false_id = false_images.tweet_id"
   ]
  },
  {
   "cell_type": "code",
   "execution_count": 45,
   "id": "03bcac66",
   "metadata": {},
   "outputs": [
    {
     "data": {
      "text/html": [
       "<div>\n",
       "<style scoped>\n",
       "    .dataframe tbody tr th:only-of-type {\n",
       "        vertical-align: middle;\n",
       "    }\n",
       "\n",
       "    .dataframe tbody tr th {\n",
       "        vertical-align: top;\n",
       "    }\n",
       "\n",
       "    .dataframe thead th {\n",
       "        text-align: right;\n",
       "    }\n",
       "</style>\n",
       "<table border=\"1\" class=\"dataframe\">\n",
       "  <thead>\n",
       "    <tr style=\"text-align: right;\">\n",
       "      <th></th>\n",
       "      <th>tweet_id</th>\n",
       "      <th>jpg_url</th>\n",
       "      <th>img_num</th>\n",
       "      <th>p1</th>\n",
       "      <th>p1_conf</th>\n",
       "      <th>p1_dog</th>\n",
       "      <th>p2</th>\n",
       "      <th>p2_conf</th>\n",
       "      <th>p2_dog</th>\n",
       "      <th>p3</th>\n",
       "      <th>p3_conf</th>\n",
       "      <th>p3_dog</th>\n",
       "    </tr>\n",
       "  </thead>\n",
       "  <tbody>\n",
       "    <tr>\n",
       "      <th>935</th>\n",
       "      <td>703407252292673536</td>\n",
       "      <td>https://pbs.twimg.com/media/CcMBJODUsAI5-A9.jpg</td>\n",
       "      <td>1</td>\n",
       "      <td>doormat</td>\n",
       "      <td>0.201058</td>\n",
       "      <td>False</td>\n",
       "      <td>turnstile</td>\n",
       "      <td>0.088583</td>\n",
       "      <td>False</td>\n",
       "      <td>carton</td>\n",
       "      <td>0.082924</td>\n",
       "      <td>False</td>\n",
       "    </tr>\n",
       "    <tr>\n",
       "      <th>303</th>\n",
       "      <td>671511350426865664</td>\n",
       "      <td>https://pbs.twimg.com/media/CVGwAh-W4AAIHJz.jpg</td>\n",
       "      <td>1</td>\n",
       "      <td>hermit_crab</td>\n",
       "      <td>0.625409</td>\n",
       "      <td>False</td>\n",
       "      <td>tick</td>\n",
       "      <td>0.127333</td>\n",
       "      <td>False</td>\n",
       "      <td>snail</td>\n",
       "      <td>0.097916</td>\n",
       "      <td>False</td>\n",
       "    </tr>\n",
       "    <tr>\n",
       "      <th>100</th>\n",
       "      <td>667782464991965184</td>\n",
       "      <td>https://pbs.twimg.com/media/CURwm3cUkAARcO6.jpg</td>\n",
       "      <td>1</td>\n",
       "      <td>lorikeet</td>\n",
       "      <td>0.466149</td>\n",
       "      <td>False</td>\n",
       "      <td>hummingbird</td>\n",
       "      <td>0.083011</td>\n",
       "      <td>False</td>\n",
       "      <td>African_grey</td>\n",
       "      <td>0.054247</td>\n",
       "      <td>False</td>\n",
       "    </tr>\n",
       "    <tr>\n",
       "      <th>77</th>\n",
       "      <td>667437278097252352</td>\n",
       "      <td>https://pbs.twimg.com/media/CUM2qWaWoAUZ06L.jpg</td>\n",
       "      <td>1</td>\n",
       "      <td>porcupine</td>\n",
       "      <td>0.989154</td>\n",
       "      <td>False</td>\n",
       "      <td>bath_towel</td>\n",
       "      <td>0.006300</td>\n",
       "      <td>False</td>\n",
       "      <td>badger</td>\n",
       "      <td>0.000966</td>\n",
       "      <td>False</td>\n",
       "    </tr>\n",
       "    <tr>\n",
       "      <th>929</th>\n",
       "      <td>702932127499816960</td>\n",
       "      <td>https://pbs.twimg.com/media/CcFRCfRW4AA5a72.jpg</td>\n",
       "      <td>1</td>\n",
       "      <td>wallaby</td>\n",
       "      <td>0.410710</td>\n",
       "      <td>False</td>\n",
       "      <td>wombat</td>\n",
       "      <td>0.239332</td>\n",
       "      <td>False</td>\n",
       "      <td>beaver</td>\n",
       "      <td>0.149605</td>\n",
       "      <td>False</td>\n",
       "    </tr>\n",
       "  </tbody>\n",
       "</table>\n",
       "</div>"
      ],
      "text/plain": [
       "               tweet_id                                          jpg_url  \\\n",
       "935  703407252292673536  https://pbs.twimg.com/media/CcMBJODUsAI5-A9.jpg   \n",
       "303  671511350426865664  https://pbs.twimg.com/media/CVGwAh-W4AAIHJz.jpg   \n",
       "100  667782464991965184  https://pbs.twimg.com/media/CURwm3cUkAARcO6.jpg   \n",
       "77   667437278097252352  https://pbs.twimg.com/media/CUM2qWaWoAUZ06L.jpg   \n",
       "929  702932127499816960  https://pbs.twimg.com/media/CcFRCfRW4AA5a72.jpg   \n",
       "\n",
       "     img_num           p1   p1_conf  p1_dog           p2   p2_conf  p2_dog  \\\n",
       "935        1      doormat  0.201058   False    turnstile  0.088583   False   \n",
       "303        1  hermit_crab  0.625409   False         tick  0.127333   False   \n",
       "100        1     lorikeet  0.466149   False  hummingbird  0.083011   False   \n",
       "77         1    porcupine  0.989154   False   bath_towel  0.006300   False   \n",
       "929        1      wallaby  0.410710   False       wombat  0.239332   False   \n",
       "\n",
       "               p3   p3_conf  p3_dog  \n",
       "935        carton  0.082924   False  \n",
       "303         snail  0.097916   False  \n",
       "100  African_grey  0.054247   False  \n",
       "77         badger  0.000966   False  \n",
       "929        beaver  0.149605   False  "
      ]
     },
     "execution_count": 45,
     "metadata": {},
     "output_type": "execute_result"
    }
   ],
   "source": [
    "false_images.sample(5)"
   ]
  },
  {
   "cell_type": "code",
   "execution_count": 46,
   "id": "dc45fa29",
   "metadata": {},
   "outputs": [
    {
     "data": {
      "text/plain": [
       "308"
      ]
     },
     "execution_count": 46,
     "metadata": {},
     "output_type": "execute_result"
    }
   ],
   "source": [
    "false_id.count()"
   ]
  },
  {
   "cell_type": "code",
   "execution_count": 47,
   "id": "ac546acc",
   "metadata": {},
   "outputs": [],
   "source": [
    "# Drop entries with false images across all tables\n",
    "\n",
    "images = images[~images.tweet_id.isin(false_id)]\n",
    "tweets = tweets[~tweets.tweet_id.isin(false_id)]\n",
    "counts = counts[~counts.tweet_id.isin(false_id)]"
   ]
  },
  {
   "cell_type": "markdown",
   "id": "9e02461f",
   "metadata": {},
   "source": [
    "##### Test"
   ]
  },
  {
   "cell_type": "code",
   "execution_count": 48,
   "id": "005d4ffc",
   "metadata": {},
   "outputs": [
    {
     "data": {
      "text/plain": [
       "((1678, 11), (1678, 3), (1678, 12))"
      ]
     },
     "execution_count": 48,
     "metadata": {},
     "output_type": "execute_result"
    }
   ],
   "source": [
    "# Check dimensions of tables to confirm changes\n",
    "\n",
    "tweets.shape, counts.shape, images.shape"
   ]
  },
  {
   "cell_type": "markdown",
   "id": "dc8a7f65",
   "metadata": {},
   "source": [
    "##### `df_images`: Percentage values in hundredths"
   ]
  },
  {
   "cell_type": "markdown",
   "id": "217070f7",
   "metadata": {},
   "source": [
    "##### Define\n",
    "* Change percentage values from hundredths"
   ]
  },
  {
   "cell_type": "markdown",
   "id": "ce194f85",
   "metadata": {},
   "source": [
    "##### Code"
   ]
  },
  {
   "cell_type": "code",
   "execution_count": 49,
   "id": "11657e22",
   "metadata": {},
   "outputs": [],
   "source": [
    "images['p1_conf'] = images['p1_conf'].apply(lambda x: x*100)\n",
    "images['p2_conf'] = images['p2_conf'].apply(lambda x: x*100)\n",
    "images['p3_conf'] = images['p3_conf'].apply(lambda x: x*100)"
   ]
  },
  {
   "cell_type": "markdown",
   "id": "f0af4b81",
   "metadata": {},
   "source": [
    "##### Test"
   ]
  },
  {
   "cell_type": "code",
   "execution_count": 50,
   "id": "938c033a",
   "metadata": {
    "scrolled": true
   },
   "outputs": [
    {
     "data": {
      "text/html": [
       "<div>\n",
       "<style scoped>\n",
       "    .dataframe tbody tr th:only-of-type {\n",
       "        vertical-align: middle;\n",
       "    }\n",
       "\n",
       "    .dataframe tbody tr th {\n",
       "        vertical-align: top;\n",
       "    }\n",
       "\n",
       "    .dataframe thead th {\n",
       "        text-align: right;\n",
       "    }\n",
       "</style>\n",
       "<table border=\"1\" class=\"dataframe\">\n",
       "  <thead>\n",
       "    <tr style=\"text-align: right;\">\n",
       "      <th></th>\n",
       "      <th>tweet_id</th>\n",
       "      <th>jpg_url</th>\n",
       "      <th>img_num</th>\n",
       "      <th>p1</th>\n",
       "      <th>p1_conf</th>\n",
       "      <th>p1_dog</th>\n",
       "      <th>p2</th>\n",
       "      <th>p2_conf</th>\n",
       "      <th>p2_dog</th>\n",
       "      <th>p3</th>\n",
       "      <th>p3_conf</th>\n",
       "      <th>p3_dog</th>\n",
       "    </tr>\n",
       "  </thead>\n",
       "  <tbody>\n",
       "    <tr>\n",
       "      <th>0</th>\n",
       "      <td>666020888022790149</td>\n",
       "      <td>https://pbs.twimg.com/media/CT4udn0WwAA0aMy.jpg</td>\n",
       "      <td>1</td>\n",
       "      <td>Welsh_springer_spaniel</td>\n",
       "      <td>46.5074</td>\n",
       "      <td>True</td>\n",
       "      <td>collie</td>\n",
       "      <td>15.66650</td>\n",
       "      <td>True</td>\n",
       "      <td>Shetland_sheepdog</td>\n",
       "      <td>6.14285</td>\n",
       "      <td>True</td>\n",
       "    </tr>\n",
       "    <tr>\n",
       "      <th>1</th>\n",
       "      <td>666029285002620928</td>\n",
       "      <td>https://pbs.twimg.com/media/CT42GRgUYAA5iDo.jpg</td>\n",
       "      <td>1</td>\n",
       "      <td>redbone</td>\n",
       "      <td>50.6826</td>\n",
       "      <td>True</td>\n",
       "      <td>miniature_pinscher</td>\n",
       "      <td>7.41917</td>\n",
       "      <td>True</td>\n",
       "      <td>Rhodesian_ridgeback</td>\n",
       "      <td>7.20100</td>\n",
       "      <td>True</td>\n",
       "    </tr>\n",
       "  </tbody>\n",
       "</table>\n",
       "</div>"
      ],
      "text/plain": [
       "             tweet_id                                          jpg_url  \\\n",
       "0  666020888022790149  https://pbs.twimg.com/media/CT4udn0WwAA0aMy.jpg   \n",
       "1  666029285002620928  https://pbs.twimg.com/media/CT42GRgUYAA5iDo.jpg   \n",
       "\n",
       "   img_num                      p1  p1_conf  p1_dog                  p2  \\\n",
       "0        1  Welsh_springer_spaniel  46.5074    True              collie   \n",
       "1        1                 redbone  50.6826    True  miniature_pinscher   \n",
       "\n",
       "    p2_conf  p2_dog                   p3  p3_conf  p3_dog  \n",
       "0  15.66650    True    Shetland_sheepdog  6.14285    True  \n",
       "1   7.41917    True  Rhodesian_ridgeback  7.20100    True  "
      ]
     },
     "execution_count": 50,
     "metadata": {},
     "output_type": "execute_result"
    }
   ],
   "source": [
    "# Preview table using .head\n",
    "\n",
    "images.head(2)"
   ]
  },
  {
   "cell_type": "markdown",
   "id": "bcda965c",
   "metadata": {},
   "source": [
    "##### Define\n",
    "- Drop img_num from `images`"
   ]
  },
  {
   "cell_type": "markdown",
   "id": "887d76f9",
   "metadata": {},
   "source": [
    "##### Code"
   ]
  },
  {
   "cell_type": "code",
   "execution_count": 51,
   "id": "84aeb198",
   "metadata": {},
   "outputs": [],
   "source": [
    "# Drop img_num column\n",
    "\n",
    "images = images.drop(['img_num'], axis=1)"
   ]
  },
  {
   "cell_type": "markdown",
   "id": "f4a2faae",
   "metadata": {},
   "source": [
    "##### Test"
   ]
  },
  {
   "cell_type": "code",
   "execution_count": 52,
   "id": "786d25c5",
   "metadata": {},
   "outputs": [
    {
     "data": {
      "text/html": [
       "<div>\n",
       "<style scoped>\n",
       "    .dataframe tbody tr th:only-of-type {\n",
       "        vertical-align: middle;\n",
       "    }\n",
       "\n",
       "    .dataframe tbody tr th {\n",
       "        vertical-align: top;\n",
       "    }\n",
       "\n",
       "    .dataframe thead th {\n",
       "        text-align: right;\n",
       "    }\n",
       "</style>\n",
       "<table border=\"1\" class=\"dataframe\">\n",
       "  <thead>\n",
       "    <tr style=\"text-align: right;\">\n",
       "      <th></th>\n",
       "      <th>tweet_id</th>\n",
       "      <th>jpg_url</th>\n",
       "      <th>p1</th>\n",
       "      <th>p1_conf</th>\n",
       "      <th>p1_dog</th>\n",
       "      <th>p2</th>\n",
       "      <th>p2_conf</th>\n",
       "      <th>p2_dog</th>\n",
       "      <th>p3</th>\n",
       "      <th>p3_conf</th>\n",
       "      <th>p3_dog</th>\n",
       "    </tr>\n",
       "  </thead>\n",
       "  <tbody>\n",
       "    <tr>\n",
       "      <th>0</th>\n",
       "      <td>666020888022790149</td>\n",
       "      <td>https://pbs.twimg.com/media/CT4udn0WwAA0aMy.jpg</td>\n",
       "      <td>Welsh_springer_spaniel</td>\n",
       "      <td>46.5074</td>\n",
       "      <td>True</td>\n",
       "      <td>collie</td>\n",
       "      <td>15.6665</td>\n",
       "      <td>True</td>\n",
       "      <td>Shetland_sheepdog</td>\n",
       "      <td>6.14285</td>\n",
       "      <td>True</td>\n",
       "    </tr>\n",
       "  </tbody>\n",
       "</table>\n",
       "</div>"
      ],
      "text/plain": [
       "             tweet_id                                          jpg_url  \\\n",
       "0  666020888022790149  https://pbs.twimg.com/media/CT4udn0WwAA0aMy.jpg   \n",
       "\n",
       "                       p1  p1_conf  p1_dog      p2  p2_conf  p2_dog  \\\n",
       "0  Welsh_springer_spaniel  46.5074    True  collie  15.6665    True   \n",
       "\n",
       "                  p3  p3_conf  p3_dog  \n",
       "0  Shetland_sheepdog  6.14285    True  "
      ]
     },
     "execution_count": 52,
     "metadata": {},
     "output_type": "execute_result"
    }
   ],
   "source": [
    "# Preview dataframe\n",
    "\n",
    "images.head(1)"
   ]
  },
  {
   "cell_type": "markdown",
   "id": "38266244",
   "metadata": {},
   "source": [
    "#### Tidiness\n",
    "##### `df_tweets`: One column for dog stage split into four columns in df_tweets ('doggo', 'floofer', 'pupper' and 'puppo')"
   ]
  },
  {
   "cell_type": "markdown",
   "id": "c42e705d",
   "metadata": {},
   "source": [
    "##### Define\n",
    "* Join 'doggo', 'floofer', 'pupper' and 'puppo' under one column `dog_stage` and convert 'None' values to NaN\n",
    "* Convert to category datatype"
   ]
  },
  {
   "cell_type": "markdown",
   "id": "fe6721de",
   "metadata": {},
   "source": [
    "##### Code"
   ]
  },
  {
   "cell_type": "code",
   "execution_count": 53,
   "id": "6b5bb98f",
   "metadata": {},
   "outputs": [],
   "source": [
    "# Create list of dog stages and drop replace 'None' values with NaN\n",
    "\n",
    "dog_stage = ['doggo', 'floofer', 'pupper', 'puppo']\n",
    "tweets[dog_stage] = tweets[dog_stage].replace('None', np.nan)\n",
    "\n",
    "# Define function to join columns\n",
    "def join(var):\n",
    "    return ', '.join(var.dropna().astype(str))\n",
    "tweets['dog_stage'] = tweets[dog_stage].apply(join, axis=1)"
   ]
  },
  {
   "cell_type": "code",
   "execution_count": 54,
   "id": "e1ec050d",
   "metadata": {},
   "outputs": [],
   "source": [
    "# Replace empty entries with NaN and convert to category datatype\n",
    "\n",
    "tweets['dog_stage'] = tweets['dog_stage'].replace('', np.nan).astype('category')"
   ]
  },
  {
   "cell_type": "code",
   "execution_count": 55,
   "id": "3f98f311",
   "metadata": {},
   "outputs": [],
   "source": [
    "# Drop doggo, floofer, pupper and puppo columns\n",
    "\n",
    "tweets = tweets.drop(['doggo', 'floofer', 'pupper', 'puppo'], axis=1)"
   ]
  },
  {
   "cell_type": "markdown",
   "id": "f2ec734c",
   "metadata": {},
   "source": [
    "##### Test"
   ]
  },
  {
   "cell_type": "code",
   "execution_count": 56,
   "id": "a851737a",
   "metadata": {},
   "outputs": [
    {
     "data": {
      "text/html": [
       "<div>\n",
       "<style scoped>\n",
       "    .dataframe tbody tr th:only-of-type {\n",
       "        vertical-align: middle;\n",
       "    }\n",
       "\n",
       "    .dataframe tbody tr th {\n",
       "        vertical-align: top;\n",
       "    }\n",
       "\n",
       "    .dataframe thead th {\n",
       "        text-align: right;\n",
       "    }\n",
       "</style>\n",
       "<table border=\"1\" class=\"dataframe\">\n",
       "  <thead>\n",
       "    <tr style=\"text-align: right;\">\n",
       "      <th></th>\n",
       "      <th>tweet_id</th>\n",
       "      <th>timestamp</th>\n",
       "      <th>source</th>\n",
       "      <th>text</th>\n",
       "      <th>rating_numerator</th>\n",
       "      <th>rating_denominator</th>\n",
       "      <th>name</th>\n",
       "      <th>dog_stage</th>\n",
       "    </tr>\n",
       "  </thead>\n",
       "  <tbody>\n",
       "    <tr>\n",
       "      <th>1</th>\n",
       "      <td>892177421306343426</td>\n",
       "      <td>2017-08-01 00:17:27</td>\n",
       "      <td>Twitter for iPhone</td>\n",
       "      <td>This is Tilly. She's just checking pup on you....</td>\n",
       "      <td>13</td>\n",
       "      <td>10</td>\n",
       "      <td>Tilly</td>\n",
       "      <td>NaN</td>\n",
       "    </tr>\n",
       "    <tr>\n",
       "      <th>2</th>\n",
       "      <td>891815181378084864</td>\n",
       "      <td>2017-07-31 00:18:03</td>\n",
       "      <td>Twitter for iPhone</td>\n",
       "      <td>This is Archie. He is a rare Norwegian Pouncin...</td>\n",
       "      <td>12</td>\n",
       "      <td>10</td>\n",
       "      <td>Archie</td>\n",
       "      <td>NaN</td>\n",
       "    </tr>\n",
       "  </tbody>\n",
       "</table>\n",
       "</div>"
      ],
      "text/plain": [
       "             tweet_id           timestamp              source  \\\n",
       "1  892177421306343426 2017-08-01 00:17:27  Twitter for iPhone   \n",
       "2  891815181378084864 2017-07-31 00:18:03  Twitter for iPhone   \n",
       "\n",
       "                                                text  rating_numerator  \\\n",
       "1  This is Tilly. She's just checking pup on you....                13   \n",
       "2  This is Archie. He is a rare Norwegian Pouncin...                12   \n",
       "\n",
       "   rating_denominator    name dog_stage  \n",
       "1                  10   Tilly       NaN  \n",
       "2                  10  Archie       NaN  "
      ]
     },
     "execution_count": 56,
     "metadata": {},
     "output_type": "execute_result"
    }
   ],
   "source": [
    "# Preview tweets table\n",
    "\n",
    "tweets.head(2)"
   ]
  },
  {
   "cell_type": "code",
   "execution_count": 57,
   "id": "e4cbbf02",
   "metadata": {
    "scrolled": true
   },
   "outputs": [
    {
     "name": "stdout",
     "output_type": "stream",
     "text": [
      "<class 'pandas.core.series.Series'>\n",
      "Int64Index: 1678 entries, 1 to 2355\n",
      "Series name: dog_stage\n",
      "Non-Null Count  Dtype   \n",
      "--------------  -----   \n",
      "259 non-null    category\n",
      "dtypes: category(1)\n",
      "memory usage: 15.1 KB\n"
     ]
    }
   ],
   "source": [
    "# Confirm datatype is 'category'\n",
    "\n",
    "tweets.dog_stage.info()"
   ]
  },
  {
   "cell_type": "markdown",
   "id": "be4358e9",
   "metadata": {},
   "source": [
    "##### `df_tweets`: Multiple dog stages\n",
    "Some tweets contain multiple dog stages"
   ]
  },
  {
   "cell_type": "markdown",
   "id": "67c9c76e",
   "metadata": {},
   "source": [
    "##### Define\n",
    "* Manually clean tweets with multiple dog stages"
   ]
  },
  {
   "cell_type": "markdown",
   "id": "cc87d716",
   "metadata": {},
   "source": [
    "##### Code"
   ]
  },
  {
   "cell_type": "code",
   "execution_count": 58,
   "id": "5633bb7e",
   "metadata": {},
   "outputs": [
    {
     "data": {
      "text/plain": [
       "pupper            168\n",
       "doggo              53\n",
       "puppo              21\n",
       "doggo, pupper       8\n",
       "floofer             7\n",
       "doggo, floofer      1\n",
       "doggo, puppo        1\n",
       "Name: dog_stage, dtype: int64"
      ]
     },
     "execution_count": 58,
     "metadata": {},
     "output_type": "execute_result"
    }
   ],
   "source": [
    "# Get the different multiple dog stages\n",
    "\n",
    "tweets.dog_stage.value_counts()"
   ]
  },
  {
   "cell_type": "code",
   "execution_count": 59,
   "id": "ede87744",
   "metadata": {
    "scrolled": true
   },
   "outputs": [
    {
     "name": "stdout",
     "output_type": "stream",
     "text": [
      "460     This is Dido. She's playing the lead role in \"Pupper Stops to Catch Snow Before Resuming Shadow Box with Dried Apple.\" 13/10 (IG: didodoggo)\n",
      "531                         Here we have Burke (pupper) and Dexter (doggo). Pupper wants to be exactly like doggo. Both 12/10 would pet at same time\n",
      "565                                                                                                    Like doggo, like pupper version 2. Both 11/10\n",
      "575                         This is Bones. He's being haunted by another doggo of roughly the same size. 12/10 deep breaths pupper everything's fine\n",
      "889                         Meet Maggie &amp; Lila. Maggie is the doggo, Lila is the pupper. They are sisters. Both 12/10 would pet at the same time\n",
      "956                                 Please stop sending it pictures that don't even have a doggo or pupper in them. Churlish af. 5/10 neat couch tho\n",
      "1063                                                                             This is just downright precious af. 12/10 for both pupper and doggo\n",
      "1113                                                                                              Like father (doggo), like son (pupper). Both 12/10\n",
      "Name: text, dtype: object \n",
      " 200    At first I thought this was a shy doggo, but it's actually a Rare Canadian Floofer Owl. Amateurs would confuse the two. 11/10 only send dogs\n",
      "Name: text, dtype: object \n",
      " 191    Here's a puppo participating in the #ScienceMarch. Cleverly disguising her own doggo agenda. 13/10 would keep the planet habitable for\n",
      "Name: text, dtype: object\n"
     ]
    }
   ],
   "source": [
    "# Display text entries of tweets with multiple dog stages\n",
    "\n",
    "pd.set_option('display.max_colwidth', 150)\n",
    "print(tweets[tweets.dog_stage == ('doggo, pupper')].text, '\\n',\n",
    "      tweets[tweets.dog_stage == ('doggo, floofer')].text, '\\n',\n",
    "      tweets[tweets.dog_stage == ('doggo, puppo')].text)"
   ]
  },
  {
   "cell_type": "markdown",
   "id": "f84b2e57",
   "metadata": {},
   "source": [
    "Turns out some tweets contain images of more than one dog, resulting in multiple dog stages. We would only clean those with one dog."
   ]
  },
  {
   "cell_type": "code",
   "execution_count": 60,
   "id": "65357d2a",
   "metadata": {},
   "outputs": [
    {
     "data": {
      "text/html": [
       "<div>\n",
       "<style scoped>\n",
       "    .dataframe tbody tr th:only-of-type {\n",
       "        vertical-align: middle;\n",
       "    }\n",
       "\n",
       "    .dataframe tbody tr th {\n",
       "        vertical-align: top;\n",
       "    }\n",
       "\n",
       "    .dataframe thead th {\n",
       "        text-align: right;\n",
       "    }\n",
       "</style>\n",
       "<table border=\"1\" class=\"dataframe\">\n",
       "  <thead>\n",
       "    <tr style=\"text-align: right;\">\n",
       "      <th></th>\n",
       "      <th>tweet_id</th>\n",
       "      <th>jpg_url</th>\n",
       "      <th>p1</th>\n",
       "      <th>p1_conf</th>\n",
       "      <th>p1_dog</th>\n",
       "      <th>p2</th>\n",
       "      <th>p2_conf</th>\n",
       "      <th>p2_dog</th>\n",
       "      <th>p3</th>\n",
       "      <th>p3_conf</th>\n",
       "      <th>p3_dog</th>\n",
       "    </tr>\n",
       "  </thead>\n",
       "  <tbody>\n",
       "    <tr>\n",
       "      <th>1292</th>\n",
       "      <td>751583847268179968</td>\n",
       "      <td>https://pbs.twimg.com/media/Cm4phTpWcAAgLsr.jpg</td>\n",
       "      <td>dalmatian</td>\n",
       "      <td>86.8304</td>\n",
       "      <td>True</td>\n",
       "      <td>studio_couch</td>\n",
       "      <td>5.9623</td>\n",
       "      <td>False</td>\n",
       "      <td>snow_leopard</td>\n",
       "      <td>1.38763</td>\n",
       "      <td>False</td>\n",
       "    </tr>\n",
       "  </tbody>\n",
       "</table>\n",
       "</div>"
      ],
      "text/plain": [
       "                tweet_id                                          jpg_url  \\\n",
       "1292  751583847268179968  https://pbs.twimg.com/media/Cm4phTpWcAAgLsr.jpg   \n",
       "\n",
       "             p1  p1_conf  p1_dog            p2  p2_conf  p2_dog            p3  \\\n",
       "1292  dalmatian  86.8304    True  studio_couch   5.9623   False  snow_leopard   \n",
       "\n",
       "      p3_conf  p3_dog  \n",
       "1292  1.38763   False  "
      ]
     },
     "execution_count": 60,
     "metadata": {},
     "output_type": "execute_result"
    }
   ],
   "source": [
    "# Check url to confirm tweet in index number 956 contains image of a dog & not a couch\n",
    "\n",
    "images[images.tweet_id == tweets.loc[956].tweet_id]"
   ]
  },
  {
   "cell_type": "markdown",
   "id": "e0296dad",
   "metadata": {},
   "source": [
    "Confirmed image is a [dalmatian](https://pbs.twimg.com/media/Cm4phTpWcAAgLsr.jpg) _doggo_"
   ]
  },
  {
   "cell_type": "code",
   "execution_count": 61,
   "id": "9c1ff8ac",
   "metadata": {},
   "outputs": [],
   "source": [
    "# Manually clean dog_stage using index numbers\n",
    "\n",
    "tweets.loc[460, 'dog_stage'] = 'doggo'\n",
    "tweets.loc[575, 'dog_stage'] = 'pupper'\n",
    "tweets.loc[956, 'dog_stage'] = 'doggo'\n",
    "tweets.loc[200, 'dog_stage'] = 'floofer'\n",
    "tweets.loc[191, 'dog_stage'] = 'puppo'"
   ]
  },
  {
   "cell_type": "markdown",
   "id": "3c5b8826",
   "metadata": {},
   "source": [
    "##### Test"
   ]
  },
  {
   "cell_type": "code",
   "execution_count": 62,
   "id": "70d19fdd",
   "metadata": {},
   "outputs": [
    {
     "data": {
      "text/plain": [
       "pupper            169\n",
       "doggo              55\n",
       "puppo              22\n",
       "floofer             8\n",
       "doggo, pupper       5\n",
       "doggo, floofer      0\n",
       "doggo, puppo        0\n",
       "Name: dog_stage, dtype: int64"
      ]
     },
     "execution_count": 62,
     "metadata": {},
     "output_type": "execute_result"
    }
   ],
   "source": [
    "# Check to confirm changes\n",
    "\n",
    "tweets.dog_stage.value_counts()"
   ]
  },
  {
   "cell_type": "markdown",
   "id": "fafb72ef",
   "metadata": {},
   "source": [
    "##### `df_images` Tidiness: One column split into six ('p1', 'p1_dog', 'p2', 'p2_dog', 'p3', 'p3_dog') \n",
    "##### `df_images` Quality: One column split into three ('p1_conf', 'p2_conf', 'p3_conf') "
   ]
  },
  {
   "cell_type": "markdown",
   "id": "f551cae1",
   "metadata": {},
   "source": [
    "##### Define\n",
    "* Create two columns `dog_breed` and `percentage_conf` containing highlighted columns\n",
    "* Convert `dog_breed` to category datatype"
   ]
  },
  {
   "cell_type": "markdown",
   "id": "1c494b00",
   "metadata": {},
   "source": [
    "##### Code"
   ]
  },
  {
   "cell_type": "code",
   "execution_count": 63,
   "id": "dd1212b5",
   "metadata": {},
   "outputs": [],
   "source": [
    "# Using NumPy select, create dog_breed and percentage_conf columns\n",
    "\n",
    "np.select\n",
    "condition = [(images['p1_dog'] == True), (images['p2_dog'] == True), (images['p3_dog'] == True)]\n",
    "dog_breed = [images['p1'], images['p2'], images['p3']]\n",
    "percentage_conf = [images['p1_conf'], images['p2_conf'], images['p3_conf']]\n",
    "\n",
    "images['dog_breed'] = np.select(condition, dog_breed, default='None')\n",
    "images['percentage_conf'] = np.select(condition, percentage_conf, default=0)"
   ]
  },
  {
   "cell_type": "code",
   "execution_count": 64,
   "id": "aef3ebe1",
   "metadata": {},
   "outputs": [],
   "source": [
    "# Drop 'p1', 'p1_conf', 'p1_dog', 'p2', 'p2_conf', 'p2_dog', 'p3', 'p3_conf' & 'p3_dog' columns\n",
    "\n",
    "images = images.drop(['p1', 'p1_conf', 'p1_dog', 'p2', 'p2_conf', 'p2_dog', 'p3', 'p3_conf', 'p3_dog'], axis=1)"
   ]
  },
  {
   "cell_type": "code",
   "execution_count": 65,
   "id": "db8bbeee",
   "metadata": {},
   "outputs": [],
   "source": [
    "# Convert dog_breed to category datatype\n",
    "\n",
    "images['dog_breed'] = images['dog_breed'].astype('category')"
   ]
  },
  {
   "cell_type": "markdown",
   "id": "91e7a03d",
   "metadata": {},
   "source": [
    "##### Test"
   ]
  },
  {
   "cell_type": "code",
   "execution_count": 66,
   "id": "a87714d6",
   "metadata": {},
   "outputs": [
    {
     "data": {
      "text/html": [
       "<div>\n",
       "<style scoped>\n",
       "    .dataframe tbody tr th:only-of-type {\n",
       "        vertical-align: middle;\n",
       "    }\n",
       "\n",
       "    .dataframe tbody tr th {\n",
       "        vertical-align: top;\n",
       "    }\n",
       "\n",
       "    .dataframe thead th {\n",
       "        text-align: right;\n",
       "    }\n",
       "</style>\n",
       "<table border=\"1\" class=\"dataframe\">\n",
       "  <thead>\n",
       "    <tr style=\"text-align: right;\">\n",
       "      <th></th>\n",
       "      <th>tweet_id</th>\n",
       "      <th>jpg_url</th>\n",
       "      <th>dog_breed</th>\n",
       "      <th>percentage_conf</th>\n",
       "    </tr>\n",
       "  </thead>\n",
       "  <tbody>\n",
       "    <tr>\n",
       "      <th>149</th>\n",
       "      <td>668636665813057536</td>\n",
       "      <td>https://pbs.twimg.com/media/CUd5gBGWwAA0IVA.jpg</td>\n",
       "      <td>komondor</td>\n",
       "      <td>99.9956</td>\n",
       "    </tr>\n",
       "    <tr>\n",
       "      <th>1372</th>\n",
       "      <td>762464539388485633</td>\n",
       "      <td>https://pbs.twimg.com/media/CpTRc4DUEAAYTq6.jpg</td>\n",
       "      <td>chow</td>\n",
       "      <td>99.9953</td>\n",
       "    </tr>\n",
       "  </tbody>\n",
       "</table>\n",
       "</div>"
      ],
      "text/plain": [
       "                tweet_id                                          jpg_url  \\\n",
       "149   668636665813057536  https://pbs.twimg.com/media/CUd5gBGWwAA0IVA.jpg   \n",
       "1372  762464539388485633  https://pbs.twimg.com/media/CpTRc4DUEAAYTq6.jpg   \n",
       "\n",
       "     dog_breed  percentage_conf  \n",
       "149   komondor          99.9956  \n",
       "1372      chow          99.9953  "
      ]
     },
     "execution_count": 66,
     "metadata": {},
     "output_type": "execute_result"
    }
   ],
   "source": [
    "# Confirm columns have been dropped\n",
    "\n",
    "images.sort_values('percentage_conf', ascending=False).head(2)"
   ]
  },
  {
   "cell_type": "code",
   "execution_count": 67,
   "id": "952ed2c1",
   "metadata": {},
   "outputs": [
    {
     "name": "stdout",
     "output_type": "stream",
     "text": [
      "<class 'pandas.core.frame.DataFrame'>\n",
      "Int64Index: 1678 entries, 0 to 2073\n",
      "Data columns (total 4 columns):\n",
      " #   Column           Non-Null Count  Dtype   \n",
      "---  ------           --------------  -----   \n",
      " 0   tweet_id         1678 non-null   int64   \n",
      " 1   jpg_url          1678 non-null   object  \n",
      " 2   dog_breed        1678 non-null   category\n",
      " 3   percentage_conf  1678 non-null   float64 \n",
      "dtypes: category(1), float64(1), int64(1), object(1)\n",
      "memory usage: 59.0+ KB\n"
     ]
    }
   ],
   "source": [
    "# Confirm dog_breed datatype is category\n",
    "\n",
    "images.info()"
   ]
  },
  {
   "cell_type": "markdown",
   "id": "969a83b2",
   "metadata": {},
   "source": [
    "##### `df_images`: Lowercase Names\n",
    "Dogbreeds starting with a lowercase"
   ]
  },
  {
   "cell_type": "markdown",
   "id": "d96d3b8e",
   "metadata": {},
   "source": [
    "##### Define\n",
    "* Change all names of dogbreed to begin with uppercase and replace underscores with whitespaces"
   ]
  },
  {
   "cell_type": "markdown",
   "id": "6b74996d",
   "metadata": {},
   "source": [
    "##### Code"
   ]
  },
  {
   "cell_type": "code",
   "execution_count": 68,
   "id": "691e3fb0",
   "metadata": {},
   "outputs": [],
   "source": [
    "# Change first character of dog_breed names to uppercase and remove underscore\n",
    "\n",
    "images.dog_breed = images.dog_breed.str.title().str.replace('_', ' ')"
   ]
  },
  {
   "cell_type": "markdown",
   "id": "8dd90f90",
   "metadata": {},
   "source": [
    "##### Test"
   ]
  },
  {
   "cell_type": "code",
   "execution_count": 69,
   "id": "8f4af181",
   "metadata": {
    "scrolled": true
   },
   "outputs": [
    {
     "data": {
      "text/plain": [
       "Golden Retriever        158\n",
       "Labrador Retriever      105\n",
       "Pembroke                 95\n",
       "Chihuahua                91\n",
       "Pug                      62\n",
       "                       ... \n",
       "Scotch Terrier            1\n",
       "Entlebucher               1\n",
       "Japanese Spaniel          1\n",
       "Standard Schnauzer        1\n",
       "Bouvier Des Flandres      1\n",
       "Name: dog_breed, Length: 113, dtype: int64"
      ]
     },
     "execution_count": 69,
     "metadata": {},
     "output_type": "execute_result"
    }
   ],
   "source": [
    "# Confirm changes to dogbreed names\n",
    "\n",
    "images.dog_breed.value_counts()"
   ]
  },
  {
   "cell_type": "markdown",
   "id": "c013954f",
   "metadata": {},
   "source": [
    "##### `df_tweets`: Ratings (Invalid Data)\n",
    "> - Check for `rating_denominator` values that are not **10**\n",
    ">> -Check for `rating_numerator` values that are not within **10** - **14**"
   ]
  },
  {
   "cell_type": "markdown",
   "id": "a6bf221b",
   "metadata": {},
   "source": [
    "##### Define\n",
    "* Inspect dataset for entries with rating_ denominators that are greater or less than 10\n",
    "* Inspect datatset for entries with rating_numerator values that are not within 10 - 14\n",
    "* Drop entries with invalid data from dataset"
   ]
  },
  {
   "cell_type": "markdown",
   "id": "fcecebf0",
   "metadata": {},
   "source": [
    "##### Code"
   ]
  },
  {
   "cell_type": "code",
   "execution_count": 70,
   "id": "c9b00110",
   "metadata": {},
   "outputs": [
    {
     "data": {
      "text/plain": [
       "10     1661\n",
       "50        3\n",
       "11        2\n",
       "80        2\n",
       "70        1\n",
       "7         1\n",
       "150       1\n",
       "20        1\n",
       "90        1\n",
       "40        1\n",
       "130       1\n",
       "110       1\n",
       "120       1\n",
       "2         1\n",
       "Name: rating_denominator, dtype: int64"
      ]
     },
     "execution_count": 70,
     "metadata": {},
     "output_type": "execute_result"
    }
   ],
   "source": [
    "# Check for values that are not equal to 10\n",
    "\n",
    "tweets.rating_denominator.value_counts()"
   ]
  },
  {
   "cell_type": "code",
   "execution_count": 71,
   "id": "39a0e8b7",
   "metadata": {
    "scrolled": false
   },
   "outputs": [
    {
     "data": {
      "text/plain": [
       "433     False\n",
       "516     False\n",
       "902     False\n",
       "1068     True\n",
       "1165     True\n",
       "1202     True\n",
       "1228    False\n",
       "1254    False\n",
       "1274    False\n",
       "1351    False\n",
       "1433    False\n",
       "1634    False\n",
       "1635     True\n",
       "1662     True\n",
       "1779    False\n",
       "1843    False\n",
       "2335     True\n",
       "Name: text, dtype: bool"
      ]
     },
     "execution_count": 71,
     "metadata": {},
     "output_type": "execute_result"
    }
   ],
   "source": [
    "# Check for wrongly inputted entries with rating_denominator not equal 10\n",
    "\n",
    "(tweets[tweets.rating_denominator != 10].text.str.contains('10'))"
   ]
  },
  {
   "cell_type": "code",
   "execution_count": 72,
   "id": "537a4c6f",
   "metadata": {
    "scrolled": false
   },
   "outputs": [
    {
     "name": "stdout",
     "output_type": "stream",
     "text": [
      "After so many requests, this is Bretagne. She was the last surviving 9/11 search dog, and our second ever 14/10. RIP \n",
      " Happy 4/20 from the squad! 13/10 for all \n",
      " This is Bluebert. He just saw that both #FinalFur match ups are split 50/50. Amazed af. 11/10 \n",
      " Someone help the girl is being mugged. Several are distracting her while two steal her shoes. Clever puppers 121/110 \n",
      " This is Darrel. He just robbed a 7/11 and is in a high speed police chase. Was just spotted by the helicopter 10/10 \n",
      " This is an Albanian 3 1/2 legged  Episcopalian. Loves well-polished hardwood flooring. Penis on the collar. 9/10 \n",
      "\n"
     ]
    }
   ],
   "source": [
    "# Now we know the entries, let us check the text of available entries to confirm if rating was wrongly inputted\n",
    "\n",
    "print(tweets.loc[1068].text, '\\n',\n",
    "      tweets.loc[1165].text, '\\n',\n",
    "      tweets.loc[1202].text, '\\n',\n",
    "      tweets.loc[1635].text, '\\n',\n",
    "      tweets.loc[1662].text, '\\n',\n",
    "      tweets.loc[2335].text, '\\n')"
   ]
  },
  {
   "cell_type": "code",
   "execution_count": 73,
   "id": "d5593432",
   "metadata": {},
   "outputs": [],
   "source": [
    "# Correct rating_denominator for highlighted entries\n",
    "\n",
    "tweets.loc[1068, 'rating_denominator'] = 10\n",
    "tweets.loc[1165, 'rating_denominator'] = 10\n",
    "tweets.loc[1202, 'rating_denominator'] = 10\n",
    "tweets.loc[1635, 'rating_denominator'] = 10\n",
    "tweets.loc[1662, 'rating_denominator'] = 10\n",
    "tweets.loc[2335, 'rating_denominator'] = 10"
   ]
  },
  {
   "cell_type": "code",
   "execution_count": 74,
   "id": "c5a908db",
   "metadata": {
    "scrolled": true
   },
   "outputs": [
    {
     "data": {
      "text/plain": [
       "12     421\n",
       "10     358\n",
       "11     356\n",
       "13     225\n",
       "9      133\n",
       "8       68\n",
       "7       32\n",
       "14      23\n",
       "6       16\n",
       "5       14\n",
       "4        7\n",
       "3        5\n",
       "2        2\n",
       "0        1\n",
       "60       1\n",
       "88       1\n",
       "144      1\n",
       "26       1\n",
       "121      1\n",
       "143      1\n",
       "44       1\n",
       "99       1\n",
       "45       1\n",
       "80       1\n",
       "84       1\n",
       "50       1\n",
       "165      1\n",
       "27       1\n",
       "75       1\n",
       "24       1\n",
       "1        1\n",
       "Name: rating_numerator, dtype: int64"
      ]
     },
     "execution_count": 74,
     "metadata": {},
     "output_type": "execute_result"
    }
   ],
   "source": [
    "# Check for rating_numerator values that are not within 10 - 14\n",
    "\n",
    "tweets.rating_numerator.value_counts()"
   ]
  },
  {
   "cell_type": "code",
   "execution_count": 75,
   "id": "4959f814",
   "metadata": {
    "scrolled": true
   },
   "outputs": [
    {
     "data": {
      "text/plain": [
       "433     False\n",
       "516     False\n",
       "695     False\n",
       "763      True\n",
       "902     False\n",
       "1202    False\n",
       "1228    False\n",
       "1254    False\n",
       "1274    False\n",
       "1351    False\n",
       "1433    False\n",
       "1634     True\n",
       "1635    False\n",
       "1712    False\n",
       "1779     True\n",
       "1843    False\n",
       "Name: text, dtype: bool"
      ]
     },
     "execution_count": 75,
     "metadata": {},
     "output_type": "execute_result"
    }
   ],
   "source": [
    "# Check for wrongly inputted entries with rating_numerator greater than 14\n",
    "\n",
    "(tweets[tweets.rating_numerator > 14].text.str.contains('10 | 11 | 12 | 13 | 14'))"
   ]
  },
  {
   "cell_type": "code",
   "execution_count": 76,
   "id": "bec39bcb",
   "metadata": {},
   "outputs": [
    {
     "data": {
      "text/plain": [
       "False    150\n",
       "True     129\n",
       "Name: text, dtype: int64"
      ]
     },
     "execution_count": 76,
     "metadata": {},
     "output_type": "execute_result"
    }
   ],
   "source": [
    "# Check for wrongly inputted entries with rating_numerator less than 10\n",
    "\n",
    "(tweets[tweets.rating_numerator < 10].text.str.contains('10 | 11 | 12 | 13 | 14')).value_counts()"
   ]
  },
  {
   "cell_type": "markdown",
   "id": "0dc281b3",
   "metadata": {},
   "source": [
    "_We will only clean entries with ratings greater than 14 that might have been wrongly inputted_"
   ]
  },
  {
   "cell_type": "code",
   "execution_count": 77,
   "id": "85b8afbe",
   "metadata": {
    "scrolled": true
   },
   "outputs": [
    {
     "name": "stdout",
     "output_type": "stream",
     "text": [
      "This is Sophie. She's a Jubilant Bush Pupper. Super h*ckin rare. Appears at random just to smile at the locals. 11.27/10 would smile back \n",
      " Two sneaky puppers were not initially seen, moving the rating to 143/130. Please forgive us. Thank you \n",
      " IT'S PUPPERGEDDON. Total of 144/120 ...I think \n",
      "\n"
     ]
    }
   ],
   "source": [
    "# Check text of entry possibly entered in error\n",
    "\n",
    "print(tweets.loc[763].text, '\\n',\n",
    "      tweets.loc[1634].text, '\\n',\n",
    "      tweets.loc[1779].text, '\\n')"
   ]
  },
  {
   "cell_type": "code",
   "execution_count": 78,
   "id": "b625d318",
   "metadata": {},
   "outputs": [],
   "source": [
    "# Correct rating_numerator for this entry as an integer\n",
    "\n",
    "tweets.loc[763, 'rating_numerator'] = 11\n",
    "\n",
    "# --- note: this does not affect our analysis"
   ]
  },
  {
   "cell_type": "code",
   "execution_count": 79,
   "id": "69863f8a",
   "metadata": {},
   "outputs": [],
   "source": [
    "# Create list of tweet ids with rating_denominator not equal to 10 and rating_numerator greater than 14\n",
    "\n",
    "wrong_ratings_dnm = list(tweets[tweets.rating_denominator != 10].tweet_id)\n",
    "wrong_ratings_num = list(tweets[tweets.rating_numerator > 14].tweet_id)\n",
    "wrong_ratings = (wrong_ratings_dnm + wrong_ratings_num)"
   ]
  },
  {
   "cell_type": "code",
   "execution_count": 80,
   "id": "6a927d2b",
   "metadata": {},
   "outputs": [],
   "source": [
    "# Drop highlighted entries from dataset\n",
    "\n",
    "tweets = tweets[~tweets.tweet_id.isin(wrong_ratings)]\n",
    "counts = counts[~counts.tweet_id.isin(wrong_ratings)]\n",
    "images = images[~images.tweet_id.isin(wrong_ratings)]"
   ]
  },
  {
   "cell_type": "markdown",
   "id": "91185576",
   "metadata": {},
   "source": [
    "##### Test"
   ]
  },
  {
   "cell_type": "code",
   "execution_count": 81,
   "id": "9d29a2a3",
   "metadata": {},
   "outputs": [
    {
     "data": {
      "text/plain": [
       "10    1663\n",
       "Name: rating_denominator, dtype: int64"
      ]
     },
     "execution_count": 81,
     "metadata": {},
     "output_type": "execute_result"
    }
   ],
   "source": [
    "# Confirm correction on ratings denominator\n",
    "\n",
    "tweets.rating_denominator.value_counts()"
   ]
  },
  {
   "cell_type": "code",
   "execution_count": 82,
   "id": "d9fa16a1",
   "metadata": {},
   "outputs": [
    {
     "data": {
      "text/plain": [
       "12    421\n",
       "10    358\n",
       "11    357\n",
       "13    225\n",
       "9     133\n",
       "8      68\n",
       "7      32\n",
       "14     23\n",
       "6      16\n",
       "5      14\n",
       "4       7\n",
       "3       5\n",
       "2       2\n",
       "0       1\n",
       "1       1\n",
       "Name: rating_numerator, dtype: int64"
      ]
     },
     "execution_count": 82,
     "metadata": {},
     "output_type": "execute_result"
    }
   ],
   "source": [
    "# Confirm correction on ratings numerator\n",
    "\n",
    "tweets.rating_numerator.value_counts()"
   ]
  },
  {
   "cell_type": "code",
   "execution_count": 83,
   "id": "809c6925",
   "metadata": {},
   "outputs": [],
   "source": [
    "# Rename rating_numerator to 'rating'\n",
    "\n",
    "tweets = tweets.rename(index=str, columns={'rating_numerator':'rating'})"
   ]
  },
  {
   "cell_type": "code",
   "execution_count": 84,
   "id": "094c72e2",
   "metadata": {},
   "outputs": [
    {
     "data": {
      "text/plain": [
       "((1663, 8), (1663, 3), (1663, 4))"
      ]
     },
     "execution_count": 84,
     "metadata": {},
     "output_type": "execute_result"
    }
   ],
   "source": [
    "# Check new dimensions of our datasets\n",
    "\n",
    "tweets.shape, counts.shape, images.shape"
   ]
  },
  {
   "cell_type": "markdown",
   "id": "fc1a3717",
   "metadata": {
    "scrolled": true
   },
   "source": [
    "#### `df_tweets`: \n",
    "Tweet id duplicated in `df_images` and `df_counts`\n",
    "\n",
    "Entire dataset should be one table"
   ]
  },
  {
   "cell_type": "markdown",
   "id": "d89a23ae",
   "metadata": {},
   "source": [
    "##### Define\n",
    "> Both outlined structural issues will be resolved in this step\n",
    "* Using concat, join all tables under `tweet_id` index"
   ]
  },
  {
   "cell_type": "markdown",
   "id": "f10417d5",
   "metadata": {},
   "source": [
    "##### Code"
   ]
  },
  {
   "cell_type": "code",
   "execution_count": 85,
   "id": "393f8cc5",
   "metadata": {},
   "outputs": [],
   "source": [
    "# Join tables using pd.concat\n",
    "\n",
    "tweets.set_index('tweet_id', inplace=True)\n",
    "counts.set_index('tweet_id', inplace=True)\n",
    "images.set_index('tweet_id', inplace=True)\n",
    "twitter_clean = pd.concat([tweets, counts, images], axis=1, sort=False).reset_index()"
   ]
  },
  {
   "cell_type": "markdown",
   "id": "16ab5654",
   "metadata": {},
   "source": [
    "##### Test"
   ]
  },
  {
   "cell_type": "code",
   "execution_count": 86,
   "id": "43684a1b",
   "metadata": {
    "scrolled": true
   },
   "outputs": [
    {
     "data": {
      "text/html": [
       "<div>\n",
       "<style scoped>\n",
       "    .dataframe tbody tr th:only-of-type {\n",
       "        vertical-align: middle;\n",
       "    }\n",
       "\n",
       "    .dataframe tbody tr th {\n",
       "        vertical-align: top;\n",
       "    }\n",
       "\n",
       "    .dataframe thead th {\n",
       "        text-align: right;\n",
       "    }\n",
       "</style>\n",
       "<table border=\"1\" class=\"dataframe\">\n",
       "  <thead>\n",
       "    <tr style=\"text-align: right;\">\n",
       "      <th></th>\n",
       "      <th>tweet_id</th>\n",
       "      <th>timestamp</th>\n",
       "      <th>source</th>\n",
       "      <th>text</th>\n",
       "      <th>rating</th>\n",
       "      <th>rating_denominator</th>\n",
       "      <th>name</th>\n",
       "      <th>dog_stage</th>\n",
       "      <th>retweet_count</th>\n",
       "      <th>like_count</th>\n",
       "      <th>jpg_url</th>\n",
       "      <th>dog_breed</th>\n",
       "      <th>percentage_conf</th>\n",
       "    </tr>\n",
       "  </thead>\n",
       "  <tbody>\n",
       "    <tr>\n",
       "      <th>0</th>\n",
       "      <td>892177421306343426</td>\n",
       "      <td>2017-08-01 00:17:27</td>\n",
       "      <td>Twitter for iPhone</td>\n",
       "      <td>This is Tilly. She's just checking pup on you....</td>\n",
       "      <td>13</td>\n",
       "      <td>10</td>\n",
       "      <td>Tilly</td>\n",
       "      <td>NaN</td>\n",
       "      <td>5302</td>\n",
       "      <td>29351</td>\n",
       "      <td>https://pbs.twimg.com/media/DGGmoV4XsAAUL6n.jpg</td>\n",
       "      <td>Chihuahua</td>\n",
       "      <td>32.3581</td>\n",
       "    </tr>\n",
       "    <tr>\n",
       "      <th>1</th>\n",
       "      <td>891815181378084864</td>\n",
       "      <td>2017-07-31 00:18:03</td>\n",
       "      <td>Twitter for iPhone</td>\n",
       "      <td>This is Archie. He is a rare Norwegian Pouncin...</td>\n",
       "      <td>12</td>\n",
       "      <td>10</td>\n",
       "      <td>Archie</td>\n",
       "      <td>NaN</td>\n",
       "      <td>3483</td>\n",
       "      <td>22070</td>\n",
       "      <td>https://pbs.twimg.com/media/DGBdLU1WsAANxJ9.jpg</td>\n",
       "      <td>Chihuahua</td>\n",
       "      <td>71.6012</td>\n",
       "    </tr>\n",
       "  </tbody>\n",
       "</table>\n",
       "</div>"
      ],
      "text/plain": [
       "             tweet_id           timestamp              source  \\\n",
       "0  892177421306343426 2017-08-01 00:17:27  Twitter for iPhone   \n",
       "1  891815181378084864 2017-07-31 00:18:03  Twitter for iPhone   \n",
       "\n",
       "                                                text  rating  \\\n",
       "0  This is Tilly. She's just checking pup on you....      13   \n",
       "1  This is Archie. He is a rare Norwegian Pouncin...      12   \n",
       "\n",
       "   rating_denominator    name dog_stage  retweet_count  like_count  \\\n",
       "0                  10   Tilly       NaN           5302       29351   \n",
       "1                  10  Archie       NaN           3483       22070   \n",
       "\n",
       "                                           jpg_url  dog_breed  percentage_conf  \n",
       "0  https://pbs.twimg.com/media/DGGmoV4XsAAUL6n.jpg  Chihuahua          32.3581  \n",
       "1  https://pbs.twimg.com/media/DGBdLU1WsAANxJ9.jpg  Chihuahua          71.6012  "
      ]
     },
     "execution_count": 86,
     "metadata": {},
     "output_type": "execute_result"
    }
   ],
   "source": [
    "# Preview head of new dataframe\n",
    "\n",
    "pd.set_option('display.max_colwidth', 50)\n",
    "twitter_clean.head(2)"
   ]
  },
  {
   "cell_type": "code",
   "execution_count": 87,
   "id": "49b3a104",
   "metadata": {
    "scrolled": true
   },
   "outputs": [
    {
     "name": "stdout",
     "output_type": "stream",
     "text": [
      "<class 'pandas.core.frame.DataFrame'>\n",
      "RangeIndex: 1663 entries, 0 to 1662\n",
      "Data columns (total 13 columns):\n",
      " #   Column              Non-Null Count  Dtype         \n",
      "---  ------              --------------  -----         \n",
      " 0   tweet_id            1663 non-null   int64         \n",
      " 1   timestamp           1663 non-null   datetime64[ns]\n",
      " 2   source              1663 non-null   category      \n",
      " 3   text                1663 non-null   object        \n",
      " 4   rating              1663 non-null   int64         \n",
      " 5   rating_denominator  1663 non-null   int64         \n",
      " 6   name                1585 non-null   object        \n",
      " 7   dog_stage           259 non-null    category      \n",
      " 8   retweet_count       1663 non-null   int64         \n",
      " 9   like_count          1663 non-null   int64         \n",
      " 10  jpg_url             1663 non-null   object        \n",
      " 11  dog_breed           1663 non-null   object        \n",
      " 12  percentage_conf     1663 non-null   float64       \n",
      "dtypes: category(2), datetime64[ns](1), float64(1), int64(5), object(4)\n",
      "memory usage: 146.8+ KB\n"
     ]
    }
   ],
   "source": [
    "# Check descriptive summary of new dataframe\n",
    "\n",
    "twitter_clean.info()"
   ]
  },
  {
   "cell_type": "markdown",
   "id": "a62812ad",
   "metadata": {},
   "source": [
    "##### Inspect tidy dataset statistics for outliers"
   ]
  },
  {
   "cell_type": "code",
   "execution_count": 88,
   "id": "f62e63c5",
   "metadata": {
    "scrolled": false
   },
   "outputs": [
    {
     "data": {
      "text/html": [
       "<div>\n",
       "<style scoped>\n",
       "    .dataframe tbody tr th:only-of-type {\n",
       "        vertical-align: middle;\n",
       "    }\n",
       "\n",
       "    .dataframe tbody tr th {\n",
       "        vertical-align: top;\n",
       "    }\n",
       "\n",
       "    .dataframe thead th {\n",
       "        text-align: right;\n",
       "    }\n",
       "</style>\n",
       "<table border=\"1\" class=\"dataframe\">\n",
       "  <thead>\n",
       "    <tr style=\"text-align: right;\">\n",
       "      <th></th>\n",
       "      <th>tweet_id</th>\n",
       "      <th>rating</th>\n",
       "      <th>rating_denominator</th>\n",
       "      <th>retweet_count</th>\n",
       "      <th>like_count</th>\n",
       "      <th>percentage_conf</th>\n",
       "    </tr>\n",
       "  </thead>\n",
       "  <tbody>\n",
       "    <tr>\n",
       "      <th>count</th>\n",
       "      <td>1.663000e+03</td>\n",
       "      <td>1663.000000</td>\n",
       "      <td>1663.0</td>\n",
       "      <td>1663.000000</td>\n",
       "      <td>1663.000000</td>\n",
       "      <td>1663.000000</td>\n",
       "    </tr>\n",
       "    <tr>\n",
       "      <th>mean</th>\n",
       "      <td>7.391599e+17</td>\n",
       "      <td>10.814793</td>\n",
       "      <td>10.0</td>\n",
       "      <td>2293.710162</td>\n",
       "      <td>8038.960313</td>\n",
       "      <td>54.877943</td>\n",
       "    </tr>\n",
       "    <tr>\n",
       "      <th>std</th>\n",
       "      <td>6.807892e+16</td>\n",
       "      <td>1.808350</td>\n",
       "      <td>0.0</td>\n",
       "      <td>4175.925854</td>\n",
       "      <td>11840.308841</td>\n",
       "      <td>29.941618</td>\n",
       "    </tr>\n",
       "    <tr>\n",
       "      <th>min</th>\n",
       "      <td>6.660209e+17</td>\n",
       "      <td>0.000000</td>\n",
       "      <td>10.0</td>\n",
       "      <td>11.000000</td>\n",
       "      <td>66.000000</td>\n",
       "      <td>0.001003</td>\n",
       "    </tr>\n",
       "    <tr>\n",
       "      <th>25%</th>\n",
       "      <td>6.772852e+17</td>\n",
       "      <td>10.000000</td>\n",
       "      <td>10.0</td>\n",
       "      <td>515.000000</td>\n",
       "      <td>1799.000000</td>\n",
       "      <td>29.929450</td>\n",
       "    </tr>\n",
       "    <tr>\n",
       "      <th>50%</th>\n",
       "      <td>7.131759e+17</td>\n",
       "      <td>11.000000</td>\n",
       "      <td>10.0</td>\n",
       "      <td>1133.000000</td>\n",
       "      <td>3742.000000</td>\n",
       "      <td>54.890700</td>\n",
       "    </tr>\n",
       "    <tr>\n",
       "      <th>75%</th>\n",
       "      <td>7.931732e+17</td>\n",
       "      <td>12.000000</td>\n",
       "      <td>10.0</td>\n",
       "      <td>2597.500000</td>\n",
       "      <td>9931.500000</td>\n",
       "      <td>82.123400</td>\n",
       "    </tr>\n",
       "    <tr>\n",
       "      <th>max</th>\n",
       "      <td>8.921774e+17</td>\n",
       "      <td>14.000000</td>\n",
       "      <td>10.0</td>\n",
       "      <td>70807.000000</td>\n",
       "      <td>145006.000000</td>\n",
       "      <td>99.995600</td>\n",
       "    </tr>\n",
       "  </tbody>\n",
       "</table>\n",
       "</div>"
      ],
      "text/plain": [
       "           tweet_id       rating  rating_denominator  retweet_count  \\\n",
       "count  1.663000e+03  1663.000000              1663.0    1663.000000   \n",
       "mean   7.391599e+17    10.814793                10.0    2293.710162   \n",
       "std    6.807892e+16     1.808350                 0.0    4175.925854   \n",
       "min    6.660209e+17     0.000000                10.0      11.000000   \n",
       "25%    6.772852e+17    10.000000                10.0     515.000000   \n",
       "50%    7.131759e+17    11.000000                10.0    1133.000000   \n",
       "75%    7.931732e+17    12.000000                10.0    2597.500000   \n",
       "max    8.921774e+17    14.000000                10.0   70807.000000   \n",
       "\n",
       "          like_count  percentage_conf  \n",
       "count    1663.000000      1663.000000  \n",
       "mean     8038.960313        54.877943  \n",
       "std     11840.308841        29.941618  \n",
       "min        66.000000         0.001003  \n",
       "25%      1799.000000        29.929450  \n",
       "50%      3742.000000        54.890700  \n",
       "75%      9931.500000        82.123400  \n",
       "max    145006.000000        99.995600  "
      ]
     },
     "execution_count": 88,
     "metadata": {},
     "output_type": "execute_result"
    }
   ],
   "source": [
    "# Return summary statistics of twitter_clean\n",
    "\n",
    "twitter_clean.describe()"
   ]
  },
  {
   "cell_type": "markdown",
   "id": "7b93cb4a",
   "metadata": {},
   "source": [
    "We can now go on to exploratory data analysis"
   ]
  },
  {
   "cell_type": "markdown",
   "id": "bc0aa76f",
   "metadata": {},
   "source": [
    "<a id='eda'></a>\n",
    "## Exploratory Data Analysis\n",
    "> We will compute statistics and create some visualizations to systematically address a few questions.\n",
    "- #### What is the most popular breed of dog?\n",
    "- #### What factors affect likes count and retweets counts?\n",
    "\n",
    "_To address these questions, we will answer the following questions:_"
   ]
  },
  {
   "cell_type": "markdown",
   "id": "cdd8c4db",
   "metadata": {},
   "source": [
    "#### 1. What is the correlation between likes count and retweets count?"
   ]
  },
  {
   "cell_type": "code",
   "execution_count": 89,
   "id": "0f75cc8b",
   "metadata": {},
   "outputs": [
    {
     "data": {
      "image/png": "[encoded data removed]",
      "text/plain": [
       "<Figure size 360x288 with 2 Axes>"
      ]
     },
     "metadata": {},
     "output_type": "display_data"
    }
   ],
   "source": [
    "# First let us plot a correlation matrix to see the relationship between our variables\n",
    "\n",
    "plt.figure(figsize=(5,4))\n",
    "corr = twitter_clean.corr()\n",
    "sns.heatmap(corr,)\n",
    "plt.title('Correlation Matrix',);"
   ]
  },
  {
   "cell_type": "markdown",
   "id": "8957648b",
   "metadata": {},
   "source": [
    "We can see rating denominator remains constant in the dataset"
   ]
  },
  {
   "cell_type": "code",
   "execution_count": 90,
   "id": "8c3a9b29",
   "metadata": {},
   "outputs": [
    {
     "data": {
      "image/png": "[encoded data removed]",
      "text/plain": [
       "<Figure size 504x432 with 1 Axes>"
      ]
     },
     "metadata": {},
     "output_type": "display_data"
    }
   ],
   "source": [
    "# Plot correlation between likes count and retweets count\n",
    "\n",
    "plt.figure(figsize=(7,6))\n",
    "sns.regplot(data=twitter_clean, x='retweet_count', y='like_count', color='g')\n",
    "plt.title('Retweets Vs Likes', fontsize=15)\n",
    "plt.xlabel('Retweets', fontsize=12)\n",
    "plt.ylabel('Likes', fontsize=12);"
   ]
  },
  {
   "cell_type": "markdown",
   "id": "d9f2c9f7",
   "metadata": {},
   "source": [
    "We see there is a postive correlation between likes count and retweets count"
   ]
  },
  {
   "cell_type": "markdown",
   "id": "b53d2e84",
   "metadata": {},
   "source": [
    "#### 2. What is the most common dog name?"
   ]
  },
  {
   "cell_type": "code",
   "execution_count": 91,
   "id": "52ecdeca",
   "metadata": {},
   "outputs": [
    {
     "data": {
      "text/html": [
       "<div>\n",
       "<style scoped>\n",
       "    .dataframe tbody tr th:only-of-type {\n",
       "        vertical-align: middle;\n",
       "    }\n",
       "\n",
       "    .dataframe tbody tr th {\n",
       "        vertical-align: top;\n",
       "    }\n",
       "\n",
       "    .dataframe thead th {\n",
       "        text-align: right;\n",
       "    }\n",
       "</style>\n",
       "<table border=\"1\" class=\"dataframe\">\n",
       "  <thead>\n",
       "    <tr style=\"text-align: right;\">\n",
       "      <th></th>\n",
       "      <th>name</th>\n",
       "      <th>count</th>\n",
       "    </tr>\n",
       "  </thead>\n",
       "  <tbody>\n",
       "    <tr>\n",
       "      <th>180</th>\n",
       "      <td>Cooper</td>\n",
       "      <td>10</td>\n",
       "    </tr>\n",
       "    <tr>\n",
       "      <th>150</th>\n",
       "      <td>Charlie</td>\n",
       "      <td>9</td>\n",
       "    </tr>\n",
       "    <tr>\n",
       "      <th>563</th>\n",
       "      <td>Oliver</td>\n",
       "      <td>9</td>\n",
       "    </tr>\n",
       "    <tr>\n",
       "      <th>478</th>\n",
       "      <td>Lucy</td>\n",
       "      <td>9</td>\n",
       "    </tr>\n",
       "    <tr>\n",
       "      <th>783</th>\n",
       "      <td>Tucker</td>\n",
       "      <td>9</td>\n",
       "    </tr>\n",
       "  </tbody>\n",
       "</table>\n",
       "</div>"
      ],
      "text/plain": [
       "        name  count\n",
       "180   Cooper     10\n",
       "150  Charlie      9\n",
       "563   Oliver      9\n",
       "478     Lucy      9\n",
       "783   Tucker      9"
      ]
     },
     "execution_count": 91,
     "metadata": {},
     "output_type": "execute_result"
    }
   ],
   "source": [
    "# Get count of top 10 dognames\n",
    "\n",
    "dog_ = twitter_clean.query('name!=\"None\"').groupby('name')\n",
    "dog_names = dog_.tweet_id.count().reset_index(name='count').sort_values('count',ascending=False).head(10)\n",
    "dog_names.head()"
   ]
  },
  {
   "cell_type": "code",
   "execution_count": 92,
   "id": "354decec",
   "metadata": {
    "scrolled": false
   },
   "outputs": [
    {
     "data": {
      "image/png": "[encoded data removed]",
      "text/plain": [
       "<Figure size 576x432 with 1 Axes>"
      ]
     },
     "metadata": {},
     "output_type": "display_data"
    }
   ],
   "source": [
    "# Plot a vis\n",
    "\n",
    "dog_names.plot.barh(x='name', y='count', color='indigo', label='Dog names', figsize=(8,6))\n",
    "plt.xlabel('Number of dogs')\n",
    "plt.ylabel('Names of dogs')\n",
    "plt.title('Dog names')\n",
    "plt.legend();"
   ]
  },
  {
   "cell_type": "markdown",
   "id": "1b6f504b",
   "metadata": {},
   "source": [
    "We see that `Cooper` is the most popular dog name"
   ]
  },
  {
   "cell_type": "markdown",
   "id": "6b43a15d",
   "metadata": {},
   "source": [
    "#### 3. What is the most used tweet source?"
   ]
  },
  {
   "cell_type": "code",
   "execution_count": 93,
   "id": "9945c6f2",
   "metadata": {},
   "outputs": [
    {
     "data": {
      "image/png": "[encoded data removed]",
      "text/plain": [
       "<Figure size 504x504 with 1 Axes>"
      ]
     },
     "metadata": {},
     "output_type": "display_data"
    }
   ],
   "source": [
    "# Plot a pie chart to show tweet sources\n",
    "\n",
    "twitter_clean.source.value_counts().plot.pie(labels=['iPhone', 'Web Client', 'TweetDeck', 'Vine'], fontsize=10, figsize=(7,7))\n",
    "plt.title('Distribution of Tweet sources', fontsize=15)\n",
    "plt.ylabel(' ', fontsize=10)\n",
    "plt.legend();"
   ]
  },
  {
   "cell_type": "markdown",
   "id": "c41946d9",
   "metadata": {},
   "source": [
    "Majority of tweets are from iPhones"
   ]
  },
  {
   "cell_type": "markdown",
   "id": "48495c9f",
   "metadata": {},
   "source": [
    "#### 4. Which dog stage got the most likes and retweets?"
   ]
  },
  {
   "cell_type": "code",
   "execution_count": 94,
   "id": "d02620db",
   "metadata": {},
   "outputs": [
    {
     "data": {
      "text/html": [
       "<div>\n",
       "<style scoped>\n",
       "    .dataframe tbody tr th:only-of-type {\n",
       "        vertical-align: middle;\n",
       "    }\n",
       "\n",
       "    .dataframe tbody tr th {\n",
       "        vertical-align: top;\n",
       "    }\n",
       "\n",
       "    .dataframe thead th {\n",
       "        text-align: right;\n",
       "    }\n",
       "</style>\n",
       "<table border=\"1\" class=\"dataframe\">\n",
       "  <thead>\n",
       "    <tr style=\"text-align: right;\">\n",
       "      <th></th>\n",
       "      <th>retweet_count</th>\n",
       "      <th>like_count</th>\n",
       "    </tr>\n",
       "    <tr>\n",
       "      <th>dog_stage</th>\n",
       "      <th></th>\n",
       "      <th></th>\n",
       "    </tr>\n",
       "  </thead>\n",
       "  <tbody>\n",
       "    <tr>\n",
       "      <th>doggo</th>\n",
       "      <td>319587.0</td>\n",
       "      <td>960378.0</td>\n",
       "    </tr>\n",
       "    <tr>\n",
       "      <th>doggo, pupper</th>\n",
       "      <td>23511.0</td>\n",
       "      <td>78931.0</td>\n",
       "    </tr>\n",
       "    <tr>\n",
       "      <th>floofer</th>\n",
       "      <td>30724.0</td>\n",
       "      <td>93488.0</td>\n",
       "    </tr>\n",
       "    <tr>\n",
       "      <th>pupper</th>\n",
       "      <td>330673.0</td>\n",
       "      <td>1099561.0</td>\n",
       "    </tr>\n",
       "    <tr>\n",
       "      <th>puppo</th>\n",
       "      <td>126658.0</td>\n",
       "      <td>452344.0</td>\n",
       "    </tr>\n",
       "  </tbody>\n",
       "</table>\n",
       "</div>"
      ],
      "text/plain": [
       "               retweet_count  like_count\n",
       "dog_stage                               \n",
       "doggo               319587.0    960378.0\n",
       "doggo, pupper        23511.0     78931.0\n",
       "floofer              30724.0     93488.0\n",
       "pupper              330673.0   1099561.0\n",
       "puppo               126658.0    452344.0"
      ]
     },
     "execution_count": 94,
     "metadata": {},
     "output_type": "execute_result"
    }
   ],
   "source": [
    "# Get the number of retweets and likes for each dog stage\n",
    "\n",
    "stage_count = (twitter_clean.groupby('dog_stage')[['retweet_count', 'like_count']].sum())\n",
    "stage_count = stage_count[stage_count != 0].dropna()\n",
    "stage_count"
   ]
  },
  {
   "cell_type": "code",
   "execution_count": 95,
   "id": "5f2529c7",
   "metadata": {},
   "outputs": [
    {
     "data": {
      "image/png": "[encoded data removed]",
      "text/plain": [
       "<Figure size 576x504 with 1 Axes>"
      ]
     },
     "metadata": {},
     "output_type": "display_data"
    }
   ],
   "source": [
    "# Plot a barchart with proper labels\n",
    "\n",
    "stage_count.plot(kind='bar', color=('magenta', 'purple'), figsize=(8,7))\n",
    "plt.title('Dogstage Retweets & Likes', fontsize=14)\n",
    "plt.xlabel('Dog Stage')\n",
    "plt.ylabel('Retweets & Likes')\n",
    "plt.xticks(range(5), labels=['doggo', 'doggo, pupper', 'floofer', 'pupper', 'puppo'])\n",
    "plt.ticklabel_format(axis='y', style='plain')\n",
    "plt.show();"
   ]
  },
  {
   "cell_type": "markdown",
   "id": "f2c2fe48",
   "metadata": {},
   "source": [
    "We see that `pupper` gets the most likes & retweets."
   ]
  },
  {
   "cell_type": "markdown",
   "id": "afea514e",
   "metadata": {},
   "source": [
    "#### 5. Which dog breed got the most likes and retweets?"
   ]
  },
  {
   "cell_type": "code",
   "execution_count": 96,
   "id": "744b3bdb",
   "metadata": {},
   "outputs": [
    {
     "data": {
      "text/plain": [
       "113"
      ]
     },
     "execution_count": 96,
     "metadata": {},
     "output_type": "execute_result"
    }
   ],
   "source": [
    "# Preview data to be visualized\n",
    "\n",
    "twitter_clean.groupby('dog_breed').tweet_id.count().count()"
   ]
  },
  {
   "cell_type": "markdown",
   "id": "df8f663d",
   "metadata": {},
   "source": [
    "For a finer analysis, we will explore the top 10 dog breeds and least 10 dog breeds based on retweets and likes"
   ]
  },
  {
   "cell_type": "code",
   "execution_count": 97,
   "id": "43e7619c",
   "metadata": {
    "scrolled": true
   },
   "outputs": [
    {
     "data": {
      "text/html": [
       "<div>\n",
       "<style scoped>\n",
       "    .dataframe tbody tr th:only-of-type {\n",
       "        vertical-align: middle;\n",
       "    }\n",
       "\n",
       "    .dataframe tbody tr th {\n",
       "        vertical-align: top;\n",
       "    }\n",
       "\n",
       "    .dataframe thead th {\n",
       "        text-align: right;\n",
       "    }\n",
       "</style>\n",
       "<table border=\"1\" class=\"dataframe\">\n",
       "  <thead>\n",
       "    <tr style=\"text-align: right;\">\n",
       "      <th></th>\n",
       "      <th>retweet_count</th>\n",
       "      <th>like_count</th>\n",
       "    </tr>\n",
       "    <tr>\n",
       "      <th>dog_breed</th>\n",
       "      <th></th>\n",
       "      <th></th>\n",
       "    </tr>\n",
       "  </thead>\n",
       "  <tbody>\n",
       "    <tr>\n",
       "      <th>Golden Retriever</th>\n",
       "      <td>475516</td>\n",
       "      <td>1680794</td>\n",
       "    </tr>\n",
       "    <tr>\n",
       "      <th>Labrador Retriever</th>\n",
       "      <td>309358</td>\n",
       "      <td>1030365</td>\n",
       "    </tr>\n",
       "    <tr>\n",
       "      <th>Pembroke</th>\n",
       "      <td>237067</td>\n",
       "      <td>906528</td>\n",
       "    </tr>\n",
       "    <tr>\n",
       "      <th>Chihuahua</th>\n",
       "      <td>211039</td>\n",
       "      <td>669848</td>\n",
       "    </tr>\n",
       "    <tr>\n",
       "      <th>Samoyed</th>\n",
       "      <td>156219</td>\n",
       "      <td>482514</td>\n",
       "    </tr>\n",
       "    <tr>\n",
       "      <th>French Bulldog</th>\n",
       "      <td>132302</td>\n",
       "      <td>526558</td>\n",
       "    </tr>\n",
       "    <tr>\n",
       "      <th>Cocker Spaniel</th>\n",
       "      <td>118854</td>\n",
       "      <td>352524</td>\n",
       "    </tr>\n",
       "    <tr>\n",
       "      <th>Chow</th>\n",
       "      <td>106451</td>\n",
       "      <td>387104</td>\n",
       "    </tr>\n",
       "    <tr>\n",
       "      <th>Pug</th>\n",
       "      <td>94485</td>\n",
       "      <td>325671</td>\n",
       "    </tr>\n",
       "    <tr>\n",
       "      <th>Toy Poodle</th>\n",
       "      <td>89714</td>\n",
       "      <td>276618</td>\n",
       "    </tr>\n",
       "  </tbody>\n",
       "</table>\n",
       "</div>"
      ],
      "text/plain": [
       "                    retweet_count  like_count\n",
       "dog_breed                                    \n",
       "Golden Retriever           475516     1680794\n",
       "Labrador Retriever         309358     1030365\n",
       "Pembroke                   237067      906528\n",
       "Chihuahua                  211039      669848\n",
       "Samoyed                    156219      482514\n",
       "French Bulldog             132302      526558\n",
       "Cocker Spaniel             118854      352524\n",
       "Chow                       106451      387104\n",
       "Pug                         94485      325671\n",
       "Toy Poodle                  89714      276618"
      ]
     },
     "execution_count": 97,
     "metadata": {},
     "output_type": "execute_result"
    }
   ],
   "source": [
    "# Get the top 10 number of likes and retweets for each breed of dogs\n",
    "\n",
    "top10_breed = (twitter_clean.groupby('dog_breed')[['retweet_count', 'like_count']].sum())\n",
    "top10_breed = top10_breed.sort_values(['retweet_count', 'like_count'], ascending=[False, False]).head(10)\n",
    "top10_breed"
   ]
  },
  {
   "cell_type": "code",
   "execution_count": 98,
   "id": "f8a3a0d5",
   "metadata": {},
   "outputs": [
    {
     "data": {
      "text/html": [
       "<div>\n",
       "<style scoped>\n",
       "    .dataframe tbody tr th:only-of-type {\n",
       "        vertical-align: middle;\n",
       "    }\n",
       "\n",
       "    .dataframe tbody tr th {\n",
       "        vertical-align: top;\n",
       "    }\n",
       "\n",
       "    .dataframe thead th {\n",
       "        text-align: right;\n",
       "    }\n",
       "</style>\n",
       "<table border=\"1\" class=\"dataframe\">\n",
       "  <thead>\n",
       "    <tr style=\"text-align: right;\">\n",
       "      <th></th>\n",
       "      <th>retweet_count</th>\n",
       "      <th>like_count</th>\n",
       "    </tr>\n",
       "    <tr>\n",
       "      <th>dog_breed</th>\n",
       "      <th></th>\n",
       "      <th></th>\n",
       "    </tr>\n",
       "  </thead>\n",
       "  <tbody>\n",
       "    <tr>\n",
       "      <th>Japanese Spaniel</th>\n",
       "      <td>355</td>\n",
       "      <td>1116</td>\n",
       "    </tr>\n",
       "    <tr>\n",
       "      <th>Groenendael</th>\n",
       "      <td>442</td>\n",
       "      <td>1959</td>\n",
       "    </tr>\n",
       "    <tr>\n",
       "      <th>Entlebucher</th>\n",
       "      <td>557</td>\n",
       "      <td>2257</td>\n",
       "    </tr>\n",
       "    <tr>\n",
       "      <th>Irish Wolfhound</th>\n",
       "      <td>657</td>\n",
       "      <td>1290</td>\n",
       "    </tr>\n",
       "    <tr>\n",
       "      <th>Brabancon Griffon</th>\n",
       "      <td>684</td>\n",
       "      <td>2240</td>\n",
       "    </tr>\n",
       "    <tr>\n",
       "      <th>Standard Schnauzer</th>\n",
       "      <td>722</td>\n",
       "      <td>1694</td>\n",
       "    </tr>\n",
       "    <tr>\n",
       "      <th>Scotch Terrier</th>\n",
       "      <td>1005</td>\n",
       "      <td>3026</td>\n",
       "    </tr>\n",
       "    <tr>\n",
       "      <th>Clumber</th>\n",
       "      <td>1494</td>\n",
       "      <td>6204</td>\n",
       "    </tr>\n",
       "    <tr>\n",
       "      <th>Silky Terrier</th>\n",
       "      <td>1498</td>\n",
       "      <td>6246</td>\n",
       "    </tr>\n",
       "    <tr>\n",
       "      <th>Tibetan Terrier</th>\n",
       "      <td>1774</td>\n",
       "      <td>6239</td>\n",
       "    </tr>\n",
       "  </tbody>\n",
       "</table>\n",
       "</div>"
      ],
      "text/plain": [
       "                    retweet_count  like_count\n",
       "dog_breed                                    \n",
       "Japanese Spaniel              355        1116\n",
       "Groenendael                   442        1959\n",
       "Entlebucher                   557        2257\n",
       "Irish Wolfhound               657        1290\n",
       "Brabancon Griffon             684        2240\n",
       "Standard Schnauzer            722        1694\n",
       "Scotch Terrier               1005        3026\n",
       "Clumber                      1494        6204\n",
       "Silky Terrier                1498        6246\n",
       "Tibetan Terrier              1774        6239"
      ]
     },
     "execution_count": 98,
     "metadata": {},
     "output_type": "execute_result"
    }
   ],
   "source": [
    "# Get the least 10 number of likes and retweets for each breed of dogs\n",
    "\n",
    "least10_breed = (twitter_clean.groupby('dog_breed')[['retweet_count', 'like_count']].sum())\n",
    "least10_breed = least10_breed.sort_values(['retweet_count', 'like_count'], ascending=[True, True]).head(10)\n",
    "least10_breed"
   ]
  },
  {
   "cell_type": "code",
   "execution_count": 99,
   "id": "c7a5bfef",
   "metadata": {},
   "outputs": [
    {
     "data": {
      "image/png": "[encoded data removed]",
      "text/plain": [
       "<Figure size 648x576 with 1 Axes>"
      ]
     },
     "metadata": {},
     "output_type": "display_data"
    }
   ],
   "source": [
    "# Plot a vis for the top 10 breeds\n",
    "\n",
    "top10_breed.plot(kind='barh', color=('gold', 'brown'), figsize=(9,8))\n",
    "plt.title('Top 10 Dog Breeds based on Retweets & Likes', fontsize=14)\n",
    "plt.ylabel('Dog Breeds', fontsize=12)\n",
    "plt.xlabel('Retweets & Likes', fontsize=12)\n",
    "plt.ticklabel_format(axis='x', style='plain')\n",
    "plt.show();"
   ]
  },
  {
   "cell_type": "code",
   "execution_count": 100,
   "id": "9f663b25",
   "metadata": {},
   "outputs": [
    {
     "data": {
      "image/png": "[encoded data removed]",
      "text/plain": [
       "<Figure size 648x576 with 1 Axes>"
      ]
     },
     "metadata": {},
     "output_type": "display_data"
    }
   ],
   "source": [
    "# Plot a vis for the least 10 breeds\n",
    "\n",
    "least10_breed.plot(kind='barh', color=('blue', 'cyan'), figsize=(9,8))\n",
    "plt.title('Least 10 Dog Breeds based on Retweets & Likes', fontsize=14)\n",
    "plt.ylabel('Dog Breeds', fontsize=12)\n",
    "plt.xlabel('Retweets & Likes', fontsize=12)\n",
    "plt.ticklabel_format(axis='x', style='plain')\n",
    "plt.show();"
   ]
  },
  {
   "cell_type": "markdown",
   "id": "6698ba05",
   "metadata": {},
   "source": [
    "We see that the `Golden Retriever` is the most retweeted and liked breed followed by the `Labrador Retriever`.\n",
    "\n",
    "On the other hand, the `Japanese Spaniel` is the least retweeted and liked breed of dog."
   ]
  },
  {
   "cell_type": "markdown",
   "id": "48c00546",
   "metadata": {},
   "source": [
    "#### 6. Which month(s) had the highest retweets and likes?"
   ]
  },
  {
   "cell_type": "markdown",
   "id": "1765186e",
   "metadata": {},
   "source": [
    "To analyze this let us explore our data by month"
   ]
  },
  {
   "cell_type": "code",
   "execution_count": 101,
   "id": "51d8cc3d",
   "metadata": {
    "scrolled": true
   },
   "outputs": [
    {
     "data": {
      "text/html": [
       "<div>\n",
       "<style scoped>\n",
       "    .dataframe tbody tr th:only-of-type {\n",
       "        vertical-align: middle;\n",
       "    }\n",
       "\n",
       "    .dataframe tbody tr th {\n",
       "        vertical-align: top;\n",
       "    }\n",
       "\n",
       "    .dataframe thead th {\n",
       "        text-align: right;\n",
       "    }\n",
       "</style>\n",
       "<table border=\"1\" class=\"dataframe\">\n",
       "  <thead>\n",
       "    <tr style=\"text-align: right;\">\n",
       "      <th></th>\n",
       "      <th>retweet_count</th>\n",
       "      <th>like_count</th>\n",
       "    </tr>\n",
       "    <tr>\n",
       "      <th>timestamp</th>\n",
       "      <th></th>\n",
       "      <th></th>\n",
       "    </tr>\n",
       "  </thead>\n",
       "  <tbody>\n",
       "    <tr>\n",
       "      <th>2015-11-30</th>\n",
       "      <td>86042</td>\n",
       "      <td>223622</td>\n",
       "    </tr>\n",
       "    <tr>\n",
       "      <th>2015-12-31</th>\n",
       "      <td>366646</td>\n",
       "      <td>916950</td>\n",
       "    </tr>\n",
       "    <tr>\n",
       "      <th>2016-01-31</th>\n",
       "      <td>158665</td>\n",
       "      <td>453860</td>\n",
       "    </tr>\n",
       "    <tr>\n",
       "      <th>2016-02-29</th>\n",
       "      <td>105225</td>\n",
       "      <td>311796</td>\n",
       "    </tr>\n",
       "    <tr>\n",
       "      <th>2016-03-31</th>\n",
       "      <td>129015</td>\n",
       "      <td>395043</td>\n",
       "    </tr>\n",
       "    <tr>\n",
       "      <th>2016-04-30</th>\n",
       "      <td>65632</td>\n",
       "      <td>204063</td>\n",
       "    </tr>\n",
       "    <tr>\n",
       "      <th>2016-05-31</th>\n",
       "      <td>83603</td>\n",
       "      <td>258308</td>\n",
       "    </tr>\n",
       "    <tr>\n",
       "      <th>2016-06-30</th>\n",
       "      <td>264458</td>\n",
       "      <td>673037</td>\n",
       "    </tr>\n",
       "    <tr>\n",
       "      <th>2016-07-31</th>\n",
       "      <td>154700</td>\n",
       "      <td>465794</td>\n",
       "    </tr>\n",
       "    <tr>\n",
       "      <th>2016-08-31</th>\n",
       "      <td>111023</td>\n",
       "      <td>370510</td>\n",
       "    </tr>\n",
       "    <tr>\n",
       "      <th>2016-09-30</th>\n",
       "      <td>157635</td>\n",
       "      <td>523455</td>\n",
       "    </tr>\n",
       "    <tr>\n",
       "      <th>2016-10-31</th>\n",
       "      <td>198042</td>\n",
       "      <td>655620</td>\n",
       "    </tr>\n",
       "    <tr>\n",
       "      <th>2016-11-30</th>\n",
       "      <td>161517</td>\n",
       "      <td>533997</td>\n",
       "    </tr>\n",
       "    <tr>\n",
       "      <th>2016-12-31</th>\n",
       "      <td>237934</td>\n",
       "      <td>754777</td>\n",
       "    </tr>\n",
       "    <tr>\n",
       "      <th>2017-01-31</th>\n",
       "      <td>296296</td>\n",
       "      <td>982143</td>\n",
       "    </tr>\n",
       "    <tr>\n",
       "      <th>2017-02-28</th>\n",
       "      <td>210389</td>\n",
       "      <td>952852</td>\n",
       "    </tr>\n",
       "    <tr>\n",
       "      <th>2017-03-31</th>\n",
       "      <td>164663</td>\n",
       "      <td>740747</td>\n",
       "    </tr>\n",
       "    <tr>\n",
       "      <th>2017-04-30</th>\n",
       "      <td>154675</td>\n",
       "      <td>665776</td>\n",
       "    </tr>\n",
       "    <tr>\n",
       "      <th>2017-05-31</th>\n",
       "      <td>227490</td>\n",
       "      <td>948777</td>\n",
       "    </tr>\n",
       "    <tr>\n",
       "      <th>2017-06-30</th>\n",
       "      <td>218482</td>\n",
       "      <td>1019948</td>\n",
       "    </tr>\n",
       "    <tr>\n",
       "      <th>2017-07-31</th>\n",
       "      <td>257006</td>\n",
       "      <td>1288365</td>\n",
       "    </tr>\n",
       "    <tr>\n",
       "      <th>2017-08-31</th>\n",
       "      <td>5302</td>\n",
       "      <td>29351</td>\n",
       "    </tr>\n",
       "  </tbody>\n",
       "</table>\n",
       "</div>"
      ],
      "text/plain": [
       "            retweet_count  like_count\n",
       "timestamp                            \n",
       "2015-11-30          86042      223622\n",
       "2015-12-31         366646      916950\n",
       "2016-01-31         158665      453860\n",
       "2016-02-29         105225      311796\n",
       "2016-03-31         129015      395043\n",
       "2016-04-30          65632      204063\n",
       "2016-05-31          83603      258308\n",
       "2016-06-30         264458      673037\n",
       "2016-07-31         154700      465794\n",
       "2016-08-31         111023      370510\n",
       "2016-09-30         157635      523455\n",
       "2016-10-31         198042      655620\n",
       "2016-11-30         161517      533997\n",
       "2016-12-31         237934      754777\n",
       "2017-01-31         296296      982143\n",
       "2017-02-28         210389      952852\n",
       "2017-03-31         164663      740747\n",
       "2017-04-30         154675      665776\n",
       "2017-05-31         227490      948777\n",
       "2017-06-30         218482     1019948\n",
       "2017-07-31         257006     1288365\n",
       "2017-08-31           5302       29351"
      ]
     },
     "execution_count": 101,
     "metadata": {},
     "output_type": "execute_result"
    }
   ],
   "source": [
    "# Get retweets and likes for each month\n",
    "\n",
    "tweet_month = twitter_clean.set_index('timestamp').groupby(pd.Grouper(freq='M'))[['retweet_count', 'like_count']].sum()\n",
    "tweet_month"
   ]
  },
  {
   "cell_type": "code",
   "execution_count": 102,
   "id": "1b0dd8bb",
   "metadata": {
    "scrolled": false
   },
   "outputs": [
    {
     "data": {
      "image/png": "[encoded data removed]",
      "text/plain": [
       "<Figure size 720x576 with 1 Axes>"
      ]
     },
     "metadata": {},
     "output_type": "display_data"
    }
   ],
   "source": [
    "# Strip timestamp and plot visuals with proper labels\n",
    "\n",
    "tweet_month.plot(kind='barh', alpha=0.6, width=0.2, color=('C2', 'C0'), figsize=(10,8))\n",
    "plt.title('Retweets & Likes over Time', fontsize=14)\n",
    "plt.ylabel('Date')\n",
    "plt.xlabel('Retweets & Likes')\n",
    "plt.ticklabel_format(axis='x', style='plain')\n",
    "plt.show();"
   ]
  },
  {
   "cell_type": "markdown",
   "id": "78dcecc4",
   "metadata": {},
   "source": [
    "Most likes were from August 2017 and most retweets were from Dec 2015 & Jan 2017.\n",
    "\n",
    "April 2016 had the least number of likes and retweets."
   ]
  },
  {
   "cell_type": "markdown",
   "id": "597f31a6",
   "metadata": {},
   "source": [
    "#### 7. Do tweets with higher scores (ratings) get better retweets and likes?"
   ]
  },
  {
   "cell_type": "markdown",
   "id": "6083883e",
   "metadata": {},
   "source": [
    "First, let us see the distribution of ratings"
   ]
  },
  {
   "cell_type": "code",
   "execution_count": 103,
   "id": "e7208265",
   "metadata": {
    "scrolled": true
   },
   "outputs": [
    {
     "data": {
      "image/png": "[encoded data removed]",
      "text/plain": [
       "<Figure size 360x288 with 1 Axes>"
      ]
     },
     "metadata": {},
     "output_type": "display_data"
    }
   ],
   "source": [
    "# Distribution of ratings\n",
    "\n",
    "plt.figure(figsize=(5,4))\n",
    "sns.countplot(data=twitter_clean, x='rating');"
   ]
  },
  {
   "cell_type": "markdown",
   "id": "0300c139",
   "metadata": {},
   "source": [
    "We see it is very skewed to the left and most dogs are scored `12/10`"
   ]
  },
  {
   "cell_type": "code",
   "execution_count": 104,
   "id": "cac8be19",
   "metadata": {},
   "outputs": [],
   "source": [
    "# Get retweets count and likes count for each rating\n",
    "\n",
    "ratings = (twitter_clean.groupby('rating')[['retweet_count', 'like_count']].sum())"
   ]
  },
  {
   "cell_type": "code",
   "execution_count": 105,
   "id": "6400a0a9",
   "metadata": {
    "scrolled": false
   },
   "outputs": [
    {
     "data": {
      "image/png": "[encoded data removed]",
      "text/plain": [
       "<Figure size 720x504 with 1 Axes>"
      ]
     },
     "metadata": {},
     "output_type": "display_data"
    }
   ],
   "source": [
    "# Plot distribution chart\n",
    "\n",
    "ratings.plot(kind='bar', alpha=0.8, width=0.5, color=('C1', 'C5'), figsize=(10,7))\n",
    "plt.title('Ratings Distribution based on Retweets & Likes', fontsize=14)\n",
    "plt.xlabel('Ratings')\n",
    "plt.ylabel('Retweets & Likes')\n",
    "plt.ticklabel_format(axis='y', style='plain')\n",
    "plt.show();"
   ]
  },
  {
   "cell_type": "markdown",
   "id": "1c2858d8",
   "metadata": {},
   "source": [
    "The likes and retweets increases with ratings score. We can also see that dogs with ratings score of `13/10` got the most retweets and likes followed by dogs with ratings score of `12/10`."
   ]
  },
  {
   "cell_type": "markdown",
   "id": "bcf09941",
   "metadata": {},
   "source": [
    "#### _Which dog is the most popular?_"
   ]
  },
  {
   "cell_type": "markdown",
   "id": "a54302d0",
   "metadata": {},
   "source": [
    "The dog with the most number of retweets and likes is the most popular"
   ]
  },
  {
   "cell_type": "code",
   "execution_count": 106,
   "id": "7ed4b3c9",
   "metadata": {},
   "outputs": [
    {
     "data": {
      "text/html": [
       "<div>\n",
       "<style scoped>\n",
       "    .dataframe tbody tr th:only-of-type {\n",
       "        vertical-align: middle;\n",
       "    }\n",
       "\n",
       "    .dataframe tbody tr th {\n",
       "        vertical-align: top;\n",
       "    }\n",
       "\n",
       "    .dataframe thead th {\n",
       "        text-align: right;\n",
       "    }\n",
       "</style>\n",
       "<table border=\"1\" class=\"dataframe\">\n",
       "  <thead>\n",
       "    <tr style=\"text-align: right;\">\n",
       "      <th></th>\n",
       "      <th>tweet_id</th>\n",
       "      <th>timestamp</th>\n",
       "      <th>source</th>\n",
       "      <th>text</th>\n",
       "      <th>rating</th>\n",
       "      <th>rating_denominator</th>\n",
       "      <th>name</th>\n",
       "      <th>dog_stage</th>\n",
       "      <th>retweet_count</th>\n",
       "      <th>like_count</th>\n",
       "      <th>jpg_url</th>\n",
       "      <th>dog_breed</th>\n",
       "      <th>percentage_conf</th>\n",
       "    </tr>\n",
       "  </thead>\n",
       "  <tbody>\n",
       "    <tr>\n",
       "      <th>680</th>\n",
       "      <td>744234799360020481</td>\n",
       "      <td>2016-06-18 18:26:18</td>\n",
       "      <td>Twitter for iPhone</td>\n",
       "      <td>Here's a doggo realizing you can stand in a po...</td>\n",
       "      <td>13</td>\n",
       "      <td>10</td>\n",
       "      <td>None</td>\n",
       "      <td>doggo</td>\n",
       "      <td>70807</td>\n",
       "      <td>145006</td>\n",
       "      <td>https://pbs.twimg.com/ext_tw_video_thumb/74423...</td>\n",
       "      <td>Labrador Retriever</td>\n",
       "      <td>82.5333</td>\n",
       "    </tr>\n",
       "  </tbody>\n",
       "</table>\n",
       "</div>"
      ],
      "text/plain": [
       "               tweet_id           timestamp              source  \\\n",
       "680  744234799360020481 2016-06-18 18:26:18  Twitter for iPhone   \n",
       "\n",
       "                                                  text  rating  \\\n",
       "680  Here's a doggo realizing you can stand in a po...      13   \n",
       "\n",
       "     rating_denominator  name dog_stage  retweet_count  like_count  \\\n",
       "680                  10  None     doggo          70807      145006   \n",
       "\n",
       "                                               jpg_url           dog_breed  \\\n",
       "680  https://pbs.twimg.com/ext_tw_video_thumb/74423...  Labrador Retriever   \n",
       "\n",
       "     percentage_conf  \n",
       "680          82.5333  "
      ]
     },
     "execution_count": 106,
     "metadata": {},
     "output_type": "execute_result"
    }
   ],
   "source": [
    "popular = twitter_clean.sort_values(['retweet_count', 'like_count'], ascending=[False, False])\n",
    "popular.head(1)"
   ]
  },
  {
   "cell_type": "markdown",
   "id": "59dbd6f6",
   "metadata": {},
   "source": [
    "Scoring  `13/10` with over 145,000 likes, and over 70,000 retweets, our most popular dog is a __`Labrador Retriever`__."
   ]
  },
  {
   "cell_type": "markdown",
   "id": "92efacf2",
   "metadata": {},
   "source": [
    "<a id='store'></a>\n",
    "## Storage"
   ]
  },
  {
   "cell_type": "code",
   "execution_count": 107,
   "id": "d20b9a9b",
   "metadata": {},
   "outputs": [],
   "source": [
    "# Save cleaned master DataFrame in a CSV file\n",
    "\n",
    "twitter_clean.to_csv('twitter_archive_master.csv', index=False)"
   ]
  },
  {
   "cell_type": "markdown",
   "id": "cb6013a2",
   "metadata": {},
   "source": [
    "<a id='conclusions'></a>\n",
    "## Conclusions\n",
    "\n",
    "> Our data was gathered from different sources, including manual download of archived tweets, programmatic download of image predictions flatfile and data pulled from Twitter API. The data was cleaned using the define, code and test steps and from our exploratory analysis:\n",
    "1. Retweets count and like counts are positively correlated which makes sense because a retweet will most likely have been liked in the first place.\n",
    "2. The two most common dog names are `Cooper` and `Charlie`.\n",
    "3. Majority of the tweets were made from iPhones. No analysis of the correlation with retweets and likes was deemed necessary because iPhones accounted for over 90% of tweet sources in our dataset.\n",
    "4. `Pupper` is the most retweeted and most liked dog stage.\n",
    "5. `Golden Retrievers` had the most likes and retweets followed by Labrador Retrievers, while Japanese Spaniels got the least number of likes and retweets\n",
    "6. Most likes were from August 2017 whereas most retweets were from Dec 2015 & Jan 2017. This could be because those are festive periods and dog owners would usually tweet colourful pictures of their dogs. Also occasional events for dogs such as 'BarkWeek' could also affect number of retweets and likes.\n",
    "7. Higher ratings had higher retweets and likes. Also, most dogs were scored `12/10` and the most popular dog is a `Labrador Retriever 'doggo'`.\n",
    "\n",
    "### Limitations\n",
    "> Albeit our primary focus was wrangling, a lot of incomplete data skewed off our analysis a bit and also, a larger dataset covering a wider time period would have provided more parameters for a better analysis.\n",
    "\n",
    "\n",
    "From our findings, the Golden Retriever is the most popular dog breed and majorly, factors such as __dog stage__ and __breed__ determined numbers of retweets and/or likes."
   ]
  }
 ],
 "metadata": {
  "kernelspec": {
   "display_name": "Python 3 (ipykernel)",
   "language": "python",
   "name": "python3"
  },
  "language_info": {
   "codemirror_mode": {
    "name": "ipython",
    "version": 3
   },
   "file_extension": ".py",
   "mimetype": "text/x-python",
   "name": "python",
   "nbconvert_exporter": "python",
   "pygments_lexer": "ipython3",
   "version": "3.9.12"
  }
 },
 "nbformat": 4,
 "nbformat_minor": 5
}
